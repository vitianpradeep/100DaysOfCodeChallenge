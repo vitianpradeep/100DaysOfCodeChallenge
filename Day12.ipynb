{
 "cells": [
  {
   "cell_type": "markdown",
   "metadata": {},
   "source": [
    "# ITA6017 Python Programming : Assignment No.2 "
   ]
  },
  {
   "cell_type": "markdown",
   "metadata": {},
   "source": [
    "# Pradeep Kumar 22MCA1049"
   ]
  },
  {
   "cell_type": "markdown",
   "metadata": {
    "vscode": {
     "languageId": "plaintext"
    }
   },
   "source": [
    "## 1. Make a program that asks the number between 1 and 10. If the number is out of range the program should display “invalid number”."
   ]
  },
  {
   "cell_type": "code",
   "execution_count": 3,
   "metadata": {
    "vscode": {
     "languageId": "plaintext"
    }
   },
   "outputs": [
    {
     "name": "stdout",
     "output_type": "stream",
     "text": [
      "Pradeep Kumar 22MCA1049\n",
      "Enter Number between 1 to 10 : 55\n",
      "Invalid Number\n"
     ]
    }
   ],
   "source": [
    "print(\"Pradeep Kumar 22MCA1049\")\n",
    "print(\"\\n\")\n",
    "num = int(input(\"Enter Number between 1 to 10 : \"))\n",
    "\n",
    "if num<1 or num>10:\n",
    "    print(\"Invalid Number\")\n",
    "else:\n",
    "    print(\"Valid Number\")"
   ]
  },
  {
   "cell_type": "markdown",
   "metadata": {
    "vscode": {
     "languageId": "plaintext"
    }
   },
   "source": [
    "## 2. Make a program that lists the countries in the set clist = ['Canada','USA','Mexico','Australia']"
   ]
  },
  {
   "cell_type": "code",
   "execution_count": 9,
   "metadata": {},
   "outputs": [
    {
     "name": "stdout",
     "output_type": "stream",
     "text": [
      "Pradeep Kumar 22MCA1049\n",
      "\n",
      "\n",
      "List of Countries is : \n",
      " ['Canada', 'USA', 'Mexico', 'Australia']\n"
     ]
    }
   ],
   "source": [
    "print(\"Pradeep Kumar 22MCA1049\")\n",
    "print(\"\\n\")\n",
    "list = ['Canada','USA','Mexico','Australia']\n",
    "print(\"List of Countries is : \\n\",list)"
   ]
  },
  {
   "cell_type": "markdown",
   "metadata": {},
   "source": [
    "## 3. Create a loop that counts from 0 to 100"
   ]
  },
  {
   "cell_type": "code",
   "execution_count": 14,
   "metadata": {},
   "outputs": [
    {
     "name": "stdout",
     "output_type": "stream",
     "text": [
      "Pradeep Kumar 22MCA1049 \n",
      "\n",
      "Counting of numbers from 1 to 100 is :\n",
      "\n",
      "1 2 3 4 5 6 7 8 9 10 11 12 13 14 15 16 17 18 19 20 21 22 23 24 25 26 27 28 29 30 31 32 33 34 35 36 37 38 39 40 41 42 43 44 45 46 47 48 49 50 51 52 53 54 55 56 57 58 59 60 61 62 63 64 65 66 67 68 69 70 71 72 73 74 75 76 77 78 79 80 81 82 83 84 85 86 87 88 89 90 91 92 93 94 95 96 97 98 99 100 "
     ]
    }
   ],
   "source": [
    "print(\"Pradeep Kumar 22MCA1049 \\n\")\n",
    "print(\"Counting of numbers from 1 to 100 is :\\n\")\n",
    "for i in range (1,101):\n",
    "    print(i,end=\" \")"
   ]
  },
  {
   "cell_type": "markdown",
   "metadata": {},
   "source": [
    "## 4. Make a multiplication table using a loop "
   ]
  },
  {
   "cell_type": "code",
   "execution_count": 19,
   "metadata": {},
   "outputs": [
    {
     "name": "stdout",
     "output_type": "stream",
     "text": [
      "Enter number to generate table of that number : 6\n",
      "Table of 6 is : \n",
      "\n",
      "6\n",
      "12\n",
      "18\n",
      "24\n",
      "30\n",
      "36\n",
      "42\n",
      "48\n",
      "54\n",
      "60\n"
     ]
    }
   ],
   "source": [
    "print(\"Pradeep Kumar 22MCA1049\")\n",
    "print(\"\\n\")\n",
    "i =1\n",
    "table = int(input(\"Enter number to generate table of that number : \"))\n",
    "print(\"Table of\",table ,\"is : \\n\")\n",
    "for i in range (1,11):\n",
    "    print (i*table)"
   ]
  },
  {
   "cell_type": "markdown",
   "metadata": {},
   "source": [
    "## 5. Output the numbers 1 to 10 backwards using a loop "
   ]
  },
  {
   "cell_type": "code",
   "execution_count": 36,
   "metadata": {},
   "outputs": [
    {
     "name": "stdout",
     "output_type": "stream",
     "text": [
      "Pradeep Kumar 22MCA1049\n",
      "\n",
      "\n",
      "Numbers in forward order from 1 to 10 is : \n",
      "1 2 3 4 5 6 7 8 9 10 \n",
      "Numbers in backwards order from 10 to 1 is : \n",
      "10 9 8 7 6 5 4 3 2 1 "
     ]
    }
   ],
   "source": [
    "print(\"Pradeep Kumar 22MCA1049\")\n",
    "print(\"\\n\")\n",
    "print(\"Numbers in forward order from 1 to 10 is : \")\n",
    "i = 1\n",
    "for i in range(1,11):\n",
    "    print(i, end=\" \")\n",
    "    \n",
    "print(\"\\nNumbers in backwards order from 10 to 1 is : \")\n",
    "j=1\n",
    "for j in range(10,0,-1):\n",
    "    print(j, end = \" \")"
   ]
  }
 ],
 "metadata": {
  "kernelspec": {
   "display_name": "Python 3 (ipykernel)",
   "language": "python",
   "name": "python3"
  },
  "language_info": {
   "codemirror_mode": {
    "name": "ipython",
    "version": 3
   },
   "file_extension": ".py",
   "mimetype": "text/x-python",
   "name": "python",
   "nbconvert_exporter": "python",
   "pygments_lexer": "ipython3",
   "version": "3.9.13"
  }
 },
 "nbformat": 4,
 "nbformat_minor": 2
}
