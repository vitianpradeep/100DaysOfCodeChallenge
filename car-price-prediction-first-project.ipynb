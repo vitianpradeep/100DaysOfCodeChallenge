{
 "cells": [
  {
   "cell_type": "markdown",
   "id": "8c18bb82",
   "metadata": {
    "_cell_guid": "b1076dfc-b9ad-4769-8c92-a6c4dae69d19",
    "_uuid": "8f2839f25d086af736a60e9eeb907d3b93b6e0e5",
    "papermill": {
     "duration": 0.017602,
     "end_time": "2023-05-25T13:54:12.767943",
     "exception": false,
     "start_time": "2023-05-25T13:54:12.750341",
     "status": "completed"
    },
    "tags": []
   },
   "source": [
    "# It is a project on Car Price Prediction based on previous data"
   ]
  },
  {
   "cell_type": "code",
   "execution_count": 1,
   "id": "dad4860c",
   "metadata": {
    "execution": {
     "iopub.execute_input": "2023-05-25T13:54:12.804352Z",
     "iopub.status.busy": "2023-05-25T13:54:12.803476Z",
     "iopub.status.idle": "2023-05-25T13:54:12.816207Z",
     "shell.execute_reply": "2023-05-25T13:54:12.814705Z"
    },
    "papermill": {
     "duration": 0.034066,
     "end_time": "2023-05-25T13:54:12.818973",
     "exception": false,
     "start_time": "2023-05-25T13:54:12.784907",
     "status": "completed"
    },
    "tags": []
   },
   "outputs": [],
   "source": [
    "import numpy as np\n",
    "import pandas as pd"
   ]
  },
  {
   "cell_type": "code",
   "execution_count": 2,
   "id": "439cec52",
   "metadata": {
    "execution": {
     "iopub.execute_input": "2023-05-25T13:54:12.856764Z",
     "iopub.status.busy": "2023-05-25T13:54:12.855810Z",
     "iopub.status.idle": "2023-05-25T13:54:12.883076Z",
     "shell.execute_reply": "2023-05-25T13:54:12.881841Z"
    },
    "papermill": {
     "duration": 0.049847,
     "end_time": "2023-05-25T13:54:12.886669",
     "exception": false,
     "start_time": "2023-05-25T13:54:12.836822",
     "status": "completed"
    },
    "tags": []
   },
   "outputs": [],
   "source": [
    "car =  pd.read_csv(r\"/kaggle/input/quikr-carcsv/quikr_car.csv\")"
   ]
  },
  {
   "cell_type": "code",
   "execution_count": 3,
   "id": "3ab78348",
   "metadata": {
    "execution": {
     "iopub.execute_input": "2023-05-25T13:54:12.925991Z",
     "iopub.status.busy": "2023-05-25T13:54:12.925074Z",
     "iopub.status.idle": "2023-05-25T13:54:12.970493Z",
     "shell.execute_reply": "2023-05-25T13:54:12.969378Z"
    },
    "papermill": {
     "duration": 0.068643,
     "end_time": "2023-05-25T13:54:12.973728",
     "exception": false,
     "start_time": "2023-05-25T13:54:12.905085",
     "status": "completed"
    },
    "tags": []
   },
   "outputs": [
    {
     "data": {
      "text/html": [
       "<div>\n",
       "<style scoped>\n",
       "    .dataframe tbody tr th:only-of-type {\n",
       "        vertical-align: middle;\n",
       "    }\n",
       "\n",
       "    .dataframe tbody tr th {\n",
       "        vertical-align: top;\n",
       "    }\n",
       "\n",
       "    .dataframe thead th {\n",
       "        text-align: right;\n",
       "    }\n",
       "</style>\n",
       "<table border=\"1\" class=\"dataframe\">\n",
       "  <thead>\n",
       "    <tr style=\"text-align: right;\">\n",
       "      <th></th>\n",
       "      <th>name</th>\n",
       "      <th>company</th>\n",
       "      <th>year</th>\n",
       "      <th>Price</th>\n",
       "      <th>kms_driven</th>\n",
       "      <th>fuel_type</th>\n",
       "    </tr>\n",
       "  </thead>\n",
       "  <tbody>\n",
       "    <tr>\n",
       "      <th>0</th>\n",
       "      <td>Hyundai Santro Xing XO eRLX Euro III</td>\n",
       "      <td>Hyundai</td>\n",
       "      <td>2007</td>\n",
       "      <td>80,000</td>\n",
       "      <td>45,000 kms</td>\n",
       "      <td>Petrol</td>\n",
       "    </tr>\n",
       "    <tr>\n",
       "      <th>1</th>\n",
       "      <td>Mahindra Jeep CL550 MDI</td>\n",
       "      <td>Mahindra</td>\n",
       "      <td>2006</td>\n",
       "      <td>4,25,000</td>\n",
       "      <td>40 kms</td>\n",
       "      <td>Diesel</td>\n",
       "    </tr>\n",
       "    <tr>\n",
       "      <th>2</th>\n",
       "      <td>Maruti Suzuki Alto 800 Vxi</td>\n",
       "      <td>Maruti</td>\n",
       "      <td>2018</td>\n",
       "      <td>Ask For Price</td>\n",
       "      <td>22,000 kms</td>\n",
       "      <td>Petrol</td>\n",
       "    </tr>\n",
       "    <tr>\n",
       "      <th>3</th>\n",
       "      <td>Hyundai Grand i10 Magna 1.2 Kappa VTVT</td>\n",
       "      <td>Hyundai</td>\n",
       "      <td>2014</td>\n",
       "      <td>3,25,000</td>\n",
       "      <td>28,000 kms</td>\n",
       "      <td>Petrol</td>\n",
       "    </tr>\n",
       "    <tr>\n",
       "      <th>4</th>\n",
       "      <td>Ford EcoSport Titanium 1.5L TDCi</td>\n",
       "      <td>Ford</td>\n",
       "      <td>2014</td>\n",
       "      <td>5,75,000</td>\n",
       "      <td>36,000 kms</td>\n",
       "      <td>Diesel</td>\n",
       "    </tr>\n",
       "  </tbody>\n",
       "</table>\n",
       "</div>"
      ],
      "text/plain": [
       "                                     name   company  year          Price  \\\n",
       "0    Hyundai Santro Xing XO eRLX Euro III   Hyundai  2007         80,000   \n",
       "1                 Mahindra Jeep CL550 MDI  Mahindra  2006       4,25,000   \n",
       "2              Maruti Suzuki Alto 800 Vxi    Maruti  2018  Ask For Price   \n",
       "3  Hyundai Grand i10 Magna 1.2 Kappa VTVT   Hyundai  2014       3,25,000   \n",
       "4        Ford EcoSport Titanium 1.5L TDCi      Ford  2014       5,75,000   \n",
       "\n",
       "   kms_driven fuel_type  \n",
       "0  45,000 kms    Petrol  \n",
       "1      40 kms    Diesel  \n",
       "2  22,000 kms    Petrol  \n",
       "3  28,000 kms    Petrol  \n",
       "4  36,000 kms    Diesel  "
      ]
     },
     "execution_count": 3,
     "metadata": {},
     "output_type": "execute_result"
    }
   ],
   "source": [
    "car.head()"
   ]
  },
  {
   "cell_type": "code",
   "execution_count": 4,
   "id": "63721500",
   "metadata": {
    "execution": {
     "iopub.execute_input": "2023-05-25T13:54:13.012854Z",
     "iopub.status.busy": "2023-05-25T13:54:13.012115Z",
     "iopub.status.idle": "2023-05-25T13:54:13.019880Z",
     "shell.execute_reply": "2023-05-25T13:54:13.018601Z"
    },
    "papermill": {
     "duration": 0.031069,
     "end_time": "2023-05-25T13:54:13.022491",
     "exception": false,
     "start_time": "2023-05-25T13:54:12.991422",
     "status": "completed"
    },
    "tags": []
   },
   "outputs": [
    {
     "data": {
      "text/plain": [
       "(892, 6)"
      ]
     },
     "execution_count": 4,
     "metadata": {},
     "output_type": "execute_result"
    }
   ],
   "source": [
    "car.shape"
   ]
  },
  {
   "cell_type": "code",
   "execution_count": 5,
   "id": "5a358586",
   "metadata": {
    "execution": {
     "iopub.execute_input": "2023-05-25T13:54:13.060416Z",
     "iopub.status.busy": "2023-05-25T13:54:13.059642Z",
     "iopub.status.idle": "2023-05-25T13:54:13.097304Z",
     "shell.execute_reply": "2023-05-25T13:54:13.095613Z"
    },
    "papermill": {
     "duration": 0.05992,
     "end_time": "2023-05-25T13:54:13.100426",
     "exception": false,
     "start_time": "2023-05-25T13:54:13.040506",
     "status": "completed"
    },
    "tags": []
   },
   "outputs": [
    {
     "name": "stdout",
     "output_type": "stream",
     "text": [
      "<class 'pandas.core.frame.DataFrame'>\n",
      "RangeIndex: 892 entries, 0 to 891\n",
      "Data columns (total 6 columns):\n",
      " #   Column      Non-Null Count  Dtype \n",
      "---  ------      --------------  ----- \n",
      " 0   name        892 non-null    object\n",
      " 1   company     892 non-null    object\n",
      " 2   year        892 non-null    object\n",
      " 3   Price       892 non-null    object\n",
      " 4   kms_driven  840 non-null    object\n",
      " 5   fuel_type   837 non-null    object\n",
      "dtypes: object(6)\n",
      "memory usage: 41.9+ KB\n"
     ]
    }
   ],
   "source": [
    "car.info()"
   ]
  },
  {
   "cell_type": "markdown",
   "id": "3cdb5605",
   "metadata": {
    "papermill": {
     "duration": 0.016447,
     "end_time": "2023-05-25T13:54:13.133815",
     "exception": false,
     "start_time": "2023-05-25T13:54:13.117368",
     "status": "completed"
    },
    "tags": []
   },
   "source": [
    "## Now first we have to clean the data"
   ]
  },
  {
   "cell_type": "code",
   "execution_count": 6,
   "id": "5fddf492",
   "metadata": {
    "execution": {
     "iopub.execute_input": "2023-05-25T13:54:13.171347Z",
     "iopub.status.busy": "2023-05-25T13:54:13.170521Z",
     "iopub.status.idle": "2023-05-25T13:54:13.179379Z",
     "shell.execute_reply": "2023-05-25T13:54:13.177843Z"
    },
    "papermill": {
     "duration": 0.031782,
     "end_time": "2023-05-25T13:54:13.182549",
     "exception": false,
     "start_time": "2023-05-25T13:54:13.150767",
     "status": "completed"
    },
    "tags": []
   },
   "outputs": [
    {
     "data": {
      "text/plain": [
       "array(['2007', '2006', '2018', '2014', '2015', '2012', '2013', '2016',\n",
       "       '2010', '2017', '2008', '2011', '2019', '2009', '2005', '2000',\n",
       "       '...', '150k', 'TOUR', '2003', 'r 15', '2004', 'Zest', '/-Rs',\n",
       "       'sale', '1995', 'ara)', '2002', 'SELL', '2001', 'tion', 'odel',\n",
       "       '2 bs', 'arry', 'Eon', 'o...', 'ture', 'emi', 'car', 'able', 'no.',\n",
       "       'd...', 'SALE', 'digo', 'sell', 'd Ex', 'n...', 'e...', 'D...',\n",
       "       ', Ac', 'go .', 'k...', 'o c4', 'zire', 'cent', 'Sumo', 'cab',\n",
       "       't xe', 'EV2', 'r...', 'zest'], dtype=object)"
      ]
     },
     "execution_count": 6,
     "metadata": {},
     "output_type": "execute_result"
    }
   ],
   "source": [
    "car['year'].unique()"
   ]
  },
  {
   "cell_type": "code",
   "execution_count": 7,
   "id": "d3016b26",
   "metadata": {
    "execution": {
     "iopub.execute_input": "2023-05-25T13:54:13.223472Z",
     "iopub.status.busy": "2023-05-25T13:54:13.222516Z",
     "iopub.status.idle": "2023-05-25T13:54:13.232555Z",
     "shell.execute_reply": "2023-05-25T13:54:13.231128Z"
    },
    "papermill": {
     "duration": 0.034456,
     "end_time": "2023-05-25T13:54:13.235763",
     "exception": false,
     "start_time": "2023-05-25T13:54:13.201307",
     "status": "completed"
    },
    "tags": []
   },
   "outputs": [
    {
     "data": {
      "text/plain": [
       "array(['80,000', '4,25,000', 'Ask For Price', '3,25,000', '5,75,000',\n",
       "       '1,75,000', '1,90,000', '8,30,000', '2,50,000', '1,82,000',\n",
       "       '3,15,000', '4,15,000', '3,20,000', '10,00,000', '5,00,000',\n",
       "       '3,50,000', '1,60,000', '3,10,000', '75,000', '1,00,000',\n",
       "       '2,90,000', '95,000', '1,80,000', '3,85,000', '1,05,000',\n",
       "       '6,50,000', '6,89,999', '4,48,000', '5,49,000', '5,01,000',\n",
       "       '4,89,999', '2,80,000', '3,49,999', '2,84,999', '3,45,000',\n",
       "       '4,99,999', '2,35,000', '2,49,999', '14,75,000', '3,95,000',\n",
       "       '2,20,000', '1,70,000', '85,000', '2,00,000', '5,70,000',\n",
       "       '1,10,000', '4,48,999', '18,91,111', '1,59,500', '3,44,999',\n",
       "       '4,49,999', '8,65,000', '6,99,000', '3,75,000', '2,24,999',\n",
       "       '12,00,000', '1,95,000', '3,51,000', '2,40,000', '90,000',\n",
       "       '1,55,000', '6,00,000', '1,89,500', '2,10,000', '3,90,000',\n",
       "       '1,35,000', '16,00,000', '7,01,000', '2,65,000', '5,25,000',\n",
       "       '3,72,000', '6,35,000', '5,50,000', '4,85,000', '3,29,500',\n",
       "       '2,51,111', '5,69,999', '69,999', '2,99,999', '3,99,999',\n",
       "       '4,50,000', '2,70,000', '1,58,400', '1,79,000', '1,25,000',\n",
       "       '2,99,000', '1,50,000', '2,75,000', '2,85,000', '3,40,000',\n",
       "       '70,000', '2,89,999', '8,49,999', '7,49,999', '2,74,999',\n",
       "       '9,84,999', '5,99,999', '2,44,999', '4,74,999', '2,45,000',\n",
       "       '1,69,500', '3,70,000', '1,68,000', '1,45,000', '98,500',\n",
       "       '2,09,000', '1,85,000', '9,00,000', '6,99,999', '1,99,999',\n",
       "       '5,44,999', '1,99,000', '5,40,000', '49,000', '7,00,000', '55,000',\n",
       "       '8,95,000', '3,55,000', '5,65,000', '3,65,000', '40,000',\n",
       "       '4,00,000', '3,30,000', '5,80,000', '3,79,000', '2,19,000',\n",
       "       '5,19,000', '7,30,000', '20,00,000', '21,00,000', '14,00,000',\n",
       "       '3,11,000', '8,55,000', '5,35,000', '1,78,000', '3,00,000',\n",
       "       '2,55,000', '5,49,999', '3,80,000', '57,000', '4,10,000',\n",
       "       '2,25,000', '1,20,000', '59,000', '5,99,000', '6,75,000', '72,500',\n",
       "       '6,10,000', '2,30,000', '5,20,000', '5,24,999', '4,24,999',\n",
       "       '6,44,999', '5,84,999', '7,99,999', '4,44,999', '6,49,999',\n",
       "       '9,44,999', '5,74,999', '3,74,999', '1,30,000', '4,01,000',\n",
       "       '13,50,000', '1,74,999', '2,39,999', '99,999', '3,24,999',\n",
       "       '10,74,999', '11,30,000', '1,49,000', '7,70,000', '30,000',\n",
       "       '3,35,000', '3,99,000', '65,000', '1,69,999', '1,65,000',\n",
       "       '5,60,000', '9,50,000', '7,15,000', '45,000', '9,40,000',\n",
       "       '1,55,555', '15,00,000', '4,95,000', '8,00,000', '12,99,000',\n",
       "       '5,30,000', '14,99,000', '32,000', '4,05,000', '7,60,000',\n",
       "       '7,50,000', '4,19,000', '1,40,000', '15,40,000', '1,23,000',\n",
       "       '4,98,000', '4,80,000', '4,88,000', '15,25,000', '5,48,900',\n",
       "       '7,25,000', '99,000', '52,000', '28,00,000', '4,99,000',\n",
       "       '3,81,000', '2,78,000', '6,90,000', '2,60,000', '90,001',\n",
       "       '1,15,000', '15,99,000', '1,59,000', '51,999', '2,15,000',\n",
       "       '35,000', '11,50,000', '2,69,000', '60,000', '4,30,000',\n",
       "       '85,00,003', '4,01,919', '4,90,000', '4,24,000', '2,05,000',\n",
       "       '5,49,900', '3,71,500', '4,35,000', '1,89,700', '3,89,700',\n",
       "       '3,60,000', '2,95,000', '1,14,990', '10,65,000', '4,70,000',\n",
       "       '48,000', '1,88,000', '4,65,000', '1,79,999', '21,90,000',\n",
       "       '23,90,000', '10,75,000', '4,75,000', '10,25,000', '6,15,000',\n",
       "       '19,00,000', '14,90,000', '15,10,000', '18,50,000', '7,90,000',\n",
       "       '17,25,000', '12,25,000', '68,000', '9,70,000', '31,00,000',\n",
       "       '8,99,000', '88,000', '53,000', '5,68,500', '71,000', '5,90,000',\n",
       "       '7,95,000', '42,000', '1,89,000', '1,62,000', '35,999',\n",
       "       '29,00,000', '39,999', '50,500', '5,10,000', '8,60,000',\n",
       "       '5,00,001'], dtype=object)"
      ]
     },
     "execution_count": 7,
     "metadata": {},
     "output_type": "execute_result"
    }
   ],
   "source": [
    "car['Price'].unique()"
   ]
  },
  {
   "cell_type": "markdown",
   "id": "4d206210",
   "metadata": {
    "papermill": {
     "duration": 0.017456,
     "end_time": "2023-05-25T13:54:13.270922",
     "exception": false,
     "start_time": "2023-05-25T13:54:13.253466",
     "status": "completed"
    },
    "tags": []
   },
   "source": [
    "## Quality\n",
    "- Year has many non year values\n",
    "-Ask for price in year column\n",
    "in price, commas are also, we have to remove them or we have to convert object to integers\n",
    "-kms_driven has with kms integers\n",
    "-has nan values in kms_driven\n",
    "-fueltype has nan values\n",
    "-we have to convert name into fully categarical data\n",
    "-keep first 3 word of the name"
   ]
  },
  {
   "cell_type": "markdown",
   "id": "3947cf9c",
   "metadata": {
    "papermill": {
     "duration": 0.017106,
     "end_time": "2023-05-25T13:54:13.305365",
     "exception": false,
     "start_time": "2023-05-25T13:54:13.288259",
     "status": "completed"
    },
    "tags": []
   },
   "source": [
    "## Data Cleaning"
   ]
  },
  {
   "cell_type": "code",
   "execution_count": 8,
   "id": "14e73a04",
   "metadata": {
    "execution": {
     "iopub.execute_input": "2023-05-25T13:54:13.344546Z",
     "iopub.status.busy": "2023-05-25T13:54:13.344066Z",
     "iopub.status.idle": "2023-05-25T13:54:13.350786Z",
     "shell.execute_reply": "2023-05-25T13:54:13.349340Z"
    },
    "papermill": {
     "duration": 0.030763,
     "end_time": "2023-05-25T13:54:13.354002",
     "exception": false,
     "start_time": "2023-05-25T13:54:13.323239",
     "status": "completed"
    },
    "tags": []
   },
   "outputs": [],
   "source": [
    "backup=car.copy() # for backup copy of our original data"
   ]
  },
  {
   "cell_type": "code",
   "execution_count": 9,
   "id": "365f429e",
   "metadata": {
    "execution": {
     "iopub.execute_input": "2023-05-25T13:54:13.391792Z",
     "iopub.status.busy": "2023-05-25T13:54:13.391356Z",
     "iopub.status.idle": "2023-05-25T13:54:13.403805Z",
     "shell.execute_reply": "2023-05-25T13:54:13.402425Z"
    },
    "papermill": {
     "duration": 0.03534,
     "end_time": "2023-05-25T13:54:13.407044",
     "exception": false,
     "start_time": "2023-05-25T13:54:13.371704",
     "status": "completed"
    },
    "tags": []
   },
   "outputs": [
    {
     "data": {
      "text/plain": [
       "0      2007\n",
       "1      2006\n",
       "2      2018\n",
       "3      2014\n",
       "4      2014\n",
       "       ... \n",
       "887    zest\n",
       "888    2018\n",
       "889    2013\n",
       "890    2014\n",
       "891    2014\n",
       "Name: year, Length: 892, dtype: object"
      ]
     },
     "execution_count": 9,
     "metadata": {},
     "output_type": "execute_result"
    }
   ],
   "source": [
    "car['year']"
   ]
  },
  {
   "cell_type": "code",
   "execution_count": 10,
   "id": "3e681295",
   "metadata": {
    "execution": {
     "iopub.execute_input": "2023-05-25T13:54:13.447335Z",
     "iopub.status.busy": "2023-05-25T13:54:13.446763Z",
     "iopub.status.idle": "2023-05-25T13:54:13.456013Z",
     "shell.execute_reply": "2023-05-25T13:54:13.454773Z"
    },
    "papermill": {
     "duration": 0.033253,
     "end_time": "2023-05-25T13:54:13.458799",
     "exception": false,
     "start_time": "2023-05-25T13:54:13.425546",
     "status": "completed"
    },
    "tags": []
   },
   "outputs": [],
   "source": [
    "car = car[car['year'].str.isnumeric()]"
   ]
  },
  {
   "cell_type": "code",
   "execution_count": 11,
   "id": "6698d7ca",
   "metadata": {
    "execution": {
     "iopub.execute_input": "2023-05-25T13:54:13.498098Z",
     "iopub.status.busy": "2023-05-25T13:54:13.497603Z",
     "iopub.status.idle": "2023-05-25T13:54:13.506357Z",
     "shell.execute_reply": "2023-05-25T13:54:13.504879Z"
    },
    "papermill": {
     "duration": 0.030818,
     "end_time": "2023-05-25T13:54:13.509214",
     "exception": false,
     "start_time": "2023-05-25T13:54:13.478396",
     "status": "completed"
    },
    "tags": []
   },
   "outputs": [],
   "source": [
    "car['year']=car['year'].astype(int)"
   ]
  },
  {
   "cell_type": "code",
   "execution_count": 12,
   "id": "28187586",
   "metadata": {
    "execution": {
     "iopub.execute_input": "2023-05-25T13:54:13.547396Z",
     "iopub.status.busy": "2023-05-25T13:54:13.546564Z",
     "iopub.status.idle": "2023-05-25T13:54:13.564973Z",
     "shell.execute_reply": "2023-05-25T13:54:13.563294Z"
    },
    "papermill": {
     "duration": 0.041267,
     "end_time": "2023-05-25T13:54:13.568311",
     "exception": false,
     "start_time": "2023-05-25T13:54:13.527044",
     "status": "completed"
    },
    "tags": []
   },
   "outputs": [
    {
     "name": "stdout",
     "output_type": "stream",
     "text": [
      "<class 'pandas.core.frame.DataFrame'>\n",
      "Int64Index: 842 entries, 0 to 891\n",
      "Data columns (total 6 columns):\n",
      " #   Column      Non-Null Count  Dtype \n",
      "---  ------      --------------  ----- \n",
      " 0   name        842 non-null    object\n",
      " 1   company     842 non-null    object\n",
      " 2   year        842 non-null    int64 \n",
      " 3   Price       842 non-null    object\n",
      " 4   kms_driven  840 non-null    object\n",
      " 5   fuel_type   837 non-null    object\n",
      "dtypes: int64(1), object(5)\n",
      "memory usage: 46.0+ KB\n"
     ]
    }
   ],
   "source": [
    "car.info()"
   ]
  },
  {
   "cell_type": "markdown",
   "id": "7c8db6df",
   "metadata": {
    "papermill": {
     "duration": 0.018334,
     "end_time": "2023-05-25T13:54:13.605938",
     "exception": false,
     "start_time": "2023-05-25T13:54:13.587604",
     "status": "completed"
    },
    "tags": []
   },
   "source": [
    "Ask for price in year column in price, commas are also, we have to remove them or we have to convert object to integers"
   ]
  },
  {
   "cell_type": "code",
   "execution_count": 13,
   "id": "1d4600ec",
   "metadata": {
    "execution": {
     "iopub.execute_input": "2023-05-25T13:54:13.645327Z",
     "iopub.status.busy": "2023-05-25T13:54:13.644809Z",
     "iopub.status.idle": "2023-05-25T13:54:13.652600Z",
     "shell.execute_reply": "2023-05-25T13:54:13.651151Z"
    },
    "papermill": {
     "duration": 0.030354,
     "end_time": "2023-05-25T13:54:13.655828",
     "exception": false,
     "start_time": "2023-05-25T13:54:13.625474",
     "status": "completed"
    },
    "tags": []
   },
   "outputs": [],
   "source": [
    "car = car[car['Price']!=\"Ask For Price\"]"
   ]
  },
  {
   "cell_type": "markdown",
   "id": "1b1f4441",
   "metadata": {
    "papermill": {
     "duration": 0.018133,
     "end_time": "2023-05-25T13:54:13.692634",
     "exception": false,
     "start_time": "2023-05-25T13:54:13.674501",
     "status": "completed"
    },
    "tags": []
   },
   "source": [
    "###### ','to ''"
   ]
  },
  {
   "cell_type": "code",
   "execution_count": 14,
   "id": "9f882151",
   "metadata": {
    "execution": {
     "iopub.execute_input": "2023-05-25T13:54:13.731254Z",
     "iopub.status.busy": "2023-05-25T13:54:13.730784Z",
     "iopub.status.idle": "2023-05-25T13:54:13.740294Z",
     "shell.execute_reply": "2023-05-25T13:54:13.738636Z"
    },
    "papermill": {
     "duration": 0.03273,
     "end_time": "2023-05-25T13:54:13.743437",
     "exception": false,
     "start_time": "2023-05-25T13:54:13.710707",
     "status": "completed"
    },
    "tags": []
   },
   "outputs": [],
   "source": [
    "car['Price'] = car['Price'].str.replace(',','').astype(int)"
   ]
  },
  {
   "cell_type": "markdown",
   "id": "8e72997c",
   "metadata": {
    "papermill": {
     "duration": 0.017227,
     "end_time": "2023-05-25T13:54:13.778138",
     "exception": false,
     "start_time": "2023-05-25T13:54:13.760911",
     "status": "completed"
    },
    "tags": []
   },
   "source": [
    "##### kms_driven has with kms integers"
   ]
  },
  {
   "cell_type": "code",
   "execution_count": 15,
   "id": "a06a5f8d",
   "metadata": {
    "execution": {
     "iopub.execute_input": "2023-05-25T13:54:13.816529Z",
     "iopub.status.busy": "2023-05-25T13:54:13.816100Z",
     "iopub.status.idle": "2023-05-25T13:54:13.826387Z",
     "shell.execute_reply": "2023-05-25T13:54:13.824923Z"
    },
    "papermill": {
     "duration": 0.033671,
     "end_time": "2023-05-25T13:54:13.829204",
     "exception": false,
     "start_time": "2023-05-25T13:54:13.795533",
     "status": "completed"
    },
    "tags": []
   },
   "outputs": [
    {
     "data": {
      "text/plain": [
       "0        45,000 kms\n",
       "1            40 kms\n",
       "3        28,000 kms\n",
       "4        36,000 kms\n",
       "6        41,000 kms\n",
       "           ...     \n",
       "886    1,32,000 kms\n",
       "888      27,000 kms\n",
       "889      40,000 kms\n",
       "890          Petrol\n",
       "891          Petrol\n",
       "Name: kms_driven, Length: 819, dtype: object"
      ]
     },
     "execution_count": 15,
     "metadata": {},
     "output_type": "execute_result"
    }
   ],
   "source": [
    "car['kms_driven']"
   ]
  },
  {
   "cell_type": "code",
   "execution_count": 16,
   "id": "7f6c6e13",
   "metadata": {
    "execution": {
     "iopub.execute_input": "2023-05-25T13:54:13.868718Z",
     "iopub.status.busy": "2023-05-25T13:54:13.867443Z",
     "iopub.status.idle": "2023-05-25T13:54:13.879604Z",
     "shell.execute_reply": "2023-05-25T13:54:13.877895Z"
    },
    "papermill": {
     "duration": 0.034736,
     "end_time": "2023-05-25T13:54:13.882612",
     "exception": false,
     "start_time": "2023-05-25T13:54:13.847876",
     "status": "completed"
    },
    "tags": []
   },
   "outputs": [],
   "source": [
    "car['kms_driven'] = car['kms_driven'].str.split(' ').str.get(0).str.replace(',','') #after spliting, we keep first part and replace comma with no space"
   ]
  },
  {
   "cell_type": "code",
   "execution_count": 17,
   "id": "d6d6ef01",
   "metadata": {
    "execution": {
     "iopub.execute_input": "2023-05-25T13:54:13.920948Z",
     "iopub.status.busy": "2023-05-25T13:54:13.920443Z",
     "iopub.status.idle": "2023-05-25T13:54:13.929602Z",
     "shell.execute_reply": "2023-05-25T13:54:13.928193Z"
    },
    "papermill": {
     "duration": 0.031599,
     "end_time": "2023-05-25T13:54:13.932632",
     "exception": false,
     "start_time": "2023-05-25T13:54:13.901033",
     "status": "completed"
    },
    "tags": []
   },
   "outputs": [],
   "source": [
    "car = car[car['kms_driven'].str.isnumeric()]"
   ]
  },
  {
   "cell_type": "code",
   "execution_count": 18,
   "id": "7e965d5b",
   "metadata": {
    "execution": {
     "iopub.execute_input": "2023-05-25T13:54:13.970900Z",
     "iopub.status.busy": "2023-05-25T13:54:13.970430Z",
     "iopub.status.idle": "2023-05-25T13:54:13.988452Z",
     "shell.execute_reply": "2023-05-25T13:54:13.986612Z"
    },
    "papermill": {
     "duration": 0.041446,
     "end_time": "2023-05-25T13:54:13.991982",
     "exception": false,
     "start_time": "2023-05-25T13:54:13.950536",
     "status": "completed"
    },
    "tags": []
   },
   "outputs": [
    {
     "name": "stdout",
     "output_type": "stream",
     "text": [
      "<class 'pandas.core.frame.DataFrame'>\n",
      "Int64Index: 817 entries, 0 to 889\n",
      "Data columns (total 6 columns):\n",
      " #   Column      Non-Null Count  Dtype \n",
      "---  ------      --------------  ----- \n",
      " 0   name        817 non-null    object\n",
      " 1   company     817 non-null    object\n",
      " 2   year        817 non-null    int64 \n",
      " 3   Price       817 non-null    int64 \n",
      " 4   kms_driven  817 non-null    object\n",
      " 5   fuel_type   816 non-null    object\n",
      "dtypes: int64(2), object(4)\n",
      "memory usage: 44.7+ KB\n"
     ]
    }
   ],
   "source": [
    "car.info()"
   ]
  },
  {
   "cell_type": "code",
   "execution_count": 19,
   "id": "cd788f92",
   "metadata": {
    "execution": {
     "iopub.execute_input": "2023-05-25T13:54:14.031715Z",
     "iopub.status.busy": "2023-05-25T13:54:14.031253Z",
     "iopub.status.idle": "2023-05-25T13:54:14.038318Z",
     "shell.execute_reply": "2023-05-25T13:54:14.037014Z"
    },
    "papermill": {
     "duration": 0.030864,
     "end_time": "2023-05-25T13:54:14.041873",
     "exception": false,
     "start_time": "2023-05-25T13:54:14.011009",
     "status": "completed"
    },
    "tags": []
   },
   "outputs": [],
   "source": [
    "car['kms_driven'] = car['kms_driven'].astype(int)"
   ]
  },
  {
   "cell_type": "code",
   "execution_count": 20,
   "id": "25f44c44",
   "metadata": {
    "execution": {
     "iopub.execute_input": "2023-05-25T13:54:14.090239Z",
     "iopub.status.busy": "2023-05-25T13:54:14.087606Z",
     "iopub.status.idle": "2023-05-25T13:54:14.111536Z",
     "shell.execute_reply": "2023-05-25T13:54:14.110024Z"
    },
    "papermill": {
     "duration": 0.05129,
     "end_time": "2023-05-25T13:54:14.115662",
     "exception": false,
     "start_time": "2023-05-25T13:54:14.064372",
     "status": "completed"
    },
    "tags": []
   },
   "outputs": [
    {
     "name": "stdout",
     "output_type": "stream",
     "text": [
      "<class 'pandas.core.frame.DataFrame'>\n",
      "Int64Index: 817 entries, 0 to 889\n",
      "Data columns (total 6 columns):\n",
      " #   Column      Non-Null Count  Dtype \n",
      "---  ------      --------------  ----- \n",
      " 0   name        817 non-null    object\n",
      " 1   company     817 non-null    object\n",
      " 2   year        817 non-null    int64 \n",
      " 3   Price       817 non-null    int64 \n",
      " 4   kms_driven  817 non-null    int64 \n",
      " 5   fuel_type   816 non-null    object\n",
      "dtypes: int64(3), object(3)\n",
      "memory usage: 44.7+ KB\n"
     ]
    }
   ],
   "source": [
    "car.info()"
   ]
  },
  {
   "cell_type": "code",
   "execution_count": 21,
   "id": "f8c0f84c",
   "metadata": {
    "execution": {
     "iopub.execute_input": "2023-05-25T13:54:14.161338Z",
     "iopub.status.busy": "2023-05-25T13:54:14.160365Z",
     "iopub.status.idle": "2023-05-25T13:54:14.168147Z",
     "shell.execute_reply": "2023-05-25T13:54:14.167089Z"
    },
    "papermill": {
     "duration": 0.03415,
     "end_time": "2023-05-25T13:54:14.171006",
     "exception": false,
     "start_time": "2023-05-25T13:54:14.136856",
     "status": "completed"
    },
    "tags": []
   },
   "outputs": [],
   "source": [
    "car = car[~car['fuel_type'].isna()]"
   ]
  },
  {
   "cell_type": "markdown",
   "id": "85e6aae9",
   "metadata": {
    "papermill": {
     "duration": 0.018673,
     "end_time": "2023-05-25T13:54:14.207525",
     "exception": false,
     "start_time": "2023-05-25T13:54:14.188852",
     "status": "completed"
    },
    "tags": []
   },
   "source": [
    "##### keep first three letters of name"
   ]
  },
  {
   "cell_type": "code",
   "execution_count": 22,
   "id": "c1717148",
   "metadata": {
    "execution": {
     "iopub.execute_input": "2023-05-25T13:54:14.246242Z",
     "iopub.status.busy": "2023-05-25T13:54:14.245411Z",
     "iopub.status.idle": "2023-05-25T13:54:14.256502Z",
     "shell.execute_reply": "2023-05-25T13:54:14.255089Z"
    },
    "papermill": {
     "duration": 0.034137,
     "end_time": "2023-05-25T13:54:14.259789",
     "exception": false,
     "start_time": "2023-05-25T13:54:14.225652",
     "status": "completed"
    },
    "tags": []
   },
   "outputs": [],
   "source": [
    "car['name'] = car['name'].str.split(' ').str.slice(0,3).str.join(' ')"
   ]
  },
  {
   "cell_type": "raw",
   "id": "fc6a40cb",
   "metadata": {
    "papermill": {
     "duration": 0.018275,
     "end_time": "2023-05-25T13:54:14.296584",
     "exception": false,
     "start_time": "2023-05-25T13:54:14.278309",
     "status": "completed"
    },
    "tags": []
   },
   "source": [
    "car.reset_index(drop=True)"
   ]
  },
  {
   "cell_type": "code",
   "execution_count": 23,
   "id": "6b75bd93",
   "metadata": {
    "execution": {
     "iopub.execute_input": "2023-05-25T13:54:14.336737Z",
     "iopub.status.busy": "2023-05-25T13:54:14.335591Z",
     "iopub.status.idle": "2023-05-25T13:54:14.349659Z",
     "shell.execute_reply": "2023-05-25T13:54:14.348115Z"
    },
    "papermill": {
     "duration": 0.036814,
     "end_time": "2023-05-25T13:54:14.352528",
     "exception": false,
     "start_time": "2023-05-25T13:54:14.315714",
     "status": "completed"
    },
    "tags": []
   },
   "outputs": [
    {
     "name": "stdout",
     "output_type": "stream",
     "text": [
      "<class 'pandas.core.frame.DataFrame'>\n",
      "Int64Index: 816 entries, 0 to 889\n",
      "Data columns (total 6 columns):\n",
      " #   Column      Non-Null Count  Dtype \n",
      "---  ------      --------------  ----- \n",
      " 0   name        816 non-null    object\n",
      " 1   company     816 non-null    object\n",
      " 2   year        816 non-null    int64 \n",
      " 3   Price       816 non-null    int64 \n",
      " 4   kms_driven  816 non-null    int64 \n",
      " 5   fuel_type   816 non-null    object\n",
      "dtypes: int64(3), object(3)\n",
      "memory usage: 44.6+ KB\n"
     ]
    }
   ],
   "source": [
    "car.info()"
   ]
  },
  {
   "cell_type": "code",
   "execution_count": 24,
   "id": "4867594c",
   "metadata": {
    "execution": {
     "iopub.execute_input": "2023-05-25T13:54:14.392102Z",
     "iopub.status.busy": "2023-05-25T13:54:14.391368Z",
     "iopub.status.idle": "2023-05-25T13:54:14.406127Z",
     "shell.execute_reply": "2023-05-25T13:54:14.404752Z"
    },
    "papermill": {
     "duration": 0.038313,
     "end_time": "2023-05-25T13:54:14.409333",
     "exception": false,
     "start_time": "2023-05-25T13:54:14.371020",
     "status": "completed"
    },
    "tags": []
   },
   "outputs": [
    {
     "data": {
      "text/html": [
       "<div>\n",
       "<style scoped>\n",
       "    .dataframe tbody tr th:only-of-type {\n",
       "        vertical-align: middle;\n",
       "    }\n",
       "\n",
       "    .dataframe tbody tr th {\n",
       "        vertical-align: top;\n",
       "    }\n",
       "\n",
       "    .dataframe thead th {\n",
       "        text-align: right;\n",
       "    }\n",
       "</style>\n",
       "<table border=\"1\" class=\"dataframe\">\n",
       "  <thead>\n",
       "    <tr style=\"text-align: right;\">\n",
       "      <th></th>\n",
       "      <th>name</th>\n",
       "      <th>company</th>\n",
       "      <th>year</th>\n",
       "      <th>Price</th>\n",
       "      <th>kms_driven</th>\n",
       "      <th>fuel_type</th>\n",
       "    </tr>\n",
       "  </thead>\n",
       "  <tbody>\n",
       "    <tr>\n",
       "      <th>0</th>\n",
       "      <td>Hyundai Santro Xing</td>\n",
       "      <td>Hyundai</td>\n",
       "      <td>2007</td>\n",
       "      <td>80000</td>\n",
       "      <td>45000</td>\n",
       "      <td>Petrol</td>\n",
       "    </tr>\n",
       "    <tr>\n",
       "      <th>1</th>\n",
       "      <td>Mahindra Jeep CL550</td>\n",
       "      <td>Mahindra</td>\n",
       "      <td>2006</td>\n",
       "      <td>425000</td>\n",
       "      <td>40</td>\n",
       "      <td>Diesel</td>\n",
       "    </tr>\n",
       "    <tr>\n",
       "      <th>3</th>\n",
       "      <td>Hyundai Grand i10</td>\n",
       "      <td>Hyundai</td>\n",
       "      <td>2014</td>\n",
       "      <td>325000</td>\n",
       "      <td>28000</td>\n",
       "      <td>Petrol</td>\n",
       "    </tr>\n",
       "    <tr>\n",
       "      <th>4</th>\n",
       "      <td>Ford EcoSport Titanium</td>\n",
       "      <td>Ford</td>\n",
       "      <td>2014</td>\n",
       "      <td>575000</td>\n",
       "      <td>36000</td>\n",
       "      <td>Diesel</td>\n",
       "    </tr>\n",
       "    <tr>\n",
       "      <th>6</th>\n",
       "      <td>Ford Figo</td>\n",
       "      <td>Ford</td>\n",
       "      <td>2012</td>\n",
       "      <td>175000</td>\n",
       "      <td>41000</td>\n",
       "      <td>Diesel</td>\n",
       "    </tr>\n",
       "  </tbody>\n",
       "</table>\n",
       "</div>"
      ],
      "text/plain": [
       "                     name   company  year   Price  kms_driven fuel_type\n",
       "0     Hyundai Santro Xing   Hyundai  2007   80000       45000    Petrol\n",
       "1     Mahindra Jeep CL550  Mahindra  2006  425000          40    Diesel\n",
       "3       Hyundai Grand i10   Hyundai  2014  325000       28000    Petrol\n",
       "4  Ford EcoSport Titanium      Ford  2014  575000       36000    Diesel\n",
       "6               Ford Figo      Ford  2012  175000       41000    Diesel"
      ]
     },
     "execution_count": 24,
     "metadata": {},
     "output_type": "execute_result"
    }
   ],
   "source": [
    "car.head()"
   ]
  },
  {
   "cell_type": "code",
   "execution_count": 25,
   "id": "a8568016",
   "metadata": {
    "execution": {
     "iopub.execute_input": "2023-05-25T13:54:14.450025Z",
     "iopub.status.busy": "2023-05-25T13:54:14.449144Z",
     "iopub.status.idle": "2023-05-25T13:54:14.476720Z",
     "shell.execute_reply": "2023-05-25T13:54:14.475096Z"
    },
    "papermill": {
     "duration": 0.051799,
     "end_time": "2023-05-25T13:54:14.479936",
     "exception": false,
     "start_time": "2023-05-25T13:54:14.428137",
     "status": "completed"
    },
    "tags": []
   },
   "outputs": [
    {
     "data": {
      "text/html": [
       "<div>\n",
       "<style scoped>\n",
       "    .dataframe tbody tr th:only-of-type {\n",
       "        vertical-align: middle;\n",
       "    }\n",
       "\n",
       "    .dataframe tbody tr th {\n",
       "        vertical-align: top;\n",
       "    }\n",
       "\n",
       "    .dataframe thead th {\n",
       "        text-align: right;\n",
       "    }\n",
       "</style>\n",
       "<table border=\"1\" class=\"dataframe\">\n",
       "  <thead>\n",
       "    <tr style=\"text-align: right;\">\n",
       "      <th></th>\n",
       "      <th>year</th>\n",
       "      <th>Price</th>\n",
       "      <th>kms_driven</th>\n",
       "    </tr>\n",
       "  </thead>\n",
       "  <tbody>\n",
       "    <tr>\n",
       "      <th>count</th>\n",
       "      <td>816.000000</td>\n",
       "      <td>8.160000e+02</td>\n",
       "      <td>816.000000</td>\n",
       "    </tr>\n",
       "    <tr>\n",
       "      <th>mean</th>\n",
       "      <td>2012.444853</td>\n",
       "      <td>4.117176e+05</td>\n",
       "      <td>46275.531863</td>\n",
       "    </tr>\n",
       "    <tr>\n",
       "      <th>std</th>\n",
       "      <td>4.002992</td>\n",
       "      <td>4.751844e+05</td>\n",
       "      <td>34297.428044</td>\n",
       "    </tr>\n",
       "    <tr>\n",
       "      <th>min</th>\n",
       "      <td>1995.000000</td>\n",
       "      <td>3.000000e+04</td>\n",
       "      <td>0.000000</td>\n",
       "    </tr>\n",
       "    <tr>\n",
       "      <th>25%</th>\n",
       "      <td>2010.000000</td>\n",
       "      <td>1.750000e+05</td>\n",
       "      <td>27000.000000</td>\n",
       "    </tr>\n",
       "    <tr>\n",
       "      <th>50%</th>\n",
       "      <td>2013.000000</td>\n",
       "      <td>2.999990e+05</td>\n",
       "      <td>41000.000000</td>\n",
       "    </tr>\n",
       "    <tr>\n",
       "      <th>75%</th>\n",
       "      <td>2015.000000</td>\n",
       "      <td>4.912500e+05</td>\n",
       "      <td>56818.500000</td>\n",
       "    </tr>\n",
       "    <tr>\n",
       "      <th>max</th>\n",
       "      <td>2019.000000</td>\n",
       "      <td>8.500003e+06</td>\n",
       "      <td>400000.000000</td>\n",
       "    </tr>\n",
       "  </tbody>\n",
       "</table>\n",
       "</div>"
      ],
      "text/plain": [
       "              year         Price     kms_driven\n",
       "count   816.000000  8.160000e+02     816.000000\n",
       "mean   2012.444853  4.117176e+05   46275.531863\n",
       "std       4.002992  4.751844e+05   34297.428044\n",
       "min    1995.000000  3.000000e+04       0.000000\n",
       "25%    2010.000000  1.750000e+05   27000.000000\n",
       "50%    2013.000000  2.999990e+05   41000.000000\n",
       "75%    2015.000000  4.912500e+05   56818.500000\n",
       "max    2019.000000  8.500003e+06  400000.000000"
      ]
     },
     "execution_count": 25,
     "metadata": {},
     "output_type": "execute_result"
    }
   ],
   "source": [
    "car.describe()"
   ]
  },
  {
   "cell_type": "markdown",
   "id": "209c5d6b",
   "metadata": {
    "papermill": {
     "duration": 0.018428,
     "end_time": "2023-05-25T13:54:14.517249",
     "exception": false,
     "start_time": "2023-05-25T13:54:14.498821",
     "status": "completed"
    },
    "tags": []
   },
   "source": [
    "# Now our data is fully cleaned"
   ]
  },
  {
   "cell_type": "code",
   "execution_count": 26,
   "id": "6b4668bd",
   "metadata": {
    "execution": {
     "iopub.execute_input": "2023-05-25T13:54:14.556274Z",
     "iopub.status.busy": "2023-05-25T13:54:14.555805Z",
     "iopub.status.idle": "2023-05-25T13:54:14.572135Z",
     "shell.execute_reply": "2023-05-25T13:54:14.571083Z"
    },
    "papermill": {
     "duration": 0.03912,
     "end_time": "2023-05-25T13:54:14.574678",
     "exception": false,
     "start_time": "2023-05-25T13:54:14.535558",
     "status": "completed"
    },
    "tags": []
   },
   "outputs": [
    {
     "data": {
      "text/html": [
       "<div>\n",
       "<style scoped>\n",
       "    .dataframe tbody tr th:only-of-type {\n",
       "        vertical-align: middle;\n",
       "    }\n",
       "\n",
       "    .dataframe tbody tr th {\n",
       "        vertical-align: top;\n",
       "    }\n",
       "\n",
       "    .dataframe thead th {\n",
       "        text-align: right;\n",
       "    }\n",
       "</style>\n",
       "<table border=\"1\" class=\"dataframe\">\n",
       "  <thead>\n",
       "    <tr style=\"text-align: right;\">\n",
       "      <th></th>\n",
       "      <th>name</th>\n",
       "      <th>company</th>\n",
       "      <th>year</th>\n",
       "      <th>Price</th>\n",
       "      <th>kms_driven</th>\n",
       "      <th>fuel_type</th>\n",
       "    </tr>\n",
       "  </thead>\n",
       "  <tbody>\n",
       "    <tr>\n",
       "      <th>562</th>\n",
       "      <td>Mahindra XUV500 W6</td>\n",
       "      <td>Mahindra</td>\n",
       "      <td>2014</td>\n",
       "      <td>8500003</td>\n",
       "      <td>45000</td>\n",
       "      <td>Diesel</td>\n",
       "    </tr>\n",
       "  </tbody>\n",
       "</table>\n",
       "</div>"
      ],
      "text/plain": [
       "                   name   company  year    Price  kms_driven fuel_type\n",
       "562  Mahindra XUV500 W6  Mahindra  2014  8500003       45000    Diesel"
      ]
     },
     "execution_count": 26,
     "metadata": {},
     "output_type": "execute_result"
    }
   ],
   "source": [
    "car[car['Price']>6e6] # this is outlier , it is only one that is maximus so we have to remove it"
   ]
  },
  {
   "cell_type": "code",
   "execution_count": 27,
   "id": "af672729",
   "metadata": {
    "execution": {
     "iopub.execute_input": "2023-05-25T13:54:14.615325Z",
     "iopub.status.busy": "2023-05-25T13:54:14.614329Z",
     "iopub.status.idle": "2023-05-25T13:54:14.621969Z",
     "shell.execute_reply": "2023-05-25T13:54:14.620582Z"
    },
    "papermill": {
     "duration": 0.031719,
     "end_time": "2023-05-25T13:54:14.625115",
     "exception": false,
     "start_time": "2023-05-25T13:54:14.593396",
     "status": "completed"
    },
    "tags": []
   },
   "outputs": [],
   "source": [
    "car = car[car['Price']<6e6].reset_index(drop= True)"
   ]
  },
  {
   "cell_type": "code",
   "execution_count": 28,
   "id": "703ab017",
   "metadata": {
    "execution": {
     "iopub.execute_input": "2023-05-25T13:54:14.665672Z",
     "iopub.status.busy": "2023-05-25T13:54:14.664377Z",
     "iopub.status.idle": "2023-05-25T13:54:14.680778Z",
     "shell.execute_reply": "2023-05-25T13:54:14.679439Z"
    },
    "papermill": {
     "duration": 0.040734,
     "end_time": "2023-05-25T13:54:14.684483",
     "exception": false,
     "start_time": "2023-05-25T13:54:14.643749",
     "status": "completed"
    },
    "tags": []
   },
   "outputs": [],
   "source": [
    "car.to_csv(\"Cleaned Car.csv\")"
   ]
  },
  {
   "cell_type": "markdown",
   "id": "9f756353",
   "metadata": {
    "papermill": {
     "duration": 0.02148,
     "end_time": "2023-05-25T13:54:14.725888",
     "exception": false,
     "start_time": "2023-05-25T13:54:14.704408",
     "status": "completed"
    },
    "tags": []
   },
   "source": [
    "# Model"
   ]
  },
  {
   "cell_type": "code",
   "execution_count": 29,
   "id": "3773148b",
   "metadata": {
    "execution": {
     "iopub.execute_input": "2023-05-25T13:54:14.765739Z",
     "iopub.status.busy": "2023-05-25T13:54:14.765245Z",
     "iopub.status.idle": "2023-05-25T13:54:14.773476Z",
     "shell.execute_reply": "2023-05-25T13:54:14.772083Z"
    },
    "papermill": {
     "duration": 0.031535,
     "end_time": "2023-05-25T13:54:14.776310",
     "exception": false,
     "start_time": "2023-05-25T13:54:14.744775",
     "status": "completed"
    },
    "tags": []
   },
   "outputs": [],
   "source": [
    "X = car.drop(columns='Price')\n",
    "y = car['Price']"
   ]
  },
  {
   "cell_type": "code",
   "execution_count": 30,
   "id": "cf017479",
   "metadata": {
    "execution": {
     "iopub.execute_input": "2023-05-25T13:54:14.817590Z",
     "iopub.status.busy": "2023-05-25T13:54:14.817121Z",
     "iopub.status.idle": "2023-05-25T13:54:16.272032Z",
     "shell.execute_reply": "2023-05-25T13:54:16.270791Z"
    },
    "papermill": {
     "duration": 1.479419,
     "end_time": "2023-05-25T13:54:16.275320",
     "exception": false,
     "start_time": "2023-05-25T13:54:14.795901",
     "status": "completed"
    },
    "tags": []
   },
   "outputs": [],
   "source": [
    "from sklearn.model_selection import train_test_split\n",
    "x_train, x_test, y_train, y_test = train_test_split(X,y, test_size = 0.2)"
   ]
  },
  {
   "cell_type": "code",
   "execution_count": 31,
   "id": "58d0d610",
   "metadata": {
    "execution": {
     "iopub.execute_input": "2023-05-25T13:54:16.316208Z",
     "iopub.status.busy": "2023-05-25T13:54:16.315696Z",
     "iopub.status.idle": "2023-05-25T13:54:16.453181Z",
     "shell.execute_reply": "2023-05-25T13:54:16.451694Z"
    },
    "papermill": {
     "duration": 0.16248,
     "end_time": "2023-05-25T13:54:16.456629",
     "exception": false,
     "start_time": "2023-05-25T13:54:16.294149",
     "status": "completed"
    },
    "tags": []
   },
   "outputs": [],
   "source": [
    "from sklearn.linear_model import LinearRegression\n",
    "from sklearn.metrics import r2_score\n",
    "from sklearn.preprocessing import OneHotEncoder\n",
    "from sklearn.compose import make_column_transformer\n",
    "from sklearn.pipeline import make_pipeline"
   ]
  },
  {
   "cell_type": "code",
   "execution_count": 32,
   "id": "23f1f69d",
   "metadata": {
    "execution": {
     "iopub.execute_input": "2023-05-25T13:54:16.497031Z",
     "iopub.status.busy": "2023-05-25T13:54:16.496573Z",
     "iopub.status.idle": "2023-05-25T13:54:16.515707Z",
     "shell.execute_reply": "2023-05-25T13:54:16.514157Z"
    },
    "papermill": {
     "duration": 0.043298,
     "end_time": "2023-05-25T13:54:16.518747",
     "exception": false,
     "start_time": "2023-05-25T13:54:16.475449",
     "status": "completed"
    },
    "tags": []
   },
   "outputs": [
    {
     "data": {
      "text/plain": [
       "OneHotEncoder()"
      ]
     },
     "execution_count": 32,
     "metadata": {},
     "output_type": "execute_result"
    }
   ],
   "source": [
    "ohe = OneHotEncoder()\n",
    "ohe.fit(X[['name','company','fuel_type']]) # these three are categorical data"
   ]
  },
  {
   "cell_type": "code",
   "execution_count": 33,
   "id": "cf9af174",
   "metadata": {
    "execution": {
     "iopub.execute_input": "2023-05-25T13:54:16.559137Z",
     "iopub.status.busy": "2023-05-25T13:54:16.558368Z",
     "iopub.status.idle": "2023-05-25T13:54:16.563774Z",
     "shell.execute_reply": "2023-05-25T13:54:16.562716Z"
    },
    "papermill": {
     "duration": 0.028797,
     "end_time": "2023-05-25T13:54:16.566553",
     "exception": false,
     "start_time": "2023-05-25T13:54:16.537756",
     "status": "completed"
    },
    "tags": []
   },
   "outputs": [],
   "source": [
    "column_trans = make_column_transformer((OneHotEncoder(categories=ohe.categories_),['name','company','fuel_type']),\n",
    "                                      remainder = 'passthrough')"
   ]
  },
  {
   "cell_type": "code",
   "execution_count": 34,
   "id": "9be382a0",
   "metadata": {
    "execution": {
     "iopub.execute_input": "2023-05-25T13:54:16.608246Z",
     "iopub.status.busy": "2023-05-25T13:54:16.607483Z",
     "iopub.status.idle": "2023-05-25T13:54:16.612381Z",
     "shell.execute_reply": "2023-05-25T13:54:16.611252Z"
    },
    "papermill": {
     "duration": 0.029212,
     "end_time": "2023-05-25T13:54:16.615388",
     "exception": false,
     "start_time": "2023-05-25T13:54:16.586176",
     "status": "completed"
    },
    "tags": []
   },
   "outputs": [],
   "source": [
    "lr = LinearRegression()"
   ]
  },
  {
   "cell_type": "code",
   "execution_count": 35,
   "id": "84afd2b7",
   "metadata": {
    "execution": {
     "iopub.execute_input": "2023-05-25T13:54:16.656286Z",
     "iopub.status.busy": "2023-05-25T13:54:16.655494Z",
     "iopub.status.idle": "2023-05-25T13:54:16.660746Z",
     "shell.execute_reply": "2023-05-25T13:54:16.659801Z"
    },
    "papermill": {
     "duration": 0.028882,
     "end_time": "2023-05-25T13:54:16.663458",
     "exception": false,
     "start_time": "2023-05-25T13:54:16.634576",
     "status": "completed"
    },
    "tags": []
   },
   "outputs": [],
   "source": [
    "pipe = make_pipeline(column_trans, lr)"
   ]
  },
  {
   "cell_type": "code",
   "execution_count": 36,
   "id": "ddfbdece",
   "metadata": {
    "execution": {
     "iopub.execute_input": "2023-05-25T13:54:16.703491Z",
     "iopub.status.busy": "2023-05-25T13:54:16.702992Z",
     "iopub.status.idle": "2023-05-25T13:54:16.837317Z",
     "shell.execute_reply": "2023-05-25T13:54:16.836275Z"
    },
    "papermill": {
     "duration": 0.157823,
     "end_time": "2023-05-25T13:54:16.840114",
     "exception": false,
     "start_time": "2023-05-25T13:54:16.682291",
     "status": "completed"
    },
    "tags": []
   },
   "outputs": [
    {
     "data": {
      "text/plain": [
       "Pipeline(steps=[('columntransformer',\n",
       "                 ColumnTransformer(remainder='passthrough',\n",
       "                                   transformers=[('onehotencoder',\n",
       "                                                  OneHotEncoder(categories=[array(['Audi A3 Cabriolet', 'Audi A4 1.8', 'Audi A4 2.0', 'Audi A6 2.0',\n",
       "       'Audi A8', 'Audi Q3 2.0', 'Audi Q5 2.0', 'Audi Q7', 'BMW 3 Series',\n",
       "       'BMW 5 Series', 'BMW 7 Series', 'BMW X1', 'BMW X1 sDrive20d',\n",
       "       'BMW X1 xDrive20d', 'Chevrolet Beat', 'Chevrolet Beat...\n",
       "                                                                            array(['Audi', 'BMW', 'Chevrolet', 'Datsun', 'Fiat', 'Force', 'Ford',\n",
       "       'Hindustan', 'Honda', 'Hyundai', 'Jaguar', 'Jeep', 'Land',\n",
       "       'Mahindra', 'Maruti', 'Mercedes', 'Mini', 'Mitsubishi', 'Nissan',\n",
       "       'Renault', 'Skoda', 'Tata', 'Toyota', 'Volkswagen', 'Volvo'],\n",
       "      dtype=object),\n",
       "                                                                            array(['Diesel', 'LPG', 'Petrol'], dtype=object)]),\n",
       "                                                  ['name', 'company',\n",
       "                                                   'fuel_type'])])),\n",
       "                ('linearregression', LinearRegression())])"
      ]
     },
     "execution_count": 36,
     "metadata": {},
     "output_type": "execute_result"
    }
   ],
   "source": [
    "pipe.fit(x_train,y_train)"
   ]
  },
  {
   "cell_type": "code",
   "execution_count": 37,
   "id": "a802b783",
   "metadata": {
    "execution": {
     "iopub.execute_input": "2023-05-25T13:54:16.880954Z",
     "iopub.status.busy": "2023-05-25T13:54:16.879705Z",
     "iopub.status.idle": "2023-05-25T13:54:16.894115Z",
     "shell.execute_reply": "2023-05-25T13:54:16.892937Z"
    },
    "papermill": {
     "duration": 0.037793,
     "end_time": "2023-05-25T13:54:16.896945",
     "exception": false,
     "start_time": "2023-05-25T13:54:16.859152",
     "status": "completed"
    },
    "tags": []
   },
   "outputs": [],
   "source": [
    "y_pred = pipe.predict(x_test)"
   ]
  },
  {
   "cell_type": "code",
   "execution_count": 38,
   "id": "c1c41dbe",
   "metadata": {
    "execution": {
     "iopub.execute_input": "2023-05-25T13:54:16.938074Z",
     "iopub.status.busy": "2023-05-25T13:54:16.937211Z",
     "iopub.status.idle": "2023-05-25T13:54:16.947609Z",
     "shell.execute_reply": "2023-05-25T13:54:16.946261Z"
    },
    "papermill": {
     "duration": 0.034574,
     "end_time": "2023-05-25T13:54:16.950550",
     "exception": false,
     "start_time": "2023-05-25T13:54:16.915976",
     "status": "completed"
    },
    "tags": []
   },
   "outputs": [
    {
     "data": {
      "text/plain": [
       "array([1048738.31756371,  343802.16517446,  924835.64079674,\n",
       "        364902.1199652 ,   85841.61887934,  361862.0837245 ,\n",
       "        228478.16015645,  509451.40247376,  350069.58826903,\n",
       "         88083.79094148,  236732.79512475,  181438.46731666,\n",
       "        237727.20166627,  541195.92581668,   48442.10392589,\n",
       "        497648.17223713,  488671.04378513,  291048.92647467,\n",
       "        275380.89648147,  436059.64379831,  -92104.36243189,\n",
       "        925031.1591887 ,  299701.61278387,  735831.27748917,\n",
       "        352384.78288429,  515262.11316309,  184410.18246227,\n",
       "        291856.74455667,  189595.3555856 ,  334219.16442604,\n",
       "        291048.92647467,  273323.74925619,  318680.60334432,\n",
       "        347265.85541217,  706203.40277913,   94497.70900001,\n",
       "         93847.66560056,  252577.56697884,  492396.32245522,\n",
       "        204867.44411661,  221647.1352153 ,  915985.02947032,\n",
       "        327641.26657192,  250462.02578012,  563623.50910899,\n",
       "        493569.43280698,  593239.00788625,  110541.67415579,\n",
       "        231914.08954176,  245714.80913986,  404375.17006671,\n",
       "        293662.15145275,  335555.1693181 ,   85841.61887934,\n",
       "       1133188.02235163,  401124.18553194,   92658.54023805,\n",
       "        187435.53908844,  563408.43887783,  364335.2958112 ,\n",
       "        838875.32181025,  539692.7646101 ,  281081.85703359,\n",
       "        392623.5824089 ,  320228.44102371,  302937.6029796 ,\n",
       "        444515.97113878, 1890283.30254481,  362883.08105116,\n",
       "        686635.56805097,  757076.90872461,  210818.66821045,\n",
       "        117786.11835033,  212868.49243531,  581813.43460318,\n",
       "        270762.96329849,  404700.51267093,  294799.43540615,\n",
       "        120434.11707511, 1057322.79588074,  317293.93035183,\n",
       "        271980.20083802,   71464.30934734, 1140496.04114559,\n",
       "        381052.12866351,  406499.62001789,  525461.51819643,\n",
       "        511497.73081461,   30742.74024595,  499483.92990614,\n",
       "        269607.16501646,  421433.17778885,  202501.53469601,\n",
       "        271315.43830536,    7716.72773433,  231914.08954176,\n",
       "        493569.43280698,  198438.63242761,  306716.97964875,\n",
       "        157164.42755378,   41661.52099482, 1187342.70305438,\n",
       "        251185.58070825,  245234.84526294,  224691.95557763,\n",
       "        455396.17726987,  165910.5459679 ,  321712.15761527,\n",
       "        407985.93189896, 1890302.85438401,  -54811.11456362,\n",
       "        838875.32181025,   -4329.93114512,  318056.26289795,\n",
       "         41935.24674357,   -4070.06042094,  464746.2792052 ,\n",
       "        290622.44029158,  346953.02598503,  734326.88077407,\n",
       "        549189.74211197,  348726.12665907,  162575.37028428,\n",
       "         21429.53176378,  643750.97572304,  315968.58959243,\n",
       "        459710.11568557, 1890302.85438401,  406362.66326277,\n",
       "        453598.09055819,  231914.08954176,  456901.52707405,\n",
       "        343373.14550789,  281206.98880444,  253685.67438626,\n",
       "        609590.00359595,  558987.10032208,  279472.2527817 ,\n",
       "        109559.80484281,  274485.65407459,  205414.8956141 ,\n",
       "         99468.32156824,  333828.12764212,  244473.82224479,\n",
       "        553234.37770591,  403187.49102324,  564425.13451603,\n",
       "        204966.18723046,  177537.70598733,  552726.02988681,\n",
       "        481535.19132961,  186897.07818597,  367318.08322318,\n",
       "        380811.37850847,  314531.3936908 ,  338096.9084136 ,\n",
       "        266199.44627534,  490089.91903351,  550171.30427004,\n",
       "        186731.67287738,  404107.30967866,  549893.60832303,\n",
       "        510829.79372649])"
      ]
     },
     "execution_count": 38,
     "metadata": {},
     "output_type": "execute_result"
    }
   ],
   "source": [
    "y_pred"
   ]
  },
  {
   "cell_type": "code",
   "execution_count": 39,
   "id": "8f8483c0",
   "metadata": {
    "execution": {
     "iopub.execute_input": "2023-05-25T13:54:16.990963Z",
     "iopub.status.busy": "2023-05-25T13:54:16.990468Z",
     "iopub.status.idle": "2023-05-25T13:54:17.001624Z",
     "shell.execute_reply": "2023-05-25T13:54:16.999652Z"
    },
    "papermill": {
     "duration": 0.035131,
     "end_time": "2023-05-25T13:54:17.004832",
     "exception": false,
     "start_time": "2023-05-25T13:54:16.969701",
     "status": "completed"
    },
    "tags": []
   },
   "outputs": [
    {
     "data": {
      "text/plain": [
       "0.6545917653456966"
      ]
     },
     "execution_count": 39,
     "metadata": {},
     "output_type": "execute_result"
    }
   ],
   "source": [
    "r2_score(y_test,y_pred)"
   ]
  },
  {
   "cell_type": "code",
   "execution_count": null,
   "id": "a9a7c2c8",
   "metadata": {
    "papermill": {
     "duration": 0.01897,
     "end_time": "2023-05-25T13:54:17.043337",
     "exception": false,
     "start_time": "2023-05-25T13:54:17.024367",
     "status": "completed"
    },
    "tags": []
   },
   "outputs": [],
   "source": []
  },
  {
   "cell_type": "code",
   "execution_count": 40,
   "id": "0e95be76",
   "metadata": {
    "execution": {
     "iopub.execute_input": "2023-05-25T13:54:17.086098Z",
     "iopub.status.busy": "2023-05-25T13:54:17.084577Z",
     "iopub.status.idle": "2023-05-25T13:54:17.431959Z",
     "shell.execute_reply": "2023-05-25T13:54:17.430167Z"
    },
    "papermill": {
     "duration": 0.372138,
     "end_time": "2023-05-25T13:54:17.435346",
     "exception": false,
     "start_time": "2023-05-25T13:54:17.063208",
     "status": "completed"
    },
    "tags": []
   },
   "outputs": [
    {
     "name": "stdout",
     "output_type": "stream",
     "text": [
      "0.7852359290686266 0\n",
      "0.5125292588289947 1\n",
      "0.6903651037412857 2\n",
      "0.5995051059777572 3\n",
      "0.853836342705581 4\n",
      "0.7471059457224005 5\n",
      "0.6257431036519457 6\n",
      "0.685969049532969 7\n",
      "0.7646011185479593 8\n",
      "0.7309940280848726 9\n"
     ]
    }
   ],
   "source": [
    "scores=[]\n",
    "for i in range (10):\n",
    "    x_train,x_test, y_train, y_test = train_test_split(X,y,test_size = 0.2, random_state =i)\n",
    "    lr = LinearRegression()\n",
    "    pipe = make_pipeline(column_trans, lr)\n",
    "    pipe.fit(x_train,y_train)\n",
    "    y_pred = pipe.predict(x_test)\n",
    "    scores.append(r2_score(y_test,y_pred))\n",
    "    print(r2_score(y_test,y_pred), i)"
   ]
  },
  {
   "cell_type": "code",
   "execution_count": 41,
   "id": "cf2d0a69",
   "metadata": {
    "execution": {
     "iopub.execute_input": "2023-05-25T13:54:17.476859Z",
     "iopub.status.busy": "2023-05-25T13:54:17.476302Z",
     "iopub.status.idle": "2023-05-25T13:54:17.485625Z",
     "shell.execute_reply": "2023-05-25T13:54:17.484167Z"
    },
    "papermill": {
     "duration": 0.033592,
     "end_time": "2023-05-25T13:54:17.488554",
     "exception": false,
     "start_time": "2023-05-25T13:54:17.454962",
     "status": "completed"
    },
    "tags": []
   },
   "outputs": [
    {
     "data": {
      "text/plain": [
       "4"
      ]
     },
     "execution_count": 41,
     "metadata": {},
     "output_type": "execute_result"
    }
   ],
   "source": [
    "np.argmax(scores)"
   ]
  },
  {
   "cell_type": "markdown",
   "id": "84deb137",
   "metadata": {
    "papermill": {
     "duration": 0.01928,
     "end_time": "2023-05-25T13:54:17.528418",
     "exception": false,
     "start_time": "2023-05-25T13:54:17.509138",
     "status": "completed"
    },
    "tags": []
   },
   "source": []
  }
 ],
 "metadata": {
  "kernelspec": {
   "display_name": "Python 3",
   "language": "python",
   "name": "python3"
  },
  "language_info": {
   "codemirror_mode": {
    "name": "ipython",
    "version": 3
   },
   "file_extension": ".py",
   "mimetype": "text/x-python",
   "name": "python",
   "nbconvert_exporter": "python",
   "pygments_lexer": "ipython3",
   "version": "3.7.12"
  },
  "papermill": {
   "default_parameters": {},
   "duration": 21.995266,
   "end_time": "2023-05-25T13:54:18.371883",
   "environment_variables": {},
   "exception": null,
   "input_path": "__notebook__.ipynb",
   "output_path": "__notebook__.ipynb",
   "parameters": {},
   "start_time": "2023-05-25T13:53:56.376617",
   "version": "2.4.0"
  }
 },
 "nbformat": 4,
 "nbformat_minor": 5
}
