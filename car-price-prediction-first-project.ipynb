{
 "cells": [
  {
   "cell_type": "markdown",
   "id": "4067ffcf",
   "metadata": {
    "_cell_guid": "b1076dfc-b9ad-4769-8c92-a6c4dae69d19",
    "_uuid": "8f2839f25d086af736a60e9eeb907d3b93b6e0e5",
    "papermill": {
     "duration": 0.024034,
     "end_time": "2023-08-23T09:19:19.477093",
     "exception": false,
     "start_time": "2023-08-23T09:19:19.453059",
     "status": "completed"
    },
    "tags": []
   },
   "source": [
    "# It is a project on Car Price Prediction based on previous data"
   ]
  },
  {
   "cell_type": "code",
   "execution_count": 1,
   "id": "98a10dbd",
   "metadata": {
    "execution": {
     "iopub.execute_input": "2023-08-23T09:19:19.522853Z",
     "iopub.status.busy": "2023-08-23T09:19:19.522350Z",
     "iopub.status.idle": "2023-08-23T09:19:19.535984Z",
     "shell.execute_reply": "2023-08-23T09:19:19.534860Z"
    },
    "papermill": {
     "duration": 0.039976,
     "end_time": "2023-08-23T09:19:19.538896",
     "exception": false,
     "start_time": "2023-08-23T09:19:19.498920",
     "status": "completed"
    },
    "tags": []
   },
   "outputs": [],
   "source": [
    "import numpy as np\n",
    "import pandas as pd"
   ]
  },
  {
   "cell_type": "code",
   "execution_count": 2,
   "id": "1ee0d796",
   "metadata": {
    "execution": {
     "iopub.execute_input": "2023-08-23T09:19:19.586614Z",
     "iopub.status.busy": "2023-08-23T09:19:19.586088Z",
     "iopub.status.idle": "2023-08-23T09:19:19.613094Z",
     "shell.execute_reply": "2023-08-23T09:19:19.611892Z"
    },
    "papermill": {
     "duration": 0.055785,
     "end_time": "2023-08-23T09:19:19.616485",
     "exception": false,
     "start_time": "2023-08-23T09:19:19.560700",
     "status": "completed"
    },
    "tags": []
   },
   "outputs": [],
   "source": [
    "car =  pd.read_csv(r\"/kaggle/input/quikr-carcsv/quikr_car.csv\")"
   ]
  },
  {
   "cell_type": "code",
   "execution_count": 3,
   "id": "22b952fc",
   "metadata": {
    "execution": {
     "iopub.execute_input": "2023-08-23T09:19:19.663659Z",
     "iopub.status.busy": "2023-08-23T09:19:19.663098Z",
     "iopub.status.idle": "2023-08-23T09:19:19.699071Z",
     "shell.execute_reply": "2023-08-23T09:19:19.697845Z"
    },
    "papermill": {
     "duration": 0.062377,
     "end_time": "2023-08-23T09:19:19.701913",
     "exception": false,
     "start_time": "2023-08-23T09:19:19.639536",
     "status": "completed"
    },
    "tags": []
   },
   "outputs": [
    {
     "data": {
      "text/html": [
       "<div>\n",
       "<style scoped>\n",
       "    .dataframe tbody tr th:only-of-type {\n",
       "        vertical-align: middle;\n",
       "    }\n",
       "\n",
       "    .dataframe tbody tr th {\n",
       "        vertical-align: top;\n",
       "    }\n",
       "\n",
       "    .dataframe thead th {\n",
       "        text-align: right;\n",
       "    }\n",
       "</style>\n",
       "<table border=\"1\" class=\"dataframe\">\n",
       "  <thead>\n",
       "    <tr style=\"text-align: right;\">\n",
       "      <th></th>\n",
       "      <th>name</th>\n",
       "      <th>company</th>\n",
       "      <th>year</th>\n",
       "      <th>Price</th>\n",
       "      <th>kms_driven</th>\n",
       "      <th>fuel_type</th>\n",
       "    </tr>\n",
       "  </thead>\n",
       "  <tbody>\n",
       "    <tr>\n",
       "      <th>0</th>\n",
       "      <td>Hyundai Santro Xing XO eRLX Euro III</td>\n",
       "      <td>Hyundai</td>\n",
       "      <td>2007</td>\n",
       "      <td>80,000</td>\n",
       "      <td>45,000 kms</td>\n",
       "      <td>Petrol</td>\n",
       "    </tr>\n",
       "    <tr>\n",
       "      <th>1</th>\n",
       "      <td>Mahindra Jeep CL550 MDI</td>\n",
       "      <td>Mahindra</td>\n",
       "      <td>2006</td>\n",
       "      <td>4,25,000</td>\n",
       "      <td>40 kms</td>\n",
       "      <td>Diesel</td>\n",
       "    </tr>\n",
       "    <tr>\n",
       "      <th>2</th>\n",
       "      <td>Maruti Suzuki Alto 800 Vxi</td>\n",
       "      <td>Maruti</td>\n",
       "      <td>2018</td>\n",
       "      <td>Ask For Price</td>\n",
       "      <td>22,000 kms</td>\n",
       "      <td>Petrol</td>\n",
       "    </tr>\n",
       "    <tr>\n",
       "      <th>3</th>\n",
       "      <td>Hyundai Grand i10 Magna 1.2 Kappa VTVT</td>\n",
       "      <td>Hyundai</td>\n",
       "      <td>2014</td>\n",
       "      <td>3,25,000</td>\n",
       "      <td>28,000 kms</td>\n",
       "      <td>Petrol</td>\n",
       "    </tr>\n",
       "    <tr>\n",
       "      <th>4</th>\n",
       "      <td>Ford EcoSport Titanium 1.5L TDCi</td>\n",
       "      <td>Ford</td>\n",
       "      <td>2014</td>\n",
       "      <td>5,75,000</td>\n",
       "      <td>36,000 kms</td>\n",
       "      <td>Diesel</td>\n",
       "    </tr>\n",
       "  </tbody>\n",
       "</table>\n",
       "</div>"
      ],
      "text/plain": [
       "                                     name   company  year          Price  \\\n",
       "0    Hyundai Santro Xing XO eRLX Euro III   Hyundai  2007         80,000   \n",
       "1                 Mahindra Jeep CL550 MDI  Mahindra  2006       4,25,000   \n",
       "2              Maruti Suzuki Alto 800 Vxi    Maruti  2018  Ask For Price   \n",
       "3  Hyundai Grand i10 Magna 1.2 Kappa VTVT   Hyundai  2014       3,25,000   \n",
       "4        Ford EcoSport Titanium 1.5L TDCi      Ford  2014       5,75,000   \n",
       "\n",
       "   kms_driven fuel_type  \n",
       "0  45,000 kms    Petrol  \n",
       "1      40 kms    Diesel  \n",
       "2  22,000 kms    Petrol  \n",
       "3  28,000 kms    Petrol  \n",
       "4  36,000 kms    Diesel  "
      ]
     },
     "execution_count": 3,
     "metadata": {},
     "output_type": "execute_result"
    }
   ],
   "source": [
    "car.head()"
   ]
  },
  {
   "cell_type": "code",
   "execution_count": 4,
   "id": "da135eee",
   "metadata": {
    "execution": {
     "iopub.execute_input": "2023-08-23T09:19:19.748649Z",
     "iopub.status.busy": "2023-08-23T09:19:19.748085Z",
     "iopub.status.idle": "2023-08-23T09:19:19.756814Z",
     "shell.execute_reply": "2023-08-23T09:19:19.755207Z"
    },
    "papermill": {
     "duration": 0.035983,
     "end_time": "2023-08-23T09:19:19.759642",
     "exception": false,
     "start_time": "2023-08-23T09:19:19.723659",
     "status": "completed"
    },
    "tags": []
   },
   "outputs": [
    {
     "data": {
      "text/plain": [
       "(892, 6)"
      ]
     },
     "execution_count": 4,
     "metadata": {},
     "output_type": "execute_result"
    }
   ],
   "source": [
    "car.shape"
   ]
  },
  {
   "cell_type": "code",
   "execution_count": 5,
   "id": "3305c15c",
   "metadata": {
    "execution": {
     "iopub.execute_input": "2023-08-23T09:19:19.806369Z",
     "iopub.status.busy": "2023-08-23T09:19:19.805473Z",
     "iopub.status.idle": "2023-08-23T09:19:19.835217Z",
     "shell.execute_reply": "2023-08-23T09:19:19.833557Z"
    },
    "papermill": {
     "duration": 0.056837,
     "end_time": "2023-08-23T09:19:19.838310",
     "exception": false,
     "start_time": "2023-08-23T09:19:19.781473",
     "status": "completed"
    },
    "tags": []
   },
   "outputs": [
    {
     "name": "stdout",
     "output_type": "stream",
     "text": [
      "<class 'pandas.core.frame.DataFrame'>\n",
      "RangeIndex: 892 entries, 0 to 891\n",
      "Data columns (total 6 columns):\n",
      " #   Column      Non-Null Count  Dtype \n",
      "---  ------      --------------  ----- \n",
      " 0   name        892 non-null    object\n",
      " 1   company     892 non-null    object\n",
      " 2   year        892 non-null    object\n",
      " 3   Price       892 non-null    object\n",
      " 4   kms_driven  840 non-null    object\n",
      " 5   fuel_type   837 non-null    object\n",
      "dtypes: object(6)\n",
      "memory usage: 41.9+ KB\n"
     ]
    }
   ],
   "source": [
    "car.info()"
   ]
  },
  {
   "cell_type": "markdown",
   "id": "cb13330b",
   "metadata": {
    "papermill": {
     "duration": 0.022255,
     "end_time": "2023-08-23T09:19:19.882683",
     "exception": false,
     "start_time": "2023-08-23T09:19:19.860428",
     "status": "completed"
    },
    "tags": []
   },
   "source": [
    "## Now first we have to clean the data"
   ]
  },
  {
   "cell_type": "code",
   "execution_count": 6,
   "id": "829113ad",
   "metadata": {
    "execution": {
     "iopub.execute_input": "2023-08-23T09:19:19.929424Z",
     "iopub.status.busy": "2023-08-23T09:19:19.928427Z",
     "iopub.status.idle": "2023-08-23T09:19:19.938890Z",
     "shell.execute_reply": "2023-08-23T09:19:19.937161Z"
    },
    "papermill": {
     "duration": 0.036698,
     "end_time": "2023-08-23T09:19:19.941480",
     "exception": false,
     "start_time": "2023-08-23T09:19:19.904782",
     "status": "completed"
    },
    "tags": []
   },
   "outputs": [
    {
     "data": {
      "text/plain": [
       "array(['2007', '2006', '2018', '2014', '2015', '2012', '2013', '2016',\n",
       "       '2010', '2017', '2008', '2011', '2019', '2009', '2005', '2000',\n",
       "       '...', '150k', 'TOUR', '2003', 'r 15', '2004', 'Zest', '/-Rs',\n",
       "       'sale', '1995', 'ara)', '2002', 'SELL', '2001', 'tion', 'odel',\n",
       "       '2 bs', 'arry', 'Eon', 'o...', 'ture', 'emi', 'car', 'able', 'no.',\n",
       "       'd...', 'SALE', 'digo', 'sell', 'd Ex', 'n...', 'e...', 'D...',\n",
       "       ', Ac', 'go .', 'k...', 'o c4', 'zire', 'cent', 'Sumo', 'cab',\n",
       "       't xe', 'EV2', 'r...', 'zest'], dtype=object)"
      ]
     },
     "execution_count": 6,
     "metadata": {},
     "output_type": "execute_result"
    }
   ],
   "source": [
    "car['year'].unique()"
   ]
  },
  {
   "cell_type": "code",
   "execution_count": 7,
   "id": "78a9d86d",
   "metadata": {
    "execution": {
     "iopub.execute_input": "2023-08-23T09:19:19.987257Z",
     "iopub.status.busy": "2023-08-23T09:19:19.986722Z",
     "iopub.status.idle": "2023-08-23T09:19:19.998147Z",
     "shell.execute_reply": "2023-08-23T09:19:19.996601Z"
    },
    "papermill": {
     "duration": 0.038416,
     "end_time": "2023-08-23T09:19:20.001428",
     "exception": false,
     "start_time": "2023-08-23T09:19:19.963012",
     "status": "completed"
    },
    "tags": []
   },
   "outputs": [
    {
     "data": {
      "text/plain": [
       "array(['80,000', '4,25,000', 'Ask For Price', '3,25,000', '5,75,000',\n",
       "       '1,75,000', '1,90,000', '8,30,000', '2,50,000', '1,82,000',\n",
       "       '3,15,000', '4,15,000', '3,20,000', '10,00,000', '5,00,000',\n",
       "       '3,50,000', '1,60,000', '3,10,000', '75,000', '1,00,000',\n",
       "       '2,90,000', '95,000', '1,80,000', '3,85,000', '1,05,000',\n",
       "       '6,50,000', '6,89,999', '4,48,000', '5,49,000', '5,01,000',\n",
       "       '4,89,999', '2,80,000', '3,49,999', '2,84,999', '3,45,000',\n",
       "       '4,99,999', '2,35,000', '2,49,999', '14,75,000', '3,95,000',\n",
       "       '2,20,000', '1,70,000', '85,000', '2,00,000', '5,70,000',\n",
       "       '1,10,000', '4,48,999', '18,91,111', '1,59,500', '3,44,999',\n",
       "       '4,49,999', '8,65,000', '6,99,000', '3,75,000', '2,24,999',\n",
       "       '12,00,000', '1,95,000', '3,51,000', '2,40,000', '90,000',\n",
       "       '1,55,000', '6,00,000', '1,89,500', '2,10,000', '3,90,000',\n",
       "       '1,35,000', '16,00,000', '7,01,000', '2,65,000', '5,25,000',\n",
       "       '3,72,000', '6,35,000', '5,50,000', '4,85,000', '3,29,500',\n",
       "       '2,51,111', '5,69,999', '69,999', '2,99,999', '3,99,999',\n",
       "       '4,50,000', '2,70,000', '1,58,400', '1,79,000', '1,25,000',\n",
       "       '2,99,000', '1,50,000', '2,75,000', '2,85,000', '3,40,000',\n",
       "       '70,000', '2,89,999', '8,49,999', '7,49,999', '2,74,999',\n",
       "       '9,84,999', '5,99,999', '2,44,999', '4,74,999', '2,45,000',\n",
       "       '1,69,500', '3,70,000', '1,68,000', '1,45,000', '98,500',\n",
       "       '2,09,000', '1,85,000', '9,00,000', '6,99,999', '1,99,999',\n",
       "       '5,44,999', '1,99,000', '5,40,000', '49,000', '7,00,000', '55,000',\n",
       "       '8,95,000', '3,55,000', '5,65,000', '3,65,000', '40,000',\n",
       "       '4,00,000', '3,30,000', '5,80,000', '3,79,000', '2,19,000',\n",
       "       '5,19,000', '7,30,000', '20,00,000', '21,00,000', '14,00,000',\n",
       "       '3,11,000', '8,55,000', '5,35,000', '1,78,000', '3,00,000',\n",
       "       '2,55,000', '5,49,999', '3,80,000', '57,000', '4,10,000',\n",
       "       '2,25,000', '1,20,000', '59,000', '5,99,000', '6,75,000', '72,500',\n",
       "       '6,10,000', '2,30,000', '5,20,000', '5,24,999', '4,24,999',\n",
       "       '6,44,999', '5,84,999', '7,99,999', '4,44,999', '6,49,999',\n",
       "       '9,44,999', '5,74,999', '3,74,999', '1,30,000', '4,01,000',\n",
       "       '13,50,000', '1,74,999', '2,39,999', '99,999', '3,24,999',\n",
       "       '10,74,999', '11,30,000', '1,49,000', '7,70,000', '30,000',\n",
       "       '3,35,000', '3,99,000', '65,000', '1,69,999', '1,65,000',\n",
       "       '5,60,000', '9,50,000', '7,15,000', '45,000', '9,40,000',\n",
       "       '1,55,555', '15,00,000', '4,95,000', '8,00,000', '12,99,000',\n",
       "       '5,30,000', '14,99,000', '32,000', '4,05,000', '7,60,000',\n",
       "       '7,50,000', '4,19,000', '1,40,000', '15,40,000', '1,23,000',\n",
       "       '4,98,000', '4,80,000', '4,88,000', '15,25,000', '5,48,900',\n",
       "       '7,25,000', '99,000', '52,000', '28,00,000', '4,99,000',\n",
       "       '3,81,000', '2,78,000', '6,90,000', '2,60,000', '90,001',\n",
       "       '1,15,000', '15,99,000', '1,59,000', '51,999', '2,15,000',\n",
       "       '35,000', '11,50,000', '2,69,000', '60,000', '4,30,000',\n",
       "       '85,00,003', '4,01,919', '4,90,000', '4,24,000', '2,05,000',\n",
       "       '5,49,900', '3,71,500', '4,35,000', '1,89,700', '3,89,700',\n",
       "       '3,60,000', '2,95,000', '1,14,990', '10,65,000', '4,70,000',\n",
       "       '48,000', '1,88,000', '4,65,000', '1,79,999', '21,90,000',\n",
       "       '23,90,000', '10,75,000', '4,75,000', '10,25,000', '6,15,000',\n",
       "       '19,00,000', '14,90,000', '15,10,000', '18,50,000', '7,90,000',\n",
       "       '17,25,000', '12,25,000', '68,000', '9,70,000', '31,00,000',\n",
       "       '8,99,000', '88,000', '53,000', '5,68,500', '71,000', '5,90,000',\n",
       "       '7,95,000', '42,000', '1,89,000', '1,62,000', '35,999',\n",
       "       '29,00,000', '39,999', '50,500', '5,10,000', '8,60,000',\n",
       "       '5,00,001'], dtype=object)"
      ]
     },
     "execution_count": 7,
     "metadata": {},
     "output_type": "execute_result"
    }
   ],
   "source": [
    "car['Price'].unique()"
   ]
  },
  {
   "cell_type": "markdown",
   "id": "536b02a4",
   "metadata": {
    "papermill": {
     "duration": 0.021762,
     "end_time": "2023-08-23T09:19:20.052101",
     "exception": false,
     "start_time": "2023-08-23T09:19:20.030339",
     "status": "completed"
    },
    "tags": []
   },
   "source": [
    "## Quality\n",
    "* Year has many non year values\n",
    "* Ask for price in year column in price, commas are also, we have to remove them or we have to convert object to integers\n",
    "* kms_driven has with kms integers\n",
    "* has nan values in kms_driven\n",
    "* fueltype has nan values\n",
    "* we have to convert name into fully categarical data\n",
    "* keep first 3 word of the name"
   ]
  },
  {
   "cell_type": "markdown",
   "id": "f286a69b",
   "metadata": {
    "papermill": {
     "duration": 0.022176,
     "end_time": "2023-08-23T09:19:20.096951",
     "exception": false,
     "start_time": "2023-08-23T09:19:20.074775",
     "status": "completed"
    },
    "tags": []
   },
   "source": []
  },
  {
   "cell_type": "markdown",
   "id": "235eb673",
   "metadata": {
    "papermill": {
     "duration": 0.023126,
     "end_time": "2023-08-23T09:19:20.143084",
     "exception": false,
     "start_time": "2023-08-23T09:19:20.119958",
     "status": "completed"
    },
    "tags": []
   },
   "source": [
    "## Data Cleaning"
   ]
  },
  {
   "cell_type": "code",
   "execution_count": 8,
   "id": "3bdc4029",
   "metadata": {
    "execution": {
     "iopub.execute_input": "2023-08-23T09:19:20.190924Z",
     "iopub.status.busy": "2023-08-23T09:19:20.190084Z",
     "iopub.status.idle": "2023-08-23T09:19:20.195594Z",
     "shell.execute_reply": "2023-08-23T09:19:20.194501Z"
    },
    "papermill": {
     "duration": 0.033424,
     "end_time": "2023-08-23T09:19:20.198810",
     "exception": false,
     "start_time": "2023-08-23T09:19:20.165386",
     "status": "completed"
    },
    "tags": []
   },
   "outputs": [],
   "source": [
    "backup=car.copy() # for backup copy of our original data"
   ]
  },
  {
   "cell_type": "code",
   "execution_count": 9,
   "id": "3c271b51",
   "metadata": {
    "execution": {
     "iopub.execute_input": "2023-08-23T09:19:20.247361Z",
     "iopub.status.busy": "2023-08-23T09:19:20.246277Z",
     "iopub.status.idle": "2023-08-23T09:19:20.256505Z",
     "shell.execute_reply": "2023-08-23T09:19:20.255513Z"
    },
    "papermill": {
     "duration": 0.037203,
     "end_time": "2023-08-23T09:19:20.259193",
     "exception": false,
     "start_time": "2023-08-23T09:19:20.221990",
     "status": "completed"
    },
    "tags": []
   },
   "outputs": [
    {
     "data": {
      "text/plain": [
       "0      2007\n",
       "1      2006\n",
       "2      2018\n",
       "3      2014\n",
       "4      2014\n",
       "       ... \n",
       "887    zest\n",
       "888    2018\n",
       "889    2013\n",
       "890    2014\n",
       "891    2014\n",
       "Name: year, Length: 892, dtype: object"
      ]
     },
     "execution_count": 9,
     "metadata": {},
     "output_type": "execute_result"
    }
   ],
   "source": [
    "car['year']"
   ]
  },
  {
   "cell_type": "code",
   "execution_count": 10,
   "id": "a5304e53",
   "metadata": {
    "execution": {
     "iopub.execute_input": "2023-08-23T09:19:20.307745Z",
     "iopub.status.busy": "2023-08-23T09:19:20.306942Z",
     "iopub.status.idle": "2023-08-23T09:19:20.314061Z",
     "shell.execute_reply": "2023-08-23T09:19:20.313083Z"
    },
    "papermill": {
     "duration": 0.034909,
     "end_time": "2023-08-23T09:19:20.316738",
     "exception": false,
     "start_time": "2023-08-23T09:19:20.281829",
     "status": "completed"
    },
    "tags": []
   },
   "outputs": [],
   "source": [
    "car = car[car['year'].str.isnumeric()]"
   ]
  },
  {
   "cell_type": "code",
   "execution_count": 11,
   "id": "e655711f",
   "metadata": {
    "execution": {
     "iopub.execute_input": "2023-08-23T09:19:20.365037Z",
     "iopub.status.busy": "2023-08-23T09:19:20.364186Z",
     "iopub.status.idle": "2023-08-23T09:19:20.371079Z",
     "shell.execute_reply": "2023-08-23T09:19:20.369928Z"
    },
    "papermill": {
     "duration": 0.034179,
     "end_time": "2023-08-23T09:19:20.373900",
     "exception": false,
     "start_time": "2023-08-23T09:19:20.339721",
     "status": "completed"
    },
    "tags": []
   },
   "outputs": [],
   "source": [
    "car['year']=car['year'].astype(int)"
   ]
  },
  {
   "cell_type": "code",
   "execution_count": 12,
   "id": "a30a94d7",
   "metadata": {
    "execution": {
     "iopub.execute_input": "2023-08-23T09:19:20.421747Z",
     "iopub.status.busy": "2023-08-23T09:19:20.421205Z",
     "iopub.status.idle": "2023-08-23T09:19:20.439043Z",
     "shell.execute_reply": "2023-08-23T09:19:20.436922Z"
    },
    "papermill": {
     "duration": 0.045869,
     "end_time": "2023-08-23T09:19:20.442075",
     "exception": false,
     "start_time": "2023-08-23T09:19:20.396206",
     "status": "completed"
    },
    "tags": []
   },
   "outputs": [
    {
     "name": "stdout",
     "output_type": "stream",
     "text": [
      "<class 'pandas.core.frame.DataFrame'>\n",
      "Int64Index: 842 entries, 0 to 891\n",
      "Data columns (total 6 columns):\n",
      " #   Column      Non-Null Count  Dtype \n",
      "---  ------      --------------  ----- \n",
      " 0   name        842 non-null    object\n",
      " 1   company     842 non-null    object\n",
      " 2   year        842 non-null    int64 \n",
      " 3   Price       842 non-null    object\n",
      " 4   kms_driven  840 non-null    object\n",
      " 5   fuel_type   837 non-null    object\n",
      "dtypes: int64(1), object(5)\n",
      "memory usage: 46.0+ KB\n"
     ]
    }
   ],
   "source": [
    "car.info()"
   ]
  },
  {
   "cell_type": "markdown",
   "id": "9e339963",
   "metadata": {
    "papermill": {
     "duration": 0.023005,
     "end_time": "2023-08-23T09:19:20.489369",
     "exception": false,
     "start_time": "2023-08-23T09:19:20.466364",
     "status": "completed"
    },
    "tags": []
   },
   "source": [
    "#### Ask for price in year column in price, commas are also, we have to remove them or we have to convert object to integers"
   ]
  },
  {
   "cell_type": "code",
   "execution_count": 13,
   "id": "65de56f6",
   "metadata": {
    "execution": {
     "iopub.execute_input": "2023-08-23T09:19:20.538839Z",
     "iopub.status.busy": "2023-08-23T09:19:20.537268Z",
     "iopub.status.idle": "2023-08-23T09:19:20.544955Z",
     "shell.execute_reply": "2023-08-23T09:19:20.543797Z"
    },
    "papermill": {
     "duration": 0.03558,
     "end_time": "2023-08-23T09:19:20.548203",
     "exception": false,
     "start_time": "2023-08-23T09:19:20.512623",
     "status": "completed"
    },
    "tags": []
   },
   "outputs": [],
   "source": [
    "car = car[car['Price']!=\"Ask For Price\"]"
   ]
  },
  {
   "cell_type": "markdown",
   "id": "04f7d07c",
   "metadata": {
    "papermill": {
     "duration": 0.022415,
     "end_time": "2023-08-23T09:19:20.595066",
     "exception": false,
     "start_time": "2023-08-23T09:19:20.572651",
     "status": "completed"
    },
    "tags": []
   },
   "source": [
    "###### ','to ''"
   ]
  },
  {
   "cell_type": "code",
   "execution_count": 14,
   "id": "a5579da9",
   "metadata": {
    "execution": {
     "iopub.execute_input": "2023-08-23T09:19:20.643829Z",
     "iopub.status.busy": "2023-08-23T09:19:20.642744Z",
     "iopub.status.idle": "2023-08-23T09:19:20.653103Z",
     "shell.execute_reply": "2023-08-23T09:19:20.651756Z"
    },
    "papermill": {
     "duration": 0.038638,
     "end_time": "2023-08-23T09:19:20.656800",
     "exception": false,
     "start_time": "2023-08-23T09:19:20.618162",
     "status": "completed"
    },
    "tags": []
   },
   "outputs": [],
   "source": [
    "car['Price'] = car['Price'].str.replace(',','').astype(int)"
   ]
  },
  {
   "cell_type": "markdown",
   "id": "634be524",
   "metadata": {
    "papermill": {
     "duration": 0.023832,
     "end_time": "2023-08-23T09:19:20.703547",
     "exception": false,
     "start_time": "2023-08-23T09:19:20.679715",
     "status": "completed"
    },
    "tags": []
   },
   "source": [
    "#### kms_driven has with kms integers"
   ]
  },
  {
   "cell_type": "code",
   "execution_count": 15,
   "id": "70a6cd82",
   "metadata": {
    "execution": {
     "iopub.execute_input": "2023-08-23T09:19:20.752508Z",
     "iopub.status.busy": "2023-08-23T09:19:20.751125Z",
     "iopub.status.idle": "2023-08-23T09:19:20.760467Z",
     "shell.execute_reply": "2023-08-23T09:19:20.759519Z"
    },
    "papermill": {
     "duration": 0.036872,
     "end_time": "2023-08-23T09:19:20.763090",
     "exception": false,
     "start_time": "2023-08-23T09:19:20.726218",
     "status": "completed"
    },
    "tags": []
   },
   "outputs": [
    {
     "data": {
      "text/plain": [
       "0        45,000 kms\n",
       "1            40 kms\n",
       "3        28,000 kms\n",
       "4        36,000 kms\n",
       "6        41,000 kms\n",
       "           ...     \n",
       "886    1,32,000 kms\n",
       "888      27,000 kms\n",
       "889      40,000 kms\n",
       "890          Petrol\n",
       "891          Petrol\n",
       "Name: kms_driven, Length: 819, dtype: object"
      ]
     },
     "execution_count": 15,
     "metadata": {},
     "output_type": "execute_result"
    }
   ],
   "source": [
    "car['kms_driven']"
   ]
  },
  {
   "cell_type": "code",
   "execution_count": 16,
   "id": "68c9196b",
   "metadata": {
    "execution": {
     "iopub.execute_input": "2023-08-23T09:19:20.812743Z",
     "iopub.status.busy": "2023-08-23T09:19:20.812027Z",
     "iopub.status.idle": "2023-08-23T09:19:20.822755Z",
     "shell.execute_reply": "2023-08-23T09:19:20.821252Z"
    },
    "papermill": {
     "duration": 0.039272,
     "end_time": "2023-08-23T09:19:20.826285",
     "exception": false,
     "start_time": "2023-08-23T09:19:20.787013",
     "status": "completed"
    },
    "tags": []
   },
   "outputs": [],
   "source": [
    "car['kms_driven'] = car['kms_driven'].str.split(' ').str.get(0).str.replace(',','') #after spliting, we keep first part and replace comma with no space"
   ]
  },
  {
   "cell_type": "code",
   "execution_count": 17,
   "id": "3b2f88cf",
   "metadata": {
    "execution": {
     "iopub.execute_input": "2023-08-23T09:19:20.874255Z",
     "iopub.status.busy": "2023-08-23T09:19:20.873775Z",
     "iopub.status.idle": "2023-08-23T09:19:20.883211Z",
     "shell.execute_reply": "2023-08-23T09:19:20.881803Z"
    },
    "papermill": {
     "duration": 0.03692,
     "end_time": "2023-08-23T09:19:20.886177",
     "exception": false,
     "start_time": "2023-08-23T09:19:20.849257",
     "status": "completed"
    },
    "tags": []
   },
   "outputs": [],
   "source": [
    "car = car[car['kms_driven'].str.isnumeric()]"
   ]
  },
  {
   "cell_type": "code",
   "execution_count": 18,
   "id": "873ac897",
   "metadata": {
    "execution": {
     "iopub.execute_input": "2023-08-23T09:19:20.936684Z",
     "iopub.status.busy": "2023-08-23T09:19:20.935899Z",
     "iopub.status.idle": "2023-08-23T09:19:20.950723Z",
     "shell.execute_reply": "2023-08-23T09:19:20.948939Z"
    },
    "papermill": {
     "duration": 0.042606,
     "end_time": "2023-08-23T09:19:20.953595",
     "exception": false,
     "start_time": "2023-08-23T09:19:20.910989",
     "status": "completed"
    },
    "tags": []
   },
   "outputs": [
    {
     "name": "stdout",
     "output_type": "stream",
     "text": [
      "<class 'pandas.core.frame.DataFrame'>\n",
      "Int64Index: 817 entries, 0 to 889\n",
      "Data columns (total 6 columns):\n",
      " #   Column      Non-Null Count  Dtype \n",
      "---  ------      --------------  ----- \n",
      " 0   name        817 non-null    object\n",
      " 1   company     817 non-null    object\n",
      " 2   year        817 non-null    int64 \n",
      " 3   Price       817 non-null    int64 \n",
      " 4   kms_driven  817 non-null    object\n",
      " 5   fuel_type   816 non-null    object\n",
      "dtypes: int64(2), object(4)\n",
      "memory usage: 44.7+ KB\n"
     ]
    }
   ],
   "source": [
    "car.info()"
   ]
  },
  {
   "cell_type": "code",
   "execution_count": 19,
   "id": "26ee137d",
   "metadata": {
    "execution": {
     "iopub.execute_input": "2023-08-23T09:19:21.001930Z",
     "iopub.status.busy": "2023-08-23T09:19:21.001417Z",
     "iopub.status.idle": "2023-08-23T09:19:21.009340Z",
     "shell.execute_reply": "2023-08-23T09:19:21.007424Z"
    },
    "papermill": {
     "duration": 0.037215,
     "end_time": "2023-08-23T09:19:21.013713",
     "exception": false,
     "start_time": "2023-08-23T09:19:20.976498",
     "status": "completed"
    },
    "tags": []
   },
   "outputs": [],
   "source": [
    "car['kms_driven'] = car['kms_driven'].astype(int)"
   ]
  },
  {
   "cell_type": "code",
   "execution_count": 20,
   "id": "12984642",
   "metadata": {
    "execution": {
     "iopub.execute_input": "2023-08-23T09:19:21.066845Z",
     "iopub.status.busy": "2023-08-23T09:19:21.065171Z",
     "iopub.status.idle": "2023-08-23T09:19:21.083523Z",
     "shell.execute_reply": "2023-08-23T09:19:21.081330Z"
    },
    "papermill": {
     "duration": 0.04824,
     "end_time": "2023-08-23T09:19:21.086944",
     "exception": false,
     "start_time": "2023-08-23T09:19:21.038704",
     "status": "completed"
    },
    "tags": []
   },
   "outputs": [
    {
     "name": "stdout",
     "output_type": "stream",
     "text": [
      "<class 'pandas.core.frame.DataFrame'>\n",
      "Int64Index: 817 entries, 0 to 889\n",
      "Data columns (total 6 columns):\n",
      " #   Column      Non-Null Count  Dtype \n",
      "---  ------      --------------  ----- \n",
      " 0   name        817 non-null    object\n",
      " 1   company     817 non-null    object\n",
      " 2   year        817 non-null    int64 \n",
      " 3   Price       817 non-null    int64 \n",
      " 4   kms_driven  817 non-null    int64 \n",
      " 5   fuel_type   816 non-null    object\n",
      "dtypes: int64(3), object(3)\n",
      "memory usage: 44.7+ KB\n"
     ]
    }
   ],
   "source": [
    "car.info()"
   ]
  },
  {
   "cell_type": "code",
   "execution_count": 21,
   "id": "3cec3ba5",
   "metadata": {
    "execution": {
     "iopub.execute_input": "2023-08-23T09:19:21.137357Z",
     "iopub.status.busy": "2023-08-23T09:19:21.136797Z",
     "iopub.status.idle": "2023-08-23T09:19:21.146711Z",
     "shell.execute_reply": "2023-08-23T09:19:21.144856Z"
    },
    "papermill": {
     "duration": 0.038848,
     "end_time": "2023-08-23T09:19:21.150016",
     "exception": false,
     "start_time": "2023-08-23T09:19:21.111168",
     "status": "completed"
    },
    "tags": []
   },
   "outputs": [],
   "source": [
    "car = car[~car['fuel_type'].isna()]"
   ]
  },
  {
   "cell_type": "markdown",
   "id": "2d787be1",
   "metadata": {
    "papermill": {
     "duration": 0.023874,
     "end_time": "2023-08-23T09:19:21.197614",
     "exception": false,
     "start_time": "2023-08-23T09:19:21.173740",
     "status": "completed"
    },
    "tags": []
   },
   "source": [
    "##### keep first three letters of name"
   ]
  },
  {
   "cell_type": "code",
   "execution_count": 22,
   "id": "4f1ef7b8",
   "metadata": {
    "execution": {
     "iopub.execute_input": "2023-08-23T09:19:21.248326Z",
     "iopub.status.busy": "2023-08-23T09:19:21.247821Z",
     "iopub.status.idle": "2023-08-23T09:19:21.262378Z",
     "shell.execute_reply": "2023-08-23T09:19:21.260692Z"
    },
    "papermill": {
     "duration": 0.0429,
     "end_time": "2023-08-23T09:19:21.265427",
     "exception": false,
     "start_time": "2023-08-23T09:19:21.222527",
     "status": "completed"
    },
    "tags": []
   },
   "outputs": [],
   "source": [
    "car['name'] = car['name'].str.split(' ').str.slice(0,3).str.join(' ')"
   ]
  },
  {
   "cell_type": "raw",
   "id": "012b2249",
   "metadata": {
    "papermill": {
     "duration": 0.02423,
     "end_time": "2023-08-23T09:19:21.312966",
     "exception": false,
     "start_time": "2023-08-23T09:19:21.288736",
     "status": "completed"
    },
    "tags": []
   },
   "source": [
    "car.reset_index(drop=True)"
   ]
  },
  {
   "cell_type": "code",
   "execution_count": 23,
   "id": "c38ae235",
   "metadata": {
    "execution": {
     "iopub.execute_input": "2023-08-23T09:19:21.362863Z",
     "iopub.status.busy": "2023-08-23T09:19:21.362328Z",
     "iopub.status.idle": "2023-08-23T09:19:21.382021Z",
     "shell.execute_reply": "2023-08-23T09:19:21.379739Z"
    },
    "papermill": {
     "duration": 0.048808,
     "end_time": "2023-08-23T09:19:21.385608",
     "exception": false,
     "start_time": "2023-08-23T09:19:21.336800",
     "status": "completed"
    },
    "tags": []
   },
   "outputs": [
    {
     "name": "stdout",
     "output_type": "stream",
     "text": [
      "<class 'pandas.core.frame.DataFrame'>\n",
      "Int64Index: 816 entries, 0 to 889\n",
      "Data columns (total 6 columns):\n",
      " #   Column      Non-Null Count  Dtype \n",
      "---  ------      --------------  ----- \n",
      " 0   name        816 non-null    object\n",
      " 1   company     816 non-null    object\n",
      " 2   year        816 non-null    int64 \n",
      " 3   Price       816 non-null    int64 \n",
      " 4   kms_driven  816 non-null    int64 \n",
      " 5   fuel_type   816 non-null    object\n",
      "dtypes: int64(3), object(3)\n",
      "memory usage: 44.6+ KB\n"
     ]
    }
   ],
   "source": [
    "car.info()"
   ]
  },
  {
   "cell_type": "code",
   "execution_count": 24,
   "id": "80d4beb7",
   "metadata": {
    "execution": {
     "iopub.execute_input": "2023-08-23T09:19:21.435323Z",
     "iopub.status.busy": "2023-08-23T09:19:21.434824Z",
     "iopub.status.idle": "2023-08-23T09:19:21.452726Z",
     "shell.execute_reply": "2023-08-23T09:19:21.450806Z"
    },
    "papermill": {
     "duration": 0.046478,
     "end_time": "2023-08-23T09:19:21.456032",
     "exception": false,
     "start_time": "2023-08-23T09:19:21.409554",
     "status": "completed"
    },
    "tags": []
   },
   "outputs": [
    {
     "data": {
      "text/html": [
       "<div>\n",
       "<style scoped>\n",
       "    .dataframe tbody tr th:only-of-type {\n",
       "        vertical-align: middle;\n",
       "    }\n",
       "\n",
       "    .dataframe tbody tr th {\n",
       "        vertical-align: top;\n",
       "    }\n",
       "\n",
       "    .dataframe thead th {\n",
       "        text-align: right;\n",
       "    }\n",
       "</style>\n",
       "<table border=\"1\" class=\"dataframe\">\n",
       "  <thead>\n",
       "    <tr style=\"text-align: right;\">\n",
       "      <th></th>\n",
       "      <th>name</th>\n",
       "      <th>company</th>\n",
       "      <th>year</th>\n",
       "      <th>Price</th>\n",
       "      <th>kms_driven</th>\n",
       "      <th>fuel_type</th>\n",
       "    </tr>\n",
       "  </thead>\n",
       "  <tbody>\n",
       "    <tr>\n",
       "      <th>0</th>\n",
       "      <td>Hyundai Santro Xing</td>\n",
       "      <td>Hyundai</td>\n",
       "      <td>2007</td>\n",
       "      <td>80000</td>\n",
       "      <td>45000</td>\n",
       "      <td>Petrol</td>\n",
       "    </tr>\n",
       "    <tr>\n",
       "      <th>1</th>\n",
       "      <td>Mahindra Jeep CL550</td>\n",
       "      <td>Mahindra</td>\n",
       "      <td>2006</td>\n",
       "      <td>425000</td>\n",
       "      <td>40</td>\n",
       "      <td>Diesel</td>\n",
       "    </tr>\n",
       "    <tr>\n",
       "      <th>3</th>\n",
       "      <td>Hyundai Grand i10</td>\n",
       "      <td>Hyundai</td>\n",
       "      <td>2014</td>\n",
       "      <td>325000</td>\n",
       "      <td>28000</td>\n",
       "      <td>Petrol</td>\n",
       "    </tr>\n",
       "    <tr>\n",
       "      <th>4</th>\n",
       "      <td>Ford EcoSport Titanium</td>\n",
       "      <td>Ford</td>\n",
       "      <td>2014</td>\n",
       "      <td>575000</td>\n",
       "      <td>36000</td>\n",
       "      <td>Diesel</td>\n",
       "    </tr>\n",
       "    <tr>\n",
       "      <th>6</th>\n",
       "      <td>Ford Figo</td>\n",
       "      <td>Ford</td>\n",
       "      <td>2012</td>\n",
       "      <td>175000</td>\n",
       "      <td>41000</td>\n",
       "      <td>Diesel</td>\n",
       "    </tr>\n",
       "  </tbody>\n",
       "</table>\n",
       "</div>"
      ],
      "text/plain": [
       "                     name   company  year   Price  kms_driven fuel_type\n",
       "0     Hyundai Santro Xing   Hyundai  2007   80000       45000    Petrol\n",
       "1     Mahindra Jeep CL550  Mahindra  2006  425000          40    Diesel\n",
       "3       Hyundai Grand i10   Hyundai  2014  325000       28000    Petrol\n",
       "4  Ford EcoSport Titanium      Ford  2014  575000       36000    Diesel\n",
       "6               Ford Figo      Ford  2012  175000       41000    Diesel"
      ]
     },
     "execution_count": 24,
     "metadata": {},
     "output_type": "execute_result"
    }
   ],
   "source": [
    "car.head()"
   ]
  },
  {
   "cell_type": "code",
   "execution_count": 25,
   "id": "cbc59747",
   "metadata": {
    "execution": {
     "iopub.execute_input": "2023-08-23T09:19:21.506941Z",
     "iopub.status.busy": "2023-08-23T09:19:21.506368Z",
     "iopub.status.idle": "2023-08-23T09:19:21.536659Z",
     "shell.execute_reply": "2023-08-23T09:19:21.535260Z"
    },
    "papermill": {
     "duration": 0.05941,
     "end_time": "2023-08-23T09:19:21.539970",
     "exception": false,
     "start_time": "2023-08-23T09:19:21.480560",
     "status": "completed"
    },
    "tags": []
   },
   "outputs": [
    {
     "data": {
      "text/html": [
       "<div>\n",
       "<style scoped>\n",
       "    .dataframe tbody tr th:only-of-type {\n",
       "        vertical-align: middle;\n",
       "    }\n",
       "\n",
       "    .dataframe tbody tr th {\n",
       "        vertical-align: top;\n",
       "    }\n",
       "\n",
       "    .dataframe thead th {\n",
       "        text-align: right;\n",
       "    }\n",
       "</style>\n",
       "<table border=\"1\" class=\"dataframe\">\n",
       "  <thead>\n",
       "    <tr style=\"text-align: right;\">\n",
       "      <th></th>\n",
       "      <th>year</th>\n",
       "      <th>Price</th>\n",
       "      <th>kms_driven</th>\n",
       "    </tr>\n",
       "  </thead>\n",
       "  <tbody>\n",
       "    <tr>\n",
       "      <th>count</th>\n",
       "      <td>816.000000</td>\n",
       "      <td>8.160000e+02</td>\n",
       "      <td>816.000000</td>\n",
       "    </tr>\n",
       "    <tr>\n",
       "      <th>mean</th>\n",
       "      <td>2012.444853</td>\n",
       "      <td>4.117176e+05</td>\n",
       "      <td>46275.531863</td>\n",
       "    </tr>\n",
       "    <tr>\n",
       "      <th>std</th>\n",
       "      <td>4.002992</td>\n",
       "      <td>4.751844e+05</td>\n",
       "      <td>34297.428044</td>\n",
       "    </tr>\n",
       "    <tr>\n",
       "      <th>min</th>\n",
       "      <td>1995.000000</td>\n",
       "      <td>3.000000e+04</td>\n",
       "      <td>0.000000</td>\n",
       "    </tr>\n",
       "    <tr>\n",
       "      <th>25%</th>\n",
       "      <td>2010.000000</td>\n",
       "      <td>1.750000e+05</td>\n",
       "      <td>27000.000000</td>\n",
       "    </tr>\n",
       "    <tr>\n",
       "      <th>50%</th>\n",
       "      <td>2013.000000</td>\n",
       "      <td>2.999990e+05</td>\n",
       "      <td>41000.000000</td>\n",
       "    </tr>\n",
       "    <tr>\n",
       "      <th>75%</th>\n",
       "      <td>2015.000000</td>\n",
       "      <td>4.912500e+05</td>\n",
       "      <td>56818.500000</td>\n",
       "    </tr>\n",
       "    <tr>\n",
       "      <th>max</th>\n",
       "      <td>2019.000000</td>\n",
       "      <td>8.500003e+06</td>\n",
       "      <td>400000.000000</td>\n",
       "    </tr>\n",
       "  </tbody>\n",
       "</table>\n",
       "</div>"
      ],
      "text/plain": [
       "              year         Price     kms_driven\n",
       "count   816.000000  8.160000e+02     816.000000\n",
       "mean   2012.444853  4.117176e+05   46275.531863\n",
       "std       4.002992  4.751844e+05   34297.428044\n",
       "min    1995.000000  3.000000e+04       0.000000\n",
       "25%    2010.000000  1.750000e+05   27000.000000\n",
       "50%    2013.000000  2.999990e+05   41000.000000\n",
       "75%    2015.000000  4.912500e+05   56818.500000\n",
       "max    2019.000000  8.500003e+06  400000.000000"
      ]
     },
     "execution_count": 25,
     "metadata": {},
     "output_type": "execute_result"
    }
   ],
   "source": [
    "car.describe()"
   ]
  },
  {
   "cell_type": "markdown",
   "id": "8f0e83da",
   "metadata": {
    "papermill": {
     "duration": 0.024859,
     "end_time": "2023-08-23T09:19:21.590563",
     "exception": false,
     "start_time": "2023-08-23T09:19:21.565704",
     "status": "completed"
    },
    "tags": []
   },
   "source": [
    "# Now our data is fully cleaned"
   ]
  },
  {
   "cell_type": "code",
   "execution_count": 26,
   "id": "6a3412f3",
   "metadata": {
    "execution": {
     "iopub.execute_input": "2023-08-23T09:19:21.641488Z",
     "iopub.status.busy": "2023-08-23T09:19:21.640991Z",
     "iopub.status.idle": "2023-08-23T09:19:21.657084Z",
     "shell.execute_reply": "2023-08-23T09:19:21.655270Z"
    },
    "papermill": {
     "duration": 0.04483,
     "end_time": "2023-08-23T09:19:21.660102",
     "exception": false,
     "start_time": "2023-08-23T09:19:21.615272",
     "status": "completed"
    },
    "tags": []
   },
   "outputs": [
    {
     "data": {
      "text/html": [
       "<div>\n",
       "<style scoped>\n",
       "    .dataframe tbody tr th:only-of-type {\n",
       "        vertical-align: middle;\n",
       "    }\n",
       "\n",
       "    .dataframe tbody tr th {\n",
       "        vertical-align: top;\n",
       "    }\n",
       "\n",
       "    .dataframe thead th {\n",
       "        text-align: right;\n",
       "    }\n",
       "</style>\n",
       "<table border=\"1\" class=\"dataframe\">\n",
       "  <thead>\n",
       "    <tr style=\"text-align: right;\">\n",
       "      <th></th>\n",
       "      <th>name</th>\n",
       "      <th>company</th>\n",
       "      <th>year</th>\n",
       "      <th>Price</th>\n",
       "      <th>kms_driven</th>\n",
       "      <th>fuel_type</th>\n",
       "    </tr>\n",
       "  </thead>\n",
       "  <tbody>\n",
       "    <tr>\n",
       "      <th>562</th>\n",
       "      <td>Mahindra XUV500 W6</td>\n",
       "      <td>Mahindra</td>\n",
       "      <td>2014</td>\n",
       "      <td>8500003</td>\n",
       "      <td>45000</td>\n",
       "      <td>Diesel</td>\n",
       "    </tr>\n",
       "  </tbody>\n",
       "</table>\n",
       "</div>"
      ],
      "text/plain": [
       "                   name   company  year    Price  kms_driven fuel_type\n",
       "562  Mahindra XUV500 W6  Mahindra  2014  8500003       45000    Diesel"
      ]
     },
     "execution_count": 26,
     "metadata": {},
     "output_type": "execute_result"
    }
   ],
   "source": [
    "car[car['Price']>6e6] # this is outlier , it is only one that is maximus so we have to remove it"
   ]
  },
  {
   "cell_type": "code",
   "execution_count": 27,
   "id": "02fdcc84",
   "metadata": {
    "execution": {
     "iopub.execute_input": "2023-08-23T09:19:21.709990Z",
     "iopub.status.busy": "2023-08-23T09:19:21.708922Z",
     "iopub.status.idle": "2023-08-23T09:19:21.717910Z",
     "shell.execute_reply": "2023-08-23T09:19:21.716464Z"
    },
    "papermill": {
     "duration": 0.037386,
     "end_time": "2023-08-23T09:19:21.721007",
     "exception": false,
     "start_time": "2023-08-23T09:19:21.683621",
     "status": "completed"
    },
    "tags": []
   },
   "outputs": [],
   "source": [
    "car = car[car['Price']<6e6].reset_index(drop= True)"
   ]
  },
  {
   "cell_type": "code",
   "execution_count": 28,
   "id": "bcc5a29f",
   "metadata": {
    "execution": {
     "iopub.execute_input": "2023-08-23T09:19:21.771907Z",
     "iopub.status.busy": "2023-08-23T09:19:21.771342Z",
     "iopub.status.idle": "2023-08-23T09:19:21.789487Z",
     "shell.execute_reply": "2023-08-23T09:19:21.787588Z"
    },
    "papermill": {
     "duration": 0.047877,
     "end_time": "2023-08-23T09:19:21.792631",
     "exception": false,
     "start_time": "2023-08-23T09:19:21.744754",
     "status": "completed"
    },
    "tags": []
   },
   "outputs": [],
   "source": [
    "car.to_csv(\"Cleaned Car.csv\") #Saving our new cleaned dataset as Cleaned Car.csv"
   ]
  },
  {
   "cell_type": "markdown",
   "id": "3df3b1ef",
   "metadata": {
    "papermill": {
     "duration": 0.023525,
     "end_time": "2023-08-23T09:19:21.840761",
     "exception": false,
     "start_time": "2023-08-23T09:19:21.817236",
     "status": "completed"
    },
    "tags": []
   },
   "source": [
    "# Model"
   ]
  },
  {
   "cell_type": "code",
   "execution_count": 29,
   "id": "cf9ec482",
   "metadata": {
    "execution": {
     "iopub.execute_input": "2023-08-23T09:19:21.890142Z",
     "iopub.status.busy": "2023-08-23T09:19:21.889602Z",
     "iopub.status.idle": "2023-08-23T09:19:21.898547Z",
     "shell.execute_reply": "2023-08-23T09:19:21.897044Z"
    },
    "papermill": {
     "duration": 0.037367,
     "end_time": "2023-08-23T09:19:21.901515",
     "exception": false,
     "start_time": "2023-08-23T09:19:21.864148",
     "status": "completed"
    },
    "tags": []
   },
   "outputs": [],
   "source": [
    "# Split the data into features (X) and target (y)\n",
    "X = car.drop('Price', axis=1)\n",
    "y = car['Price']"
   ]
  },
  {
   "cell_type": "code",
   "execution_count": 30,
   "id": "272fcdd1",
   "metadata": {
    "execution": {
     "iopub.execute_input": "2023-08-23T09:19:21.950924Z",
     "iopub.status.busy": "2023-08-23T09:19:21.950390Z",
     "iopub.status.idle": "2023-08-23T09:19:23.434776Z",
     "shell.execute_reply": "2023-08-23T09:19:23.432746Z"
    },
    "papermill": {
     "duration": 1.514646,
     "end_time": "2023-08-23T09:19:23.439395",
     "exception": false,
     "start_time": "2023-08-23T09:19:21.924749",
     "status": "completed"
    },
    "tags": []
   },
   "outputs": [],
   "source": [
    "from sklearn.model_selection import train_test_split\n",
    "x_train, x_test, y_train, y_test = train_test_split(X,y, test_size = 0.2)"
   ]
  },
  {
   "cell_type": "code",
   "execution_count": 31,
   "id": "f8fa56d2",
   "metadata": {
    "execution": {
     "iopub.execute_input": "2023-08-23T09:19:23.496370Z",
     "iopub.status.busy": "2023-08-23T09:19:23.495849Z",
     "iopub.status.idle": "2023-08-23T09:19:23.649385Z",
     "shell.execute_reply": "2023-08-23T09:19:23.647377Z"
    },
    "papermill": {
     "duration": 0.186242,
     "end_time": "2023-08-23T09:19:23.653391",
     "exception": false,
     "start_time": "2023-08-23T09:19:23.467149",
     "status": "completed"
    },
    "tags": []
   },
   "outputs": [],
   "source": [
    "from sklearn.linear_model import LinearRegression\n",
    "from sklearn.metrics import r2_score\n",
    "from sklearn.preprocessing import OneHotEncoder\n",
    "from sklearn.compose import make_column_transformer\n",
    "from sklearn.pipeline import make_pipeline\n",
    "from sklearn.metrics import mean_absolute_error"
   ]
  },
  {
   "cell_type": "code",
   "execution_count": 32,
   "id": "3168a06b",
   "metadata": {
    "execution": {
     "iopub.execute_input": "2023-08-23T09:19:23.706255Z",
     "iopub.status.busy": "2023-08-23T09:19:23.705743Z",
     "iopub.status.idle": "2023-08-23T09:19:23.725944Z",
     "shell.execute_reply": "2023-08-23T09:19:23.724283Z"
    },
    "papermill": {
     "duration": 0.049698,
     "end_time": "2023-08-23T09:19:23.729238",
     "exception": false,
     "start_time": "2023-08-23T09:19:23.679540",
     "status": "completed"
    },
    "tags": []
   },
   "outputs": [
    {
     "data": {
      "text/plain": [
       "OneHotEncoder()"
      ]
     },
     "execution_count": 32,
     "metadata": {},
     "output_type": "execute_result"
    }
   ],
   "source": [
    "ohe = OneHotEncoder()\n",
    "ohe.fit(X[['name','company','fuel_type']]) # these three are categorical data"
   ]
  },
  {
   "cell_type": "code",
   "execution_count": 33,
   "id": "d421db0b",
   "metadata": {
    "execution": {
     "iopub.execute_input": "2023-08-23T09:19:23.782737Z",
     "iopub.status.busy": "2023-08-23T09:19:23.781562Z",
     "iopub.status.idle": "2023-08-23T09:19:23.830286Z",
     "shell.execute_reply": "2023-08-23T09:19:23.828620Z"
    },
    "papermill": {
     "duration": 0.079284,
     "end_time": "2023-08-23T09:19:23.833794",
     "exception": false,
     "start_time": "2023-08-23T09:19:23.754510",
     "status": "completed"
    },
    "tags": []
   },
   "outputs": [
    {
     "name": "stdout",
     "output_type": "stream",
     "text": [
      "ColumnTransformer(remainder='passthrough',\n",
      "                  transformers=[('onehotencoder',\n",
      "                                 OneHotEncoder(categories=[array(['Audi A3 Cabriolet', 'Audi A4 1.8', 'Audi A4 2.0', 'Audi A6 2.0',\n",
      "       'Audi A8', 'Audi Q3 2.0', 'Audi Q5 2.0', 'Audi Q7', 'BMW 3 Series',\n",
      "       'BMW 5 Series', 'BMW 7 Series', 'BMW X1', 'BMW X1 sDrive20d',\n",
      "       'BMW X1 xDrive20d', 'Chevrolet Beat', 'Chevrolet Beat Diesel',\n",
      "       'Chevrolet Beat LS', 'Chevrolet B...\n",
      "       'Volkswagen Vento Konekt', 'Volvo S80 Summum'], dtype=object),\n",
      "                                                           array(['Audi', 'BMW', 'Chevrolet', 'Datsun', 'Fiat', 'Force', 'Ford',\n",
      "       'Hindustan', 'Honda', 'Hyundai', 'Jaguar', 'Jeep', 'Land',\n",
      "       'Mahindra', 'Maruti', 'Mercedes', 'Mini', 'Mitsubishi', 'Nissan',\n",
      "       'Renault', 'Skoda', 'Tata', 'Toyota', 'Volkswagen', 'Volvo'],\n",
      "      dtype=object),\n",
      "                                                           array(['Diesel', 'LPG', 'Petrol'], dtype=object)]),\n",
      "                                 ['name', 'company', 'fuel_type'])])\n"
     ]
    }
   ],
   "source": [
    "column_trans = make_column_transformer((OneHotEncoder(categories=ohe.categories_),['name','company','fuel_type']),\n",
    "                                      remainder = 'passthrough')\n",
    "\n",
    "print(column_trans)"
   ]
  },
  {
   "cell_type": "code",
   "execution_count": 34,
   "id": "4327c59f",
   "metadata": {
    "execution": {
     "iopub.execute_input": "2023-08-23T09:19:23.885785Z",
     "iopub.status.busy": "2023-08-23T09:19:23.885317Z",
     "iopub.status.idle": "2023-08-23T09:19:23.900916Z",
     "shell.execute_reply": "2023-08-23T09:19:23.899180Z"
    },
    "papermill": {
     "duration": 0.045655,
     "end_time": "2023-08-23T09:19:23.904013",
     "exception": false,
     "start_time": "2023-08-23T09:19:23.858358",
     "status": "completed"
    },
    "tags": []
   },
   "outputs": [
    {
     "data": {
      "text/html": [
       "<div>\n",
       "<style scoped>\n",
       "    .dataframe tbody tr th:only-of-type {\n",
       "        vertical-align: middle;\n",
       "    }\n",
       "\n",
       "    .dataframe tbody tr th {\n",
       "        vertical-align: top;\n",
       "    }\n",
       "\n",
       "    .dataframe thead th {\n",
       "        text-align: right;\n",
       "    }\n",
       "</style>\n",
       "<table border=\"1\" class=\"dataframe\">\n",
       "  <thead>\n",
       "    <tr style=\"text-align: right;\">\n",
       "      <th></th>\n",
       "      <th>name</th>\n",
       "      <th>company</th>\n",
       "      <th>year</th>\n",
       "      <th>Price</th>\n",
       "      <th>kms_driven</th>\n",
       "      <th>fuel_type</th>\n",
       "    </tr>\n",
       "  </thead>\n",
       "  <tbody>\n",
       "    <tr>\n",
       "      <th>0</th>\n",
       "      <td>Hyundai Santro Xing</td>\n",
       "      <td>Hyundai</td>\n",
       "      <td>2007</td>\n",
       "      <td>80000</td>\n",
       "      <td>45000</td>\n",
       "      <td>Petrol</td>\n",
       "    </tr>\n",
       "  </tbody>\n",
       "</table>\n",
       "</div>"
      ],
      "text/plain": [
       "                  name  company  year  Price  kms_driven fuel_type\n",
       "0  Hyundai Santro Xing  Hyundai  2007  80000       45000    Petrol"
      ]
     },
     "execution_count": 34,
     "metadata": {},
     "output_type": "execute_result"
    }
   ],
   "source": [
    "car.head(1)"
   ]
  },
  {
   "cell_type": "code",
   "execution_count": 35,
   "id": "bbc357f9",
   "metadata": {
    "execution": {
     "iopub.execute_input": "2023-08-23T09:19:23.956842Z",
     "iopub.status.busy": "2023-08-23T09:19:23.956286Z",
     "iopub.status.idle": "2023-08-23T09:19:23.962381Z",
     "shell.execute_reply": "2023-08-23T09:19:23.961160Z"
    },
    "papermill": {
     "duration": 0.035519,
     "end_time": "2023-08-23T09:19:23.965049",
     "exception": false,
     "start_time": "2023-08-23T09:19:23.929530",
     "status": "completed"
    },
    "tags": []
   },
   "outputs": [],
   "source": [
    "lr = LinearRegression()"
   ]
  },
  {
   "cell_type": "code",
   "execution_count": 36,
   "id": "df8e1681",
   "metadata": {
    "execution": {
     "iopub.execute_input": "2023-08-23T09:19:24.020445Z",
     "iopub.status.busy": "2023-08-23T09:19:24.019910Z",
     "iopub.status.idle": "2023-08-23T09:19:24.027569Z",
     "shell.execute_reply": "2023-08-23T09:19:24.025943Z"
    },
    "papermill": {
     "duration": 0.039441,
     "end_time": "2023-08-23T09:19:24.030614",
     "exception": false,
     "start_time": "2023-08-23T09:19:23.991173",
     "status": "completed"
    },
    "tags": []
   },
   "outputs": [],
   "source": [
    "pipe = make_pipeline(column_trans, lr)"
   ]
  },
  {
   "cell_type": "code",
   "execution_count": 37,
   "id": "60eaf922",
   "metadata": {
    "execution": {
     "iopub.execute_input": "2023-08-23T09:19:24.085003Z",
     "iopub.status.busy": "2023-08-23T09:19:24.084510Z",
     "iopub.status.idle": "2023-08-23T09:19:24.229101Z",
     "shell.execute_reply": "2023-08-23T09:19:24.227790Z"
    },
    "papermill": {
     "duration": 0.175985,
     "end_time": "2023-08-23T09:19:24.232712",
     "exception": false,
     "start_time": "2023-08-23T09:19:24.056727",
     "status": "completed"
    },
    "tags": []
   },
   "outputs": [
    {
     "data": {
      "text/plain": [
       "Pipeline(steps=[('columntransformer',\n",
       "                 ColumnTransformer(remainder='passthrough',\n",
       "                                   transformers=[('onehotencoder',\n",
       "                                                  OneHotEncoder(categories=[array(['Audi A3 Cabriolet', 'Audi A4 1.8', 'Audi A4 2.0', 'Audi A6 2.0',\n",
       "       'Audi A8', 'Audi Q3 2.0', 'Audi Q5 2.0', 'Audi Q7', 'BMW 3 Series',\n",
       "       'BMW 5 Series', 'BMW 7 Series', 'BMW X1', 'BMW X1 sDrive20d',\n",
       "       'BMW X1 xDrive20d', 'Chevrolet Beat', 'Chevrolet Beat...\n",
       "                                                                            array(['Audi', 'BMW', 'Chevrolet', 'Datsun', 'Fiat', 'Force', 'Ford',\n",
       "       'Hindustan', 'Honda', 'Hyundai', 'Jaguar', 'Jeep', 'Land',\n",
       "       'Mahindra', 'Maruti', 'Mercedes', 'Mini', 'Mitsubishi', 'Nissan',\n",
       "       'Renault', 'Skoda', 'Tata', 'Toyota', 'Volkswagen', 'Volvo'],\n",
       "      dtype=object),\n",
       "                                                                            array(['Diesel', 'LPG', 'Petrol'], dtype=object)]),\n",
       "                                                  ['name', 'company',\n",
       "                                                   'fuel_type'])])),\n",
       "                ('linearregression', LinearRegression())])"
      ]
     },
     "execution_count": 37,
     "metadata": {},
     "output_type": "execute_result"
    }
   ],
   "source": [
    "pipe.fit(x_train,y_train)"
   ]
  },
  {
   "cell_type": "code",
   "execution_count": 38,
   "id": "8eede2a7",
   "metadata": {
    "execution": {
     "iopub.execute_input": "2023-08-23T09:19:24.288096Z",
     "iopub.status.busy": "2023-08-23T09:19:24.287642Z",
     "iopub.status.idle": "2023-08-23T09:19:24.302340Z",
     "shell.execute_reply": "2023-08-23T09:19:24.300916Z"
    },
    "papermill": {
     "duration": 0.045455,
     "end_time": "2023-08-23T09:19:24.305200",
     "exception": false,
     "start_time": "2023-08-23T09:19:24.259745",
     "status": "completed"
    },
    "tags": []
   },
   "outputs": [
    {
     "data": {
      "text/html": [
       "<div>\n",
       "<style scoped>\n",
       "    .dataframe tbody tr th:only-of-type {\n",
       "        vertical-align: middle;\n",
       "    }\n",
       "\n",
       "    .dataframe tbody tr th {\n",
       "        vertical-align: top;\n",
       "    }\n",
       "\n",
       "    .dataframe thead th {\n",
       "        text-align: right;\n",
       "    }\n",
       "</style>\n",
       "<table border=\"1\" class=\"dataframe\">\n",
       "  <thead>\n",
       "    <tr style=\"text-align: right;\">\n",
       "      <th></th>\n",
       "      <th>name</th>\n",
       "      <th>company</th>\n",
       "      <th>year</th>\n",
       "      <th>Price</th>\n",
       "      <th>kms_driven</th>\n",
       "      <th>fuel_type</th>\n",
       "    </tr>\n",
       "  </thead>\n",
       "  <tbody>\n",
       "    <tr>\n",
       "      <th>0</th>\n",
       "      <td>Hyundai Santro Xing</td>\n",
       "      <td>Hyundai</td>\n",
       "      <td>2007</td>\n",
       "      <td>80000</td>\n",
       "      <td>45000</td>\n",
       "      <td>Petrol</td>\n",
       "    </tr>\n",
       "  </tbody>\n",
       "</table>\n",
       "</div>"
      ],
      "text/plain": [
       "                  name  company  year  Price  kms_driven fuel_type\n",
       "0  Hyundai Santro Xing  Hyundai  2007  80000       45000    Petrol"
      ]
     },
     "execution_count": 38,
     "metadata": {},
     "output_type": "execute_result"
    }
   ],
   "source": [
    "car.head(1)"
   ]
  },
  {
   "cell_type": "code",
   "execution_count": 39,
   "id": "44531dad",
   "metadata": {
    "execution": {
     "iopub.execute_input": "2023-08-23T09:19:24.359621Z",
     "iopub.status.busy": "2023-08-23T09:19:24.359113Z",
     "iopub.status.idle": "2023-08-23T09:19:24.373984Z",
     "shell.execute_reply": "2023-08-23T09:19:24.372234Z"
    },
    "papermill": {
     "duration": 0.045922,
     "end_time": "2023-08-23T09:19:24.377405",
     "exception": false,
     "start_time": "2023-08-23T09:19:24.331483",
     "status": "completed"
    },
    "tags": []
   },
   "outputs": [],
   "source": [
    "y_pred = pipe.predict(x_test)"
   ]
  },
  {
   "cell_type": "code",
   "execution_count": 40,
   "id": "4a3932ad",
   "metadata": {
    "execution": {
     "iopub.execute_input": "2023-08-23T09:19:24.429956Z",
     "iopub.status.busy": "2023-08-23T09:19:24.429469Z",
     "iopub.status.idle": "2023-08-23T09:19:24.441086Z",
     "shell.execute_reply": "2023-08-23T09:19:24.439586Z"
    },
    "papermill": {
     "duration": 0.041747,
     "end_time": "2023-08-23T09:19:24.444309",
     "exception": false,
     "start_time": "2023-08-23T09:19:24.402562",
     "status": "completed"
    },
    "tags": []
   },
   "outputs": [
    {
     "data": {
      "text/plain": [
       "array([ 364611.48331374,  513182.61819313,  273217.84122528,\n",
       "        294588.74034796,  135784.31059849,  213481.90981972,\n",
       "        571669.1020426 ,  168456.41283669,  349022.10580117,\n",
       "        261310.50090083,  348452.97302915,  352168.14969859,\n",
       "       1136792.39651259,  199214.99162018,  187761.49567638,\n",
       "        247076.09723353,  171684.44778658,  297043.84740242,\n",
       "        389666.66131144,  204147.50112324,   35876.06602402,\n",
       "        100122.5472365 ,  322424.71142095,  -85867.40958297,\n",
       "        750682.432638  ,  534023.09661524,  468153.74506561,\n",
       "        276652.51599071,  101638.80503321,  667085.81713007,\n",
       "         96845.80609229,  294613.50446361, 1894595.45163197,\n",
       "        315972.38412852,  239540.94657491,  495727.93660341,\n",
       "        303086.44449255,  141879.02509299,  877764.85436897,\n",
       "        164902.3972712 ,  320172.17294414,  220838.30353998,\n",
       "        321395.48959114, 1894488.75194999,  498904.89997199,\n",
       "        258755.82516278,  301698.70439782,  190053.05753858,\n",
       "        330091.66447774,  467726.94633768,  223307.54669736,\n",
       "        600058.58291273,  404489.50468348,  787174.52754151,\n",
       "        241285.68802326,  660837.28208149,  500657.38464542,\n",
       "         66811.22516862, 1229662.44195187,  336818.25360684,\n",
       "        720263.06230041,  225103.706125  , 1213320.05122765,\n",
       "        128363.99178741,  527633.65734982,  408616.17929815,\n",
       "        411345.67761866,  162510.80625536, 1894595.45163197,\n",
       "        244670.66347565,  524221.47813357,  114384.84030059,\n",
       "        257609.89303016,  132846.96216461,  344736.66658993,\n",
       "       1648646.86149331, 1741911.26690404,  506065.72281989,\n",
       "        302764.41602907,  824032.90490776,  415273.31103139,\n",
       "        265249.58416755,  552323.02217904,  413030.26914502,\n",
       "         24226.06266905,  111056.53971072,   35066.14989028,\n",
       "        215213.41908284,  123686.56584761,  370570.66455586,\n",
       "        772153.87229155,  346869.69099627,  774736.51745064,\n",
       "        352099.1747187 ,  -54387.48215713,  113887.08473299,\n",
       "        305156.41832302,  367409.53411932, 1894595.45163197,\n",
       "        601310.9392707 ,  179368.04710599,  152478.92358093,\n",
       "        192598.3891206 , 1370801.26894333,  625364.63414401,\n",
       "        241436.43813442,  543786.24395502,  268683.74583613,\n",
       "        412382.58512817,  122292.21245099,  307371.49911987,\n",
       "        572887.34018106,  634004.52549563,  196256.9972297 ,\n",
       "        305874.41555845,  194311.7850728 ,  695388.61842685,\n",
       "        720263.06230041,  354888.34991313,   82633.0081374 ,\n",
       "        283798.2797024 ,  237415.08510082,  195160.40370484,\n",
       "        321372.1785599 ,  171449.95372669,  153025.91961733,\n",
       "        651565.62390952,  117973.14679029,  623041.19313367,\n",
       "        611701.78110092,  581864.00483567,  237203.26947077,\n",
       "        263517.1386726 , 1140420.18570001,  254927.0818209 ,\n",
       "        788033.40517128,  842541.61243553,  469434.1412494 ,\n",
       "        932429.21295118,  305156.41832302,  662420.2245788 ,\n",
       "        397262.8400114 ,  501112.37856267,  174504.71609078,\n",
       "        698817.00546508,   75425.94349775, 1894595.45163197,\n",
       "        461255.71585186,  275188.37985352,  528060.45607775,\n",
       "        569046.15162968,  265249.58416755,  203575.5606507 ,\n",
       "       1156425.94166283,  388623.60511927,  221574.06957425,\n",
       "        408622.29588117,   83934.34090698,  571168.73492961,\n",
       "        605596.22167282, 1197657.73950596,  430248.45170993,\n",
       "        520364.28387098])"
      ]
     },
     "execution_count": 40,
     "metadata": {},
     "output_type": "execute_result"
    }
   ],
   "source": [
    "y_pred"
   ]
  },
  {
   "cell_type": "code",
   "execution_count": 41,
   "id": "87976e89",
   "metadata": {
    "execution": {
     "iopub.execute_input": "2023-08-23T09:19:24.497894Z",
     "iopub.status.busy": "2023-08-23T09:19:24.497462Z",
     "iopub.status.idle": "2023-08-23T09:19:24.505763Z",
     "shell.execute_reply": "2023-08-23T09:19:24.504654Z"
    },
    "papermill": {
     "duration": 0.039897,
     "end_time": "2023-08-23T09:19:24.509741",
     "exception": false,
     "start_time": "2023-08-23T09:19:24.469844",
     "status": "completed"
    },
    "tags": []
   },
   "outputs": [
    {
     "name": "stdout",
     "output_type": "stream",
     "text": [
      "0.6708506402447525\n",
      "130707.23449528002\n"
     ]
    }
   ],
   "source": [
    "print(r2_score(y_test,y_pred))\n",
    "print(mean_absolute_error(y_test,y_pred))"
   ]
  },
  {
   "cell_type": "code",
   "execution_count": 42,
   "id": "b979eced",
   "metadata": {
    "execution": {
     "iopub.execute_input": "2023-08-23T09:19:24.564313Z",
     "iopub.status.busy": "2023-08-23T09:19:24.563871Z",
     "iopub.status.idle": "2023-08-23T09:19:24.570279Z",
     "shell.execute_reply": "2023-08-23T09:19:24.568563Z"
    },
    "papermill": {
     "duration": 0.037075,
     "end_time": "2023-08-23T09:19:24.573323",
     "exception": false,
     "start_time": "2023-08-23T09:19:24.536248",
     "status": "completed"
    },
    "tags": []
   },
   "outputs": [],
   "source": [
    "import warnings\n",
    "\n",
    "# Ignore all warnings\n",
    "warnings.filterwarnings(\"ignore\")\n",
    "\n",
    "# Your code here\n",
    "\n",
    "# Reset the warnings filter to default (optional)\n",
    "warnings.filterwarnings(\"default\")\n"
   ]
  },
  {
   "cell_type": "code",
   "execution_count": 43,
   "id": "e1f0102b",
   "metadata": {
    "execution": {
     "iopub.execute_input": "2023-08-23T09:19:24.627664Z",
     "iopub.status.busy": "2023-08-23T09:19:24.627099Z",
     "iopub.status.idle": "2023-08-23T09:20:00.432573Z",
     "shell.execute_reply": "2023-08-23T09:20:00.430744Z"
    },
    "papermill": {
     "duration": 35.837116,
     "end_time": "2023-08-23T09:20:00.436275",
     "exception": false,
     "start_time": "2023-08-23T09:19:24.599159",
     "status": "completed"
    },
    "tags": []
   },
   "outputs": [],
   "source": [
    "scores=[]\n",
    "for i in range (1000):\n",
    "    x_train,x_test, y_train, y_test = train_test_split(X,y,test_size = 0.2, random_state =i)\n",
    "    lr = LinearRegression()\n",
    "    pipe = make_pipeline(column_trans,lr)\n",
    "    pipe.fit(x_train,y_train)\n",
    "    y_pred = pipe.predict(x_test)\n",
    "    scores.append(r2_score(y_test,y_pred))\n",
    "#     print(r2_score(y_test,y_pred), i)"
   ]
  },
  {
   "cell_type": "code",
   "execution_count": 44,
   "id": "36d47643",
   "metadata": {
    "execution": {
     "iopub.execute_input": "2023-08-23T09:20:00.491654Z",
     "iopub.status.busy": "2023-08-23T09:20:00.491181Z",
     "iopub.status.idle": "2023-08-23T09:20:00.500979Z",
     "shell.execute_reply": "2023-08-23T09:20:00.499422Z"
    },
    "papermill": {
     "duration": 0.040624,
     "end_time": "2023-08-23T09:20:00.503798",
     "exception": false,
     "start_time": "2023-08-23T09:20:00.463174",
     "status": "completed"
    },
    "tags": []
   },
   "outputs": [
    {
     "data": {
      "text/plain": [
       "661"
      ]
     },
     "execution_count": 44,
     "metadata": {},
     "output_type": "execute_result"
    }
   ],
   "source": [
    "np.argmax(scores)"
   ]
  },
  {
   "cell_type": "code",
   "execution_count": 45,
   "id": "c31714a3",
   "metadata": {
    "execution": {
     "iopub.execute_input": "2023-08-23T09:20:00.560811Z",
     "iopub.status.busy": "2023-08-23T09:20:00.559048Z",
     "iopub.status.idle": "2023-08-23T09:20:00.571153Z",
     "shell.execute_reply": "2023-08-23T09:20:00.569612Z"
    },
    "papermill": {
     "duration": 0.044468,
     "end_time": "2023-08-23T09:20:00.574488",
     "exception": false,
     "start_time": "2023-08-23T09:20:00.530020",
     "status": "completed"
    },
    "tags": []
   },
   "outputs": [
    {
     "data": {
      "text/plain": [
       "0.889770931767991"
      ]
     },
     "execution_count": 45,
     "metadata": {},
     "output_type": "execute_result"
    }
   ],
   "source": [
    "scores[np.argmax(scores)]"
   ]
  },
  {
   "cell_type": "code",
   "execution_count": 46,
   "id": "358ee626",
   "metadata": {
    "execution": {
     "iopub.execute_input": "2023-08-23T09:20:00.631281Z",
     "iopub.status.busy": "2023-08-23T09:20:00.630781Z",
     "iopub.status.idle": "2023-08-23T09:20:00.682312Z",
     "shell.execute_reply": "2023-08-23T09:20:00.680681Z"
    },
    "papermill": {
     "duration": 0.083491,
     "end_time": "2023-08-23T09:20:00.685643",
     "exception": false,
     "start_time": "2023-08-23T09:20:00.602152",
     "status": "completed"
    },
    "tags": []
   },
   "outputs": [
    {
     "data": {
      "text/plain": [
       "0.889770931767991"
      ]
     },
     "execution_count": 46,
     "metadata": {},
     "output_type": "execute_result"
    }
   ],
   "source": [
    "x_train,x_test, y_train, y_test = train_test_split(X,y,test_size = 0.2, random_state =np.argmax(scores))\n",
    "lr = LinearRegression()\n",
    "pipe = make_pipeline(column_trans, lr)\n",
    "pipe.fit(x_train,y_train)\n",
    "y_pred = pipe.predict(x_test)\n",
    "scores.append(r2_score(y_test,y_pred))\n",
    "r2_score(y_test, y_pred)"
   ]
  },
  {
   "cell_type": "code",
   "execution_count": 47,
   "id": "c79622b6",
   "metadata": {
    "execution": {
     "iopub.execute_input": "2023-08-23T09:20:00.741456Z",
     "iopub.status.busy": "2023-08-23T09:20:00.740948Z",
     "iopub.status.idle": "2023-08-23T09:20:00.746907Z",
     "shell.execute_reply": "2023-08-23T09:20:00.745321Z"
    },
    "papermill": {
     "duration": 0.038452,
     "end_time": "2023-08-23T09:20:00.750362",
     "exception": false,
     "start_time": "2023-08-23T09:20:00.711910",
     "status": "completed"
    },
    "tags": []
   },
   "outputs": [],
   "source": [
    "import pickle"
   ]
  },
  {
   "cell_type": "code",
   "execution_count": 48,
   "id": "94fb39fd",
   "metadata": {
    "execution": {
     "iopub.execute_input": "2023-08-23T09:20:00.804946Z",
     "iopub.status.busy": "2023-08-23T09:20:00.804400Z",
     "iopub.status.idle": "2023-08-23T09:20:00.813097Z",
     "shell.execute_reply": "2023-08-23T09:20:00.811504Z"
    },
    "papermill": {
     "duration": 0.040203,
     "end_time": "2023-08-23T09:20:00.816051",
     "exception": false,
     "start_time": "2023-08-23T09:20:00.775848",
     "status": "completed"
    },
    "tags": []
   },
   "outputs": [],
   "source": [
    "# pickle.dump(pipe,open('Carmodel.pkl','wb'))\n",
    "import pickle\n",
    "\n",
    "# Create a pipeline object\n",
    "pipe = make_pipeline(column_trans, lr)\n",
    "\n",
    "# Save the pipeline object to a file\n",
    "with open('Carmodel.pkl', 'wb') as f:\n",
    "    pickle.dump(pipe, f)\n"
   ]
  },
  {
   "cell_type": "code",
   "execution_count": 49,
   "id": "d0fad810",
   "metadata": {
    "execution": {
     "iopub.execute_input": "2023-08-23T09:20:00.869926Z",
     "iopub.status.busy": "2023-08-23T09:20:00.869425Z",
     "iopub.status.idle": "2023-08-23T09:20:00.886171Z",
     "shell.execute_reply": "2023-08-23T09:20:00.884163Z"
    },
    "papermill": {
     "duration": 0.047664,
     "end_time": "2023-08-23T09:20:00.889476",
     "exception": false,
     "start_time": "2023-08-23T09:20:00.841812",
     "status": "completed"
    },
    "tags": []
   },
   "outputs": [
    {
     "data": {
      "text/html": [
       "<div>\n",
       "<style scoped>\n",
       "    .dataframe tbody tr th:only-of-type {\n",
       "        vertical-align: middle;\n",
       "    }\n",
       "\n",
       "    .dataframe tbody tr th {\n",
       "        vertical-align: top;\n",
       "    }\n",
       "\n",
       "    .dataframe thead th {\n",
       "        text-align: right;\n",
       "    }\n",
       "</style>\n",
       "<table border=\"1\" class=\"dataframe\">\n",
       "  <thead>\n",
       "    <tr style=\"text-align: right;\">\n",
       "      <th></th>\n",
       "      <th>name</th>\n",
       "      <th>company</th>\n",
       "      <th>year</th>\n",
       "      <th>Price</th>\n",
       "      <th>kms_driven</th>\n",
       "      <th>fuel_type</th>\n",
       "    </tr>\n",
       "  </thead>\n",
       "  <tbody>\n",
       "    <tr>\n",
       "      <th>0</th>\n",
       "      <td>Hyundai Santro Xing</td>\n",
       "      <td>Hyundai</td>\n",
       "      <td>2007</td>\n",
       "      <td>80000</td>\n",
       "      <td>45000</td>\n",
       "      <td>Petrol</td>\n",
       "    </tr>\n",
       "    <tr>\n",
       "      <th>1</th>\n",
       "      <td>Mahindra Jeep CL550</td>\n",
       "      <td>Mahindra</td>\n",
       "      <td>2006</td>\n",
       "      <td>425000</td>\n",
       "      <td>40</td>\n",
       "      <td>Diesel</td>\n",
       "    </tr>\n",
       "    <tr>\n",
       "      <th>2</th>\n",
       "      <td>Hyundai Grand i10</td>\n",
       "      <td>Hyundai</td>\n",
       "      <td>2014</td>\n",
       "      <td>325000</td>\n",
       "      <td>28000</td>\n",
       "      <td>Petrol</td>\n",
       "    </tr>\n",
       "    <tr>\n",
       "      <th>3</th>\n",
       "      <td>Ford EcoSport Titanium</td>\n",
       "      <td>Ford</td>\n",
       "      <td>2014</td>\n",
       "      <td>575000</td>\n",
       "      <td>36000</td>\n",
       "      <td>Diesel</td>\n",
       "    </tr>\n",
       "    <tr>\n",
       "      <th>4</th>\n",
       "      <td>Ford Figo</td>\n",
       "      <td>Ford</td>\n",
       "      <td>2012</td>\n",
       "      <td>175000</td>\n",
       "      <td>41000</td>\n",
       "      <td>Diesel</td>\n",
       "    </tr>\n",
       "  </tbody>\n",
       "</table>\n",
       "</div>"
      ],
      "text/plain": [
       "                     name   company  year   Price  kms_driven fuel_type\n",
       "0     Hyundai Santro Xing   Hyundai  2007   80000       45000    Petrol\n",
       "1     Mahindra Jeep CL550  Mahindra  2006  425000          40    Diesel\n",
       "2       Hyundai Grand i10   Hyundai  2014  325000       28000    Petrol\n",
       "3  Ford EcoSport Titanium      Ford  2014  575000       36000    Diesel\n",
       "4               Ford Figo      Ford  2012  175000       41000    Diesel"
      ]
     },
     "execution_count": 49,
     "metadata": {},
     "output_type": "execute_result"
    }
   ],
   "source": [
    "car.head()"
   ]
  },
  {
   "cell_type": "code",
   "execution_count": 50,
   "id": "c233fa7a",
   "metadata": {
    "execution": {
     "iopub.execute_input": "2023-08-23T09:20:00.944101Z",
     "iopub.status.busy": "2023-08-23T09:20:00.942888Z",
     "iopub.status.idle": "2023-08-23T09:20:00.964009Z",
     "shell.execute_reply": "2023-08-23T09:20:00.962497Z"
    },
    "papermill": {
     "duration": 0.051381,
     "end_time": "2023-08-23T09:20:00.966962",
     "exception": false,
     "start_time": "2023-08-23T09:20:00.915581",
     "status": "completed"
    },
    "tags": []
   },
   "outputs": [
    {
     "data": {
      "text/plain": [
       "array([400795.54550476])"
      ]
     },
     "execution_count": 50,
     "metadata": {},
     "output_type": "execute_result"
    }
   ],
   "source": [
    "pipe.predict(pd.DataFrame([['Maruti Suzuki Swift','Maruti',2019,100,'Petrol']], columns=['name','company','year','kms_driven','fuel_type']))"
   ]
  },
  {
   "cell_type": "code",
   "execution_count": 51,
   "id": "e77f411e",
   "metadata": {
    "execution": {
     "iopub.execute_input": "2023-08-23T09:20:01.023562Z",
     "iopub.status.busy": "2023-08-23T09:20:01.023080Z",
     "iopub.status.idle": "2023-08-23T09:20:01.030015Z",
     "shell.execute_reply": "2023-08-23T09:20:01.028229Z"
    },
    "papermill": {
     "duration": 0.040281,
     "end_time": "2023-08-23T09:20:01.033273",
     "exception": false,
     "start_time": "2023-08-23T09:20:00.992992",
     "status": "completed"
    },
    "tags": []
   },
   "outputs": [],
   "source": [
    "# pipe.predict(pd.DataFrame([['Maruti Suzuki Swift','Maruti',2019,100,'Petrol']]))"
   ]
  },
  {
   "cell_type": "code",
   "execution_count": 52,
   "id": "7380fe24",
   "metadata": {
    "execution": {
     "iopub.execute_input": "2023-08-23T09:20:01.089574Z",
     "iopub.status.busy": "2023-08-23T09:20:01.089052Z",
     "iopub.status.idle": "2023-08-23T09:20:01.094817Z",
     "shell.execute_reply": "2023-08-23T09:20:01.093270Z"
    },
    "papermill": {
     "duration": 0.037565,
     "end_time": "2023-08-23T09:20:01.097901",
     "exception": false,
     "start_time": "2023-08-23T09:20:01.060336",
     "status": "completed"
    },
    "tags": []
   },
   "outputs": [],
   "source": [
    "# import numpy as np\n",
    "\n",
    "# names = car['name'].unique()\n",
    "# counts = np.bincount(car['name'])\n",
    "# unique_counts = dict(zip(names, counts))\n",
    "\n",
    "# print(unique_counts)\n"
   ]
  },
  {
   "cell_type": "code",
   "execution_count": 53,
   "id": "d4891dc0",
   "metadata": {
    "execution": {
     "iopub.execute_input": "2023-08-23T09:20:01.154008Z",
     "iopub.status.busy": "2023-08-23T09:20:01.153410Z",
     "iopub.status.idle": "2023-08-23T09:20:01.160024Z",
     "shell.execute_reply": "2023-08-23T09:20:01.158405Z"
    },
    "papermill": {
     "duration": 0.038381,
     "end_time": "2023-08-23T09:20:01.163177",
     "exception": false,
     "start_time": "2023-08-23T09:20:01.124796",
     "status": "completed"
    },
    "tags": []
   },
   "outputs": [],
   "source": [
    "# # car = car.DataFrame['company'].drop_duplicates()\n",
    "# # print(car['company'])\n",
    "# company_list = car['company'].drop_duplicates().tolist()\n",
    "# print(company_list)\n",
    "# # print(car.DataFrame['company'].tolist().drop_duplicates())"
   ]
  },
  {
   "cell_type": "code",
   "execution_count": 54,
   "id": "98cfdce2",
   "metadata": {
    "execution": {
     "iopub.execute_input": "2023-08-23T09:20:01.220653Z",
     "iopub.status.busy": "2023-08-23T09:20:01.219022Z",
     "iopub.status.idle": "2023-08-23T09:20:01.226006Z",
     "shell.execute_reply": "2023-08-23T09:20:01.224541Z"
    },
    "papermill": {
     "duration": 0.038927,
     "end_time": "2023-08-23T09:20:01.229194",
     "exception": false,
     "start_time": "2023-08-23T09:20:01.190267",
     "status": "completed"
    },
    "tags": []
   },
   "outputs": [],
   "source": [
    "# company_list2 = car['name'].drop_duplicates().tolist()\n",
    "# print(company_list2)"
   ]
  },
  {
   "cell_type": "code",
   "execution_count": 55,
   "id": "53b1d802",
   "metadata": {
    "execution": {
     "iopub.execute_input": "2023-08-23T09:20:01.284409Z",
     "iopub.status.busy": "2023-08-23T09:20:01.283964Z",
     "iopub.status.idle": "2023-08-23T09:20:01.291327Z",
     "shell.execute_reply": "2023-08-23T09:20:01.289942Z"
    },
    "papermill": {
     "duration": 0.039209,
     "end_time": "2023-08-23T09:20:01.294482",
     "exception": false,
     "start_time": "2023-08-23T09:20:01.255273",
     "status": "completed"
    },
    "tags": []
   },
   "outputs": [],
   "source": [
    "# Save the pipeline object to a file\n",
    "with open('car.pkl', 'wb') as f:\n",
    "    pickle.dump(pipe, f)"
   ]
  },
  {
   "cell_type": "code",
   "execution_count": 56,
   "id": "83820b9e",
   "metadata": {
    "execution": {
     "iopub.execute_input": "2023-08-23T09:20:01.349674Z",
     "iopub.status.busy": "2023-08-23T09:20:01.349229Z",
     "iopub.status.idle": "2023-08-23T09:20:01.361863Z",
     "shell.execute_reply": "2023-08-23T09:20:01.360246Z"
    },
    "papermill": {
     "duration": 0.043865,
     "end_time": "2023-08-23T09:20:01.364794",
     "exception": false,
     "start_time": "2023-08-23T09:20:01.320929",
     "status": "completed"
    },
    "tags": []
   },
   "outputs": [
    {
     "name": "stdout",
     "output_type": "stream",
     "text": [
      "                       name   company  year   Price  kms_driven fuel_type\n",
      "0       Hyundai Santro Xing   Hyundai  2007   80000       45000    Petrol\n",
      "1       Mahindra Jeep CL550  Mahindra  2006  425000          40    Diesel\n",
      "2         Hyundai Grand i10   Hyundai  2014  325000       28000    Petrol\n",
      "3    Ford EcoSport Titanium      Ford  2014  575000       36000    Diesel\n",
      "4                 Ford Figo      Ford  2012  175000       41000    Diesel\n",
      "..                      ...       ...   ...     ...         ...       ...\n",
      "810      Maruti Suzuki Ritz    Maruti  2011  270000       50000    Petrol\n",
      "811          Tata Indica V2      Tata  2009  110000       30000    Diesel\n",
      "812    Toyota Corolla Altis    Toyota  2009  300000      132000    Petrol\n",
      "813            Tata Zest XM      Tata  2018  260000       27000    Diesel\n",
      "814      Mahindra Quanto C8  Mahindra  2013  390000       40000    Diesel\n",
      "\n",
      "[815 rows x 6 columns]\n"
     ]
    }
   ],
   "source": [
    "print(car)"
   ]
  },
  {
   "cell_type": "code",
   "execution_count": null,
   "id": "cc0b842c",
   "metadata": {
    "papermill": {
     "duration": 0.02871,
     "end_time": "2023-08-23T09:20:01.420693",
     "exception": false,
     "start_time": "2023-08-23T09:20:01.391983",
     "status": "completed"
    },
    "tags": []
   },
   "outputs": [],
   "source": []
  },
  {
   "cell_type": "code",
   "execution_count": null,
   "id": "dc7d439a",
   "metadata": {
    "papermill": {
     "duration": 0.026004,
     "end_time": "2023-08-23T09:20:01.475236",
     "exception": false,
     "start_time": "2023-08-23T09:20:01.449232",
     "status": "completed"
    },
    "tags": []
   },
   "outputs": [],
   "source": []
  }
 ],
 "metadata": {
  "kernelspec": {
   "display_name": "Python 3",
   "language": "python",
   "name": "python3"
  },
  "language_info": {
   "codemirror_mode": {
    "name": "ipython",
    "version": 3
   },
   "file_extension": ".py",
   "mimetype": "text/x-python",
   "name": "python",
   "nbconvert_exporter": "python",
   "pygments_lexer": "ipython3",
   "version": "3.7.12"
  },
  "papermill": {
   "default_parameters": {},
   "duration": 59.857354,
   "end_time": "2023-08-23T09:20:02.529422",
   "environment_variables": {},
   "exception": null,
   "input_path": "__notebook__.ipynb",
   "output_path": "__notebook__.ipynb",
   "parameters": {},
   "start_time": "2023-08-23T09:19:02.672068",
   "version": "2.4.0"
  }
 },
 "nbformat": 4,
 "nbformat_minor": 5
}
