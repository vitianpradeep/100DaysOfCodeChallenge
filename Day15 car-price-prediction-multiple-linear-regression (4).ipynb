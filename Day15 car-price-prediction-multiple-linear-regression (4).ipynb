{
 "cells": [
  {
   "cell_type": "markdown",
   "metadata": {
    "_cell_guid": "b1076dfc-b9ad-4769-8c92-a6c4dae69d19",
    "_uuid": "8f2839f25d086af736a60e9eeb907d3b93b6e0e5"
   },
   "source": [
    "# Multiple linear Regression on CarPrice_Assignment.csv Dataset"
   ]
  },
  {
   "cell_type": "markdown",
   "metadata": {},
   "source": [
    "## To perform multiple linear regression and plot everything like a data scientist, we will need to follow the following steps: 1. Import necessary librarie 2. Load the dataset 3. Data preprocessing 4. Data visualization 5. Prepare data for multiple linear regression 6. Build and train the multiple linear regression model 7. Evaluate the model 8. Make predictions 9. Visualize the predictions"
   ]
  },
  {
   "cell_type": "markdown",
   "metadata": {},
   "source": [
    "## 1. Import necessary librarie"
   ]
  },
  {
   "cell_type": "code",
   "execution_count": 1,
   "metadata": {
    "execution": {
     "iopub.execute_input": "2023-03-06T18:47:05.205416Z",
     "iopub.status.busy": "2023-03-06T18:47:05.203927Z",
     "iopub.status.idle": "2023-03-06T18:47:05.875825Z",
     "shell.execute_reply": "2023-03-06T18:47:05.873859Z",
     "shell.execute_reply.started": "2023-03-06T18:47:05.205358Z"
    }
   },
   "outputs": [],
   "source": [
    "import numpy as np\n",
    "import pandas as pd\n",
    "import matplotlib.pyplot as plt\n",
    "%matplotlib inline\n",
    "import seaborn as sns\n",
    "from sklearn.model_selection import train_test_split\n",
    "from sklearn.linear_model import LinearRegression\n",
    "from sklearn.metrics import mean_squared_error , mean_absolute_error\n",
    "from sklearn.preprocessing import LabelEncoder\n",
    "from sklearn.preprocessing import StandardScaler"
   ]
  },
  {
   "cell_type": "markdown",
   "metadata": {},
   "source": [
    "## 2. Load the dataset "
   ]
  },
  {
   "cell_type": "code",
   "execution_count": 2,
   "metadata": {
    "execution": {
     "iopub.execute_input": "2023-03-06T18:47:05.885837Z",
     "iopub.status.busy": "2023-03-06T18:47:05.884877Z",
     "iopub.status.idle": "2023-03-06T18:47:05.899960Z",
     "shell.execute_reply": "2023-03-06T18:47:05.898342Z",
     "shell.execute_reply.started": "2023-03-06T18:47:05.885778Z"
    }
   },
   "outputs": [],
   "source": [
    "df = pd.read_csv(\"/kaggle/input/car-price-prediction/CarPrice_Assignment.csv\")"
   ]
  },
  {
   "cell_type": "code",
   "execution_count": 3,
   "metadata": {
    "execution": {
     "iopub.execute_input": "2023-03-06T18:47:05.902533Z",
     "iopub.status.busy": "2023-03-06T18:47:05.902174Z",
     "iopub.status.idle": "2023-03-06T18:47:05.936320Z",
     "shell.execute_reply": "2023-03-06T18:47:05.934479Z",
     "shell.execute_reply.started": "2023-03-06T18:47:05.902499Z"
    }
   },
   "outputs": [
    {
     "data": {
      "text/html": [
       "<div>\n",
       "<style scoped>\n",
       "    .dataframe tbody tr th:only-of-type {\n",
       "        vertical-align: middle;\n",
       "    }\n",
       "\n",
       "    .dataframe tbody tr th {\n",
       "        vertical-align: top;\n",
       "    }\n",
       "\n",
       "    .dataframe thead th {\n",
       "        text-align: right;\n",
       "    }\n",
       "</style>\n",
       "<table border=\"1\" class=\"dataframe\">\n",
       "  <thead>\n",
       "    <tr style=\"text-align: right;\">\n",
       "      <th></th>\n",
       "      <th>car_ID</th>\n",
       "      <th>symboling</th>\n",
       "      <th>CarName</th>\n",
       "      <th>fueltype</th>\n",
       "      <th>aspiration</th>\n",
       "      <th>doornumber</th>\n",
       "      <th>carbody</th>\n",
       "      <th>drivewheel</th>\n",
       "      <th>enginelocation</th>\n",
       "      <th>wheelbase</th>\n",
       "      <th>...</th>\n",
       "      <th>enginesize</th>\n",
       "      <th>fuelsystem</th>\n",
       "      <th>boreratio</th>\n",
       "      <th>stroke</th>\n",
       "      <th>compressionratio</th>\n",
       "      <th>horsepower</th>\n",
       "      <th>peakrpm</th>\n",
       "      <th>citympg</th>\n",
       "      <th>highwaympg</th>\n",
       "      <th>price</th>\n",
       "    </tr>\n",
       "  </thead>\n",
       "  <tbody>\n",
       "    <tr>\n",
       "      <th>0</th>\n",
       "      <td>1</td>\n",
       "      <td>3</td>\n",
       "      <td>alfa-romero giulia</td>\n",
       "      <td>gas</td>\n",
       "      <td>std</td>\n",
       "      <td>two</td>\n",
       "      <td>convertible</td>\n",
       "      <td>rwd</td>\n",
       "      <td>front</td>\n",
       "      <td>88.6</td>\n",
       "      <td>...</td>\n",
       "      <td>130</td>\n",
       "      <td>mpfi</td>\n",
       "      <td>3.47</td>\n",
       "      <td>2.68</td>\n",
       "      <td>9.0</td>\n",
       "      <td>111</td>\n",
       "      <td>5000</td>\n",
       "      <td>21</td>\n",
       "      <td>27</td>\n",
       "      <td>13495.0</td>\n",
       "    </tr>\n",
       "    <tr>\n",
       "      <th>1</th>\n",
       "      <td>2</td>\n",
       "      <td>3</td>\n",
       "      <td>alfa-romero stelvio</td>\n",
       "      <td>gas</td>\n",
       "      <td>std</td>\n",
       "      <td>two</td>\n",
       "      <td>convertible</td>\n",
       "      <td>rwd</td>\n",
       "      <td>front</td>\n",
       "      <td>88.6</td>\n",
       "      <td>...</td>\n",
       "      <td>130</td>\n",
       "      <td>mpfi</td>\n",
       "      <td>3.47</td>\n",
       "      <td>2.68</td>\n",
       "      <td>9.0</td>\n",
       "      <td>111</td>\n",
       "      <td>5000</td>\n",
       "      <td>21</td>\n",
       "      <td>27</td>\n",
       "      <td>16500.0</td>\n",
       "    </tr>\n",
       "    <tr>\n",
       "      <th>2</th>\n",
       "      <td>3</td>\n",
       "      <td>1</td>\n",
       "      <td>alfa-romero Quadrifoglio</td>\n",
       "      <td>gas</td>\n",
       "      <td>std</td>\n",
       "      <td>two</td>\n",
       "      <td>hatchback</td>\n",
       "      <td>rwd</td>\n",
       "      <td>front</td>\n",
       "      <td>94.5</td>\n",
       "      <td>...</td>\n",
       "      <td>152</td>\n",
       "      <td>mpfi</td>\n",
       "      <td>2.68</td>\n",
       "      <td>3.47</td>\n",
       "      <td>9.0</td>\n",
       "      <td>154</td>\n",
       "      <td>5000</td>\n",
       "      <td>19</td>\n",
       "      <td>26</td>\n",
       "      <td>16500.0</td>\n",
       "    </tr>\n",
       "    <tr>\n",
       "      <th>3</th>\n",
       "      <td>4</td>\n",
       "      <td>2</td>\n",
       "      <td>audi 100 ls</td>\n",
       "      <td>gas</td>\n",
       "      <td>std</td>\n",
       "      <td>four</td>\n",
       "      <td>sedan</td>\n",
       "      <td>fwd</td>\n",
       "      <td>front</td>\n",
       "      <td>99.8</td>\n",
       "      <td>...</td>\n",
       "      <td>109</td>\n",
       "      <td>mpfi</td>\n",
       "      <td>3.19</td>\n",
       "      <td>3.40</td>\n",
       "      <td>10.0</td>\n",
       "      <td>102</td>\n",
       "      <td>5500</td>\n",
       "      <td>24</td>\n",
       "      <td>30</td>\n",
       "      <td>13950.0</td>\n",
       "    </tr>\n",
       "    <tr>\n",
       "      <th>4</th>\n",
       "      <td>5</td>\n",
       "      <td>2</td>\n",
       "      <td>audi 100ls</td>\n",
       "      <td>gas</td>\n",
       "      <td>std</td>\n",
       "      <td>four</td>\n",
       "      <td>sedan</td>\n",
       "      <td>4wd</td>\n",
       "      <td>front</td>\n",
       "      <td>99.4</td>\n",
       "      <td>...</td>\n",
       "      <td>136</td>\n",
       "      <td>mpfi</td>\n",
       "      <td>3.19</td>\n",
       "      <td>3.40</td>\n",
       "      <td>8.0</td>\n",
       "      <td>115</td>\n",
       "      <td>5500</td>\n",
       "      <td>18</td>\n",
       "      <td>22</td>\n",
       "      <td>17450.0</td>\n",
       "    </tr>\n",
       "  </tbody>\n",
       "</table>\n",
       "<p>5 rows × 26 columns</p>\n",
       "</div>"
      ],
      "text/plain": [
       "   car_ID  symboling                   CarName fueltype aspiration doornumber  \\\n",
       "0       1          3        alfa-romero giulia      gas        std        two   \n",
       "1       2          3       alfa-romero stelvio      gas        std        two   \n",
       "2       3          1  alfa-romero Quadrifoglio      gas        std        two   \n",
       "3       4          2               audi 100 ls      gas        std       four   \n",
       "4       5          2                audi 100ls      gas        std       four   \n",
       "\n",
       "       carbody drivewheel enginelocation  wheelbase  ...  enginesize  \\\n",
       "0  convertible        rwd          front       88.6  ...         130   \n",
       "1  convertible        rwd          front       88.6  ...         130   \n",
       "2    hatchback        rwd          front       94.5  ...         152   \n",
       "3        sedan        fwd          front       99.8  ...         109   \n",
       "4        sedan        4wd          front       99.4  ...         136   \n",
       "\n",
       "   fuelsystem  boreratio  stroke compressionratio horsepower  peakrpm citympg  \\\n",
       "0        mpfi       3.47    2.68              9.0        111     5000      21   \n",
       "1        mpfi       3.47    2.68              9.0        111     5000      21   \n",
       "2        mpfi       2.68    3.47              9.0        154     5000      19   \n",
       "3        mpfi       3.19    3.40             10.0        102     5500      24   \n",
       "4        mpfi       3.19    3.40              8.0        115     5500      18   \n",
       "\n",
       "   highwaympg    price  \n",
       "0          27  13495.0  \n",
       "1          27  16500.0  \n",
       "2          26  16500.0  \n",
       "3          30  13950.0  \n",
       "4          22  17450.0  \n",
       "\n",
       "[5 rows x 26 columns]"
      ]
     },
     "execution_count": 3,
     "metadata": {},
     "output_type": "execute_result"
    }
   ],
   "source": [
    "df.head()"
   ]
  },
  {
   "cell_type": "code",
   "execution_count": 4,
   "metadata": {
    "execution": {
     "iopub.execute_input": "2023-03-06T18:47:05.941751Z",
     "iopub.status.busy": "2023-03-06T18:47:05.941244Z",
     "iopub.status.idle": "2023-03-06T18:47:05.963961Z",
     "shell.execute_reply": "2023-03-06T18:47:05.962224Z",
     "shell.execute_reply.started": "2023-03-06T18:47:05.941706Z"
    }
   },
   "outputs": [
    {
     "name": "stdout",
     "output_type": "stream",
     "text": [
      "<class 'pandas.core.frame.DataFrame'>\n",
      "RangeIndex: 205 entries, 0 to 204\n",
      "Data columns (total 26 columns):\n",
      " #   Column            Non-Null Count  Dtype  \n",
      "---  ------            --------------  -----  \n",
      " 0   car_ID            205 non-null    int64  \n",
      " 1   symboling         205 non-null    int64  \n",
      " 2   CarName           205 non-null    object \n",
      " 3   fueltype          205 non-null    object \n",
      " 4   aspiration        205 non-null    object \n",
      " 5   doornumber        205 non-null    object \n",
      " 6   carbody           205 non-null    object \n",
      " 7   drivewheel        205 non-null    object \n",
      " 8   enginelocation    205 non-null    object \n",
      " 9   wheelbase         205 non-null    float64\n",
      " 10  carlength         205 non-null    float64\n",
      " 11  carwidth          205 non-null    float64\n",
      " 12  carheight         205 non-null    float64\n",
      " 13  curbweight        205 non-null    int64  \n",
      " 14  enginetype        205 non-null    object \n",
      " 15  cylindernumber    205 non-null    object \n",
      " 16  enginesize        205 non-null    int64  \n",
      " 17  fuelsystem        205 non-null    object \n",
      " 18  boreratio         205 non-null    float64\n",
      " 19  stroke            205 non-null    float64\n",
      " 20  compressionratio  205 non-null    float64\n",
      " 21  horsepower        205 non-null    int64  \n",
      " 22  peakrpm           205 non-null    int64  \n",
      " 23  citympg           205 non-null    int64  \n",
      " 24  highwaympg        205 non-null    int64  \n",
      " 25  price             205 non-null    float64\n",
      "dtypes: float64(8), int64(8), object(10)\n",
      "memory usage: 41.8+ KB\n"
     ]
    }
   ],
   "source": [
    "df.info()"
   ]
  },
  {
   "cell_type": "code",
   "execution_count": 5,
   "metadata": {
    "execution": {
     "iopub.execute_input": "2023-03-06T18:47:05.966050Z",
     "iopub.status.busy": "2023-03-06T18:47:05.965637Z",
     "iopub.status.idle": "2023-03-06T18:47:05.978308Z",
     "shell.execute_reply": "2023-03-06T18:47:05.976630Z",
     "shell.execute_reply.started": "2023-03-06T18:47:05.966012Z"
    }
   },
   "outputs": [
    {
     "data": {
      "text/plain": [
       "(205, 26)"
      ]
     },
     "execution_count": 5,
     "metadata": {},
     "output_type": "execute_result"
    }
   ],
   "source": [
    "df.shape"
   ]
  },
  {
   "cell_type": "code",
   "execution_count": 6,
   "metadata": {
    "execution": {
     "iopub.execute_input": "2023-03-06T18:47:05.980953Z",
     "iopub.status.busy": "2023-03-06T18:47:05.980386Z",
     "iopub.status.idle": "2023-03-06T18:47:06.052752Z",
     "shell.execute_reply": "2023-03-06T18:47:06.051185Z",
     "shell.execute_reply.started": "2023-03-06T18:47:05.980907Z"
    }
   },
   "outputs": [
    {
     "data": {
      "text/html": [
       "<div>\n",
       "<style scoped>\n",
       "    .dataframe tbody tr th:only-of-type {\n",
       "        vertical-align: middle;\n",
       "    }\n",
       "\n",
       "    .dataframe tbody tr th {\n",
       "        vertical-align: top;\n",
       "    }\n",
       "\n",
       "    .dataframe thead th {\n",
       "        text-align: right;\n",
       "    }\n",
       "</style>\n",
       "<table border=\"1\" class=\"dataframe\">\n",
       "  <thead>\n",
       "    <tr style=\"text-align: right;\">\n",
       "      <th></th>\n",
       "      <th>car_ID</th>\n",
       "      <th>symboling</th>\n",
       "      <th>wheelbase</th>\n",
       "      <th>carlength</th>\n",
       "      <th>carwidth</th>\n",
       "      <th>carheight</th>\n",
       "      <th>curbweight</th>\n",
       "      <th>enginesize</th>\n",
       "      <th>boreratio</th>\n",
       "      <th>stroke</th>\n",
       "      <th>compressionratio</th>\n",
       "      <th>horsepower</th>\n",
       "      <th>peakrpm</th>\n",
       "      <th>citympg</th>\n",
       "      <th>highwaympg</th>\n",
       "      <th>price</th>\n",
       "    </tr>\n",
       "  </thead>\n",
       "  <tbody>\n",
       "    <tr>\n",
       "      <th>count</th>\n",
       "      <td>205.000000</td>\n",
       "      <td>205.000000</td>\n",
       "      <td>205.000000</td>\n",
       "      <td>205.000000</td>\n",
       "      <td>205.000000</td>\n",
       "      <td>205.000000</td>\n",
       "      <td>205.000000</td>\n",
       "      <td>205.000000</td>\n",
       "      <td>205.000000</td>\n",
       "      <td>205.000000</td>\n",
       "      <td>205.000000</td>\n",
       "      <td>205.000000</td>\n",
       "      <td>205.000000</td>\n",
       "      <td>205.000000</td>\n",
       "      <td>205.000000</td>\n",
       "      <td>205.000000</td>\n",
       "    </tr>\n",
       "    <tr>\n",
       "      <th>mean</th>\n",
       "      <td>103.000000</td>\n",
       "      <td>0.834146</td>\n",
       "      <td>98.756585</td>\n",
       "      <td>174.049268</td>\n",
       "      <td>65.907805</td>\n",
       "      <td>53.724878</td>\n",
       "      <td>2555.565854</td>\n",
       "      <td>126.907317</td>\n",
       "      <td>3.329756</td>\n",
       "      <td>3.255415</td>\n",
       "      <td>10.142537</td>\n",
       "      <td>104.117073</td>\n",
       "      <td>5125.121951</td>\n",
       "      <td>25.219512</td>\n",
       "      <td>30.751220</td>\n",
       "      <td>13276.710571</td>\n",
       "    </tr>\n",
       "    <tr>\n",
       "      <th>std</th>\n",
       "      <td>59.322565</td>\n",
       "      <td>1.245307</td>\n",
       "      <td>6.021776</td>\n",
       "      <td>12.337289</td>\n",
       "      <td>2.145204</td>\n",
       "      <td>2.443522</td>\n",
       "      <td>520.680204</td>\n",
       "      <td>41.642693</td>\n",
       "      <td>0.270844</td>\n",
       "      <td>0.313597</td>\n",
       "      <td>3.972040</td>\n",
       "      <td>39.544167</td>\n",
       "      <td>476.985643</td>\n",
       "      <td>6.542142</td>\n",
       "      <td>6.886443</td>\n",
       "      <td>7988.852332</td>\n",
       "    </tr>\n",
       "    <tr>\n",
       "      <th>min</th>\n",
       "      <td>1.000000</td>\n",
       "      <td>-2.000000</td>\n",
       "      <td>86.600000</td>\n",
       "      <td>141.100000</td>\n",
       "      <td>60.300000</td>\n",
       "      <td>47.800000</td>\n",
       "      <td>1488.000000</td>\n",
       "      <td>61.000000</td>\n",
       "      <td>2.540000</td>\n",
       "      <td>2.070000</td>\n",
       "      <td>7.000000</td>\n",
       "      <td>48.000000</td>\n",
       "      <td>4150.000000</td>\n",
       "      <td>13.000000</td>\n",
       "      <td>16.000000</td>\n",
       "      <td>5118.000000</td>\n",
       "    </tr>\n",
       "    <tr>\n",
       "      <th>25%</th>\n",
       "      <td>52.000000</td>\n",
       "      <td>0.000000</td>\n",
       "      <td>94.500000</td>\n",
       "      <td>166.300000</td>\n",
       "      <td>64.100000</td>\n",
       "      <td>52.000000</td>\n",
       "      <td>2145.000000</td>\n",
       "      <td>97.000000</td>\n",
       "      <td>3.150000</td>\n",
       "      <td>3.110000</td>\n",
       "      <td>8.600000</td>\n",
       "      <td>70.000000</td>\n",
       "      <td>4800.000000</td>\n",
       "      <td>19.000000</td>\n",
       "      <td>25.000000</td>\n",
       "      <td>7788.000000</td>\n",
       "    </tr>\n",
       "    <tr>\n",
       "      <th>50%</th>\n",
       "      <td>103.000000</td>\n",
       "      <td>1.000000</td>\n",
       "      <td>97.000000</td>\n",
       "      <td>173.200000</td>\n",
       "      <td>65.500000</td>\n",
       "      <td>54.100000</td>\n",
       "      <td>2414.000000</td>\n",
       "      <td>120.000000</td>\n",
       "      <td>3.310000</td>\n",
       "      <td>3.290000</td>\n",
       "      <td>9.000000</td>\n",
       "      <td>95.000000</td>\n",
       "      <td>5200.000000</td>\n",
       "      <td>24.000000</td>\n",
       "      <td>30.000000</td>\n",
       "      <td>10295.000000</td>\n",
       "    </tr>\n",
       "    <tr>\n",
       "      <th>75%</th>\n",
       "      <td>154.000000</td>\n",
       "      <td>2.000000</td>\n",
       "      <td>102.400000</td>\n",
       "      <td>183.100000</td>\n",
       "      <td>66.900000</td>\n",
       "      <td>55.500000</td>\n",
       "      <td>2935.000000</td>\n",
       "      <td>141.000000</td>\n",
       "      <td>3.580000</td>\n",
       "      <td>3.410000</td>\n",
       "      <td>9.400000</td>\n",
       "      <td>116.000000</td>\n",
       "      <td>5500.000000</td>\n",
       "      <td>30.000000</td>\n",
       "      <td>34.000000</td>\n",
       "      <td>16503.000000</td>\n",
       "    </tr>\n",
       "    <tr>\n",
       "      <th>max</th>\n",
       "      <td>205.000000</td>\n",
       "      <td>3.000000</td>\n",
       "      <td>120.900000</td>\n",
       "      <td>208.100000</td>\n",
       "      <td>72.300000</td>\n",
       "      <td>59.800000</td>\n",
       "      <td>4066.000000</td>\n",
       "      <td>326.000000</td>\n",
       "      <td>3.940000</td>\n",
       "      <td>4.170000</td>\n",
       "      <td>23.000000</td>\n",
       "      <td>288.000000</td>\n",
       "      <td>6600.000000</td>\n",
       "      <td>49.000000</td>\n",
       "      <td>54.000000</td>\n",
       "      <td>45400.000000</td>\n",
       "    </tr>\n",
       "  </tbody>\n",
       "</table>\n",
       "</div>"
      ],
      "text/plain": [
       "           car_ID   symboling   wheelbase   carlength    carwidth   carheight  \\\n",
       "count  205.000000  205.000000  205.000000  205.000000  205.000000  205.000000   \n",
       "mean   103.000000    0.834146   98.756585  174.049268   65.907805   53.724878   \n",
       "std     59.322565    1.245307    6.021776   12.337289    2.145204    2.443522   \n",
       "min      1.000000   -2.000000   86.600000  141.100000   60.300000   47.800000   \n",
       "25%     52.000000    0.000000   94.500000  166.300000   64.100000   52.000000   \n",
       "50%    103.000000    1.000000   97.000000  173.200000   65.500000   54.100000   \n",
       "75%    154.000000    2.000000  102.400000  183.100000   66.900000   55.500000   \n",
       "max    205.000000    3.000000  120.900000  208.100000   72.300000   59.800000   \n",
       "\n",
       "        curbweight  enginesize   boreratio      stroke  compressionratio  \\\n",
       "count   205.000000  205.000000  205.000000  205.000000        205.000000   \n",
       "mean   2555.565854  126.907317    3.329756    3.255415         10.142537   \n",
       "std     520.680204   41.642693    0.270844    0.313597          3.972040   \n",
       "min    1488.000000   61.000000    2.540000    2.070000          7.000000   \n",
       "25%    2145.000000   97.000000    3.150000    3.110000          8.600000   \n",
       "50%    2414.000000  120.000000    3.310000    3.290000          9.000000   \n",
       "75%    2935.000000  141.000000    3.580000    3.410000          9.400000   \n",
       "max    4066.000000  326.000000    3.940000    4.170000         23.000000   \n",
       "\n",
       "       horsepower      peakrpm     citympg  highwaympg         price  \n",
       "count  205.000000   205.000000  205.000000  205.000000    205.000000  \n",
       "mean   104.117073  5125.121951   25.219512   30.751220  13276.710571  \n",
       "std     39.544167   476.985643    6.542142    6.886443   7988.852332  \n",
       "min     48.000000  4150.000000   13.000000   16.000000   5118.000000  \n",
       "25%     70.000000  4800.000000   19.000000   25.000000   7788.000000  \n",
       "50%     95.000000  5200.000000   24.000000   30.000000  10295.000000  \n",
       "75%    116.000000  5500.000000   30.000000   34.000000  16503.000000  \n",
       "max    288.000000  6600.000000   49.000000   54.000000  45400.000000  "
      ]
     },
     "execution_count": 6,
     "metadata": {},
     "output_type": "execute_result"
    }
   ],
   "source": [
    "df.describe()"
   ]
  },
  {
   "cell_type": "code",
   "execution_count": 7,
   "metadata": {
    "execution": {
     "iopub.execute_input": "2023-03-06T18:47:06.055539Z",
     "iopub.status.busy": "2023-03-06T18:47:06.054501Z",
     "iopub.status.idle": "2023-03-06T18:47:06.068667Z",
     "shell.execute_reply": "2023-03-06T18:47:06.066885Z",
     "shell.execute_reply.started": "2023-03-06T18:47:06.055489Z"
    }
   },
   "outputs": [
    {
     "data": {
      "text/plain": [
       "car_ID              0\n",
       "symboling           0\n",
       "CarName             0\n",
       "fueltype            0\n",
       "aspiration          0\n",
       "doornumber          0\n",
       "carbody             0\n",
       "drivewheel          0\n",
       "enginelocation      0\n",
       "wheelbase           0\n",
       "carlength           0\n",
       "carwidth            0\n",
       "carheight           0\n",
       "curbweight          0\n",
       "enginetype          0\n",
       "cylindernumber      0\n",
       "enginesize          0\n",
       "fuelsystem          0\n",
       "boreratio           0\n",
       "stroke              0\n",
       "compressionratio    0\n",
       "horsepower          0\n",
       "peakrpm             0\n",
       "citympg             0\n",
       "highwaympg          0\n",
       "price               0\n",
       "dtype: int64"
      ]
     },
     "execution_count": 7,
     "metadata": {},
     "output_type": "execute_result"
    }
   ],
   "source": [
    "df.isnull().sum()"
   ]
  },
  {
   "cell_type": "code",
   "execution_count": 8,
   "metadata": {
    "execution": {
     "iopub.execute_input": "2023-03-06T18:47:06.070865Z",
     "iopub.status.busy": "2023-03-06T18:47:06.070390Z",
     "iopub.status.idle": "2023-03-06T18:47:06.089943Z",
     "shell.execute_reply": "2023-03-06T18:47:06.087881Z",
     "shell.execute_reply.started": "2023-03-06T18:47:06.070803Z"
    }
   },
   "outputs": [
    {
     "data": {
      "text/plain": [
       "False"
      ]
     },
     "execution_count": 8,
     "metadata": {},
     "output_type": "execute_result"
    }
   ],
   "source": [
    "##check duplicate values\n",
    "df_dup=df.duplicated().any()\n",
    "df_dup"
   ]
  },
  {
   "cell_type": "code",
   "execution_count": 9,
   "metadata": {
    "execution": {
     "iopub.execute_input": "2023-03-06T18:47:06.093513Z",
     "iopub.status.busy": "2023-03-06T18:47:06.093014Z",
     "iopub.status.idle": "2023-03-06T18:47:06.139416Z",
     "shell.execute_reply": "2023-03-06T18:47:06.137930Z",
     "shell.execute_reply.started": "2023-03-06T18:47:06.093453Z"
    }
   },
   "outputs": [
    {
     "name": "stdout",
     "output_type": "stream",
     "text": [
      "car_ID : 205\n",
      "1      1\n",
      "142    1\n",
      "132    1\n",
      "133    1\n",
      "134    1\n",
      "Name: car_ID, dtype: int64\n",
      "\n",
      "********************\n",
      "\n",
      "symboling : 6\n",
      " 0    67\n",
      " 1    54\n",
      " 2    32\n",
      " 3    27\n",
      "-1    22\n",
      "Name: symboling, dtype: int64\n",
      "\n",
      "********************\n",
      "\n",
      "CarName : 147\n",
      "toyota corona           6\n",
      "toyota corolla          6\n",
      "peugeot 504             6\n",
      "subaru dl               4\n",
      "mitsubishi mirage g4    3\n",
      "Name: CarName, dtype: int64\n",
      "\n",
      "********************\n",
      "\n",
      "fueltype : 2\n",
      "gas       185\n",
      "diesel     20\n",
      "Name: fueltype, dtype: int64\n",
      "\n",
      "********************\n",
      "\n",
      "aspiration : 2\n",
      "std      168\n",
      "turbo     37\n",
      "Name: aspiration, dtype: int64\n",
      "\n",
      "********************\n",
      "\n",
      "doornumber : 2\n",
      "four    115\n",
      "two      90\n",
      "Name: doornumber, dtype: int64\n",
      "\n",
      "********************\n",
      "\n",
      "carbody : 5\n",
      "sedan          96\n",
      "hatchback      70\n",
      "wagon          25\n",
      "hardtop         8\n",
      "convertible     6\n",
      "Name: carbody, dtype: int64\n",
      "\n",
      "********************\n",
      "\n",
      "drivewheel : 3\n",
      "fwd    120\n",
      "rwd     76\n",
      "4wd      9\n",
      "Name: drivewheel, dtype: int64\n",
      "\n",
      "********************\n",
      "\n",
      "enginelocation : 2\n",
      "front    202\n",
      "rear       3\n",
      "Name: enginelocation, dtype: int64\n",
      "\n",
      "********************\n",
      "\n",
      "wheelbase : 53\n",
      "94.5    21\n",
      "93.7    20\n",
      "95.7    13\n",
      "96.5     8\n",
      "97.3     7\n",
      "Name: wheelbase, dtype: int64\n",
      "\n",
      "********************\n",
      "\n",
      "carlength : 75\n",
      "157.3    15\n",
      "188.8    11\n",
      "171.7     7\n",
      "186.7     7\n",
      "166.3     7\n",
      "Name: carlength, dtype: int64\n",
      "\n",
      "********************\n",
      "\n",
      "carwidth : 44\n",
      "63.8    24\n",
      "66.5    23\n",
      "65.4    15\n",
      "63.6    11\n",
      "64.4    10\n",
      "Name: carwidth, dtype: int64\n",
      "\n",
      "********************\n",
      "\n",
      "carheight : 49\n",
      "50.8    14\n",
      "52.0    12\n",
      "55.7    12\n",
      "54.1    10\n",
      "54.5    10\n",
      "Name: carheight, dtype: int64\n",
      "\n",
      "********************\n",
      "\n",
      "curbweight : 171\n",
      "2385    4\n",
      "1918    3\n",
      "2275    3\n",
      "1989    3\n",
      "2410    2\n",
      "Name: curbweight, dtype: int64\n",
      "\n",
      "********************\n",
      "\n",
      "enginetype : 7\n",
      "ohc     148\n",
      "ohcf     15\n",
      "ohcv     13\n",
      "dohc     12\n",
      "l        12\n",
      "Name: enginetype, dtype: int64\n",
      "\n",
      "********************\n",
      "\n",
      "cylindernumber : 7\n",
      "four     159\n",
      "six       24\n",
      "five      11\n",
      "eight      5\n",
      "two        4\n",
      "Name: cylindernumber, dtype: int64\n",
      "\n",
      "********************\n",
      "\n",
      "enginesize : 44\n",
      "122    15\n",
      "92     15\n",
      "97     14\n",
      "98     14\n",
      "108    13\n",
      "Name: enginesize, dtype: int64\n",
      "\n",
      "********************\n",
      "\n",
      "fuelsystem : 8\n",
      "mpfi    94\n",
      "2bbl    66\n",
      "idi     20\n",
      "1bbl    11\n",
      "spdi     9\n",
      "Name: fuelsystem, dtype: int64\n",
      "\n",
      "********************\n",
      "\n",
      "boreratio : 38\n",
      "3.62    23\n",
      "3.19    20\n",
      "3.15    15\n",
      "3.03    12\n",
      "2.97    12\n",
      "Name: boreratio, dtype: int64\n",
      "\n",
      "********************\n",
      "\n",
      "stroke : 37\n",
      "3.40    20\n",
      "3.23    14\n",
      "3.15    14\n",
      "3.03    14\n",
      "3.39    13\n",
      "Name: stroke, dtype: int64\n",
      "\n",
      "********************\n",
      "\n",
      "compressionratio : 32\n",
      "9.0    46\n",
      "9.4    26\n",
      "8.5    14\n",
      "9.5    13\n",
      "9.3    11\n",
      "Name: compressionratio, dtype: int64\n",
      "\n",
      "********************\n",
      "\n",
      "horsepower : 59\n",
      "68     19\n",
      "70     11\n",
      "69     10\n",
      "116     9\n",
      "110     8\n",
      "Name: horsepower, dtype: int64\n",
      "\n",
      "********************\n",
      "\n",
      "peakrpm : 23\n",
      "5500    37\n",
      "4800    36\n",
      "5000    27\n",
      "5200    23\n",
      "5400    13\n",
      "Name: peakrpm, dtype: int64\n",
      "\n",
      "********************\n",
      "\n",
      "citympg : 29\n",
      "31    28\n",
      "19    27\n",
      "24    22\n",
      "27    14\n",
      "17    13\n",
      "Name: citympg, dtype: int64\n",
      "\n",
      "********************\n",
      "\n",
      "highwaympg : 30\n",
      "25    19\n",
      "38    17\n",
      "24    17\n",
      "30    16\n",
      "32    16\n",
      "Name: highwaympg, dtype: int64\n",
      "\n",
      "********************\n",
      "\n",
      "price : 189\n",
      "8921.0    2\n",
      "9279.0    2\n",
      "7898.0    2\n",
      "8916.5    2\n",
      "7775.0    2\n",
      "Name: price, dtype: int64\n",
      "\n",
      "********************\n",
      "\n"
     ]
    }
   ],
   "source": [
    "for col in df.columns:\n",
    "    print(col, \":\",df[col].nunique())\n",
    "    print(df[col].value_counts().nlargest(5))\n",
    "    print('\\n' + '*' * 20 + '\\n')"
   ]
  },
  {
   "cell_type": "markdown",
   "metadata": {},
   "source": [
    "## Step 3: Data preprocessing : Before we can perform multiple linear regression, we need to preprocess the data. This involves handling missing values, converting categorical variables into dummy variables, and scaling numerical variables."
   ]
  },
  {
   "cell_type": "code",
   "execution_count": 10,
   "metadata": {
    "execution": {
     "iopub.execute_input": "2023-03-06T18:47:06.143207Z",
     "iopub.status.busy": "2023-03-06T18:47:06.141158Z",
     "iopub.status.idle": "2023-03-06T18:47:06.175911Z",
     "shell.execute_reply": "2023-03-06T18:47:06.174454Z",
     "shell.execute_reply.started": "2023-03-06T18:47:06.143134Z"
    }
   },
   "outputs": [],
   "source": [
    "# Make all the strings in the same format\n",
    "string_columns=list(df.dtypes[df.dtypes=='object'].index)\n",
    "for col in string_columns:\n",
    "    df[col]=df[col].str.lower().str.replace(' ','_')\n",
    "    df[col]=df[col].str.lower().str.replace('-','_')"
   ]
  },
  {
   "cell_type": "code",
   "execution_count": 6,
   "metadata": {
    "execution": {
     "iopub.execute_input": "2023-03-06T18:47:06.178346Z",
     "iopub.status.busy": "2023-03-06T18:47:06.177885Z",
     "iopub.status.idle": "2023-03-06T18:47:06.567105Z",
     "shell.execute_reply": "2023-03-06T18:47:06.565843Z",
     "shell.execute_reply.started": "2023-03-06T18:47:06.178267Z"
    }
   },
   "outputs": [],
   "source": [
    "# plt.figure(figsize=(15,7))\n",
    "# sns.histplot(df.price,bins=40)"
   ]
  },
  {
   "cell_type": "code",
   "execution_count": 12,
   "metadata": {
    "execution": {
     "iopub.execute_input": "2023-03-06T18:47:06.569102Z",
     "iopub.status.busy": "2023-03-06T18:47:06.568690Z",
     "iopub.status.idle": "2023-03-06T18:47:06.580193Z",
     "shell.execute_reply": "2023-03-06T18:47:06.578344Z",
     "shell.execute_reply.started": "2023-03-06T18:47:06.569062Z"
    }
   },
   "outputs": [
    {
     "data": {
      "text/plain": [
       "1.7776781560914454"
      ]
     },
     "execution_count": 12,
     "metadata": {},
     "output_type": "execute_result"
    }
   ],
   "source": [
    "df.price.skew()"
   ]
  },
  {
   "cell_type": "markdown",
   "metadata": {},
   "source": [
    "## 4. Data visualization"
   ]
  },
  {
   "cell_type": "code",
   "execution_count": 1,
   "metadata": {
    "execution": {
     "iopub.execute_input": "2023-03-06T18:47:06.588531Z",
     "iopub.status.busy": "2023-03-06T18:47:06.587871Z",
     "iopub.status.idle": "2023-03-06T18:47:12.179058Z",
     "shell.execute_reply": "2023-03-06T18:47:12.177847Z",
     "shell.execute_reply.started": "2023-03-06T18:47:06.588487Z"
    }
   },
   "outputs": [],
   "source": [
    "# # Scatterplot matrix\n",
    "# sns.set()\n",
    "# sns.pairplot(df, x_vars=['wheelbase', 'carlength', 'carwidth', 'carheight', 'curbweight', 'enginesize', 'boreratio', 'stroke', 'compressionratio', 'horsepower', 'peakrpm', 'citympg', 'highwaympg'], y_vars=['price'], height=7, aspect=0.7, kind='reg')\n",
    "# plt.show()"
   ]
  },
  {
   "cell_type": "markdown",
   "metadata": {},
   "source": [
    "From this map, there are some features which price depends on by large percent such as (wheelbase, curbweight, enginesize and horsepower) and gradually less as (carlength ,boreratio and car width)"
   ]
  },
  {
   "cell_type": "code",
   "execution_count": 15,
   "metadata": {
    "execution": {
     "iopub.execute_input": "2023-03-06T18:47:14.170188Z",
     "iopub.status.busy": "2023-03-06T18:47:14.169796Z",
     "iopub.status.idle": "2023-03-06T18:47:14.181439Z",
     "shell.execute_reply": "2023-03-06T18:47:14.180140Z",
     "shell.execute_reply.started": "2023-03-06T18:47:14.170148Z"
    }
   },
   "outputs": [
    {
     "data": {
      "text/plain": [
       "toyota_corona           6\n",
       "toyota_corolla          6\n",
       "peugeot_504             6\n",
       "subaru_dl               4\n",
       "mitsubishi_mirage_g4    3\n",
       "                       ..\n",
       "mazda_glc_4             1\n",
       "mazda_rx2_coupe         1\n",
       "maxda_glc_deluxe        1\n",
       "maxda_rx3               1\n",
       "volvo_246               1\n",
       "Name: CarName, Length: 147, dtype: int64"
      ]
     },
     "execution_count": 15,
     "metadata": {},
     "output_type": "execute_result"
    }
   ],
   "source": [
    "# What's the average price of cars in dataset?\n",
    "df.CarName.value_counts()"
   ]
  },
  {
   "cell_type": "code",
   "execution_count": 16,
   "metadata": {
    "execution": {
     "iopub.execute_input": "2023-03-06T18:47:14.183792Z",
     "iopub.status.busy": "2023-03-06T18:47:14.183282Z",
     "iopub.status.idle": "2023-03-06T18:47:14.201919Z",
     "shell.execute_reply": "2023-03-06T18:47:14.200471Z",
     "shell.execute_reply.started": "2023-03-06T18:47:14.183732Z"
    }
   },
   "outputs": [
    {
     "data": {
      "text/plain": [
       "CarName\n",
       "alfa_romero_giulia          13495.0\n",
       "alfa_romero_quadrifoglio    16500.0\n",
       "alfa_romero_stelvio         16500.0\n",
       "audi_100_ls                 13950.0\n",
       "audi_100ls                  17580.0\n",
       "                             ...   \n",
       "volvo_246                   22470.0\n",
       "volvo_264gl                 20522.5\n",
       "volvo_diesel                18950.0\n",
       "vw_dasher                   11595.0\n",
       "vw_rabbit                    9980.0\n",
       "Name: price, Length: 147, dtype: float64"
      ]
     },
     "execution_count": 16,
     "metadata": {},
     "output_type": "execute_result"
    }
   ],
   "source": [
    "df.groupby('CarName').mean()['price']"
   ]
  },
  {
   "cell_type": "code",
   "execution_count": 17,
   "metadata": {
    "execution": {
     "iopub.execute_input": "2023-03-06T18:47:14.204674Z",
     "iopub.status.busy": "2023-03-06T18:47:14.204287Z",
     "iopub.status.idle": "2023-03-06T18:47:14.220521Z",
     "shell.execute_reply": "2023-03-06T18:47:14.218663Z",
     "shell.execute_reply.started": "2023-03-06T18:47:14.204639Z"
    }
   },
   "outputs": [
    {
     "data": {
      "text/plain": [
       "8766.67256637168"
      ]
     },
     "execution_count": 17,
     "metadata": {},
     "output_type": "execute_result"
    }
   ],
   "source": [
    "df[df['horsepower']<=100]['price'].mean()"
   ]
  },
  {
   "cell_type": "code",
   "execution_count": 18,
   "metadata": {
    "execution": {
     "iopub.execute_input": "2023-03-06T18:47:14.224105Z",
     "iopub.status.busy": "2023-03-06T18:47:14.223548Z",
     "iopub.status.idle": "2023-03-06T18:47:14.237466Z",
     "shell.execute_reply": "2023-03-06T18:47:14.235965Z",
     "shell.execute_reply.started": "2023-03-06T18:47:14.224050Z"
    }
   },
   "outputs": [
    {
     "data": {
      "text/plain": [
       "18632.251776595742"
      ]
     },
     "execution_count": 18,
     "metadata": {},
     "output_type": "execute_result"
    }
   ],
   "source": [
    "df[df['horsepower']>=100]['price'].mean()"
   ]
  },
  {
   "cell_type": "markdown",
   "metadata": {
    "execution": {
     "iopub.execute_input": "2023-03-06T16:53:06.507553Z",
     "iopub.status.busy": "2023-03-06T16:53:06.507108Z",
     "iopub.status.idle": "2023-03-06T16:53:08.678230Z",
     "shell.execute_reply": "2023-03-06T16:53:08.676908Z",
     "shell.execute_reply.started": "2023-03-06T16:53:06.507517Z"
    }
   },
   "source": [
    "## Step 5: Prepare data for multiple linear regression : Before building the model, we need to split the data into training and testing sets."
   ]
  },
  {
   "cell_type": "markdown",
   "metadata": {
    "execution": {
     "iopub.execute_input": "2023-03-06T16:57:46.635460Z",
     "iopub.status.busy": "2023-03-06T16:57:46.635027Z",
     "iopub.status.idle": "2023-03-06T16:57:46.644675Z",
     "shell.execute_reply": "2023-03-06T16:57:46.643109Z",
     "shell.execute_reply.started": "2023-03-06T16:57:46.635415Z"
    }
   },
   "source": [
    "## Step 6: Build and train the multiple linear regression model: We will now build and train the multiple linear regression model using the training data."
   ]
  },
  {
   "cell_type": "code",
   "execution_count": 19,
   "metadata": {
    "execution": {
     "iopub.execute_input": "2023-03-06T18:47:14.241152Z",
     "iopub.status.busy": "2023-03-06T18:47:14.239322Z",
     "iopub.status.idle": "2023-03-06T18:47:14.254261Z",
     "shell.execute_reply": "2023-03-06T18:47:14.253236Z",
     "shell.execute_reply.started": "2023-03-06T18:47:14.241038Z"
    }
   },
   "outputs": [
    {
     "data": {
      "text/plain": [
       "False"
      ]
     },
     "execution_count": 19,
     "metadata": {},
     "output_type": "execute_result"
    }
   ],
   "source": [
    "##check duplicate values\n",
    "df_dup=df.duplicated().any()\n",
    "df_dup"
   ]
  },
  {
   "cell_type": "code",
   "execution_count": 20,
   "metadata": {
    "execution": {
     "iopub.execute_input": "2023-03-06T18:47:14.256519Z",
     "iopub.status.busy": "2023-03-06T18:47:14.256084Z",
     "iopub.status.idle": "2023-03-06T18:47:14.270309Z",
     "shell.execute_reply": "2023-03-06T18:47:14.268885Z",
     "shell.execute_reply.started": "2023-03-06T18:47:14.256481Z"
    }
   },
   "outputs": [
    {
     "data": {
      "text/plain": [
       "curbweight\n",
       "1488     5151.00\n",
       "1713     6479.00\n",
       "1819     6855.00\n",
       "1837     5399.00\n",
       "1874     7605.75\n",
       "          ...   \n",
       "3750    28248.00\n",
       "3770    31600.00\n",
       "3900    40960.00\n",
       "3950    36000.00\n",
       "4066    33900.00\n",
       "Name: price, Length: 171, dtype: float64"
      ]
     },
     "execution_count": 20,
     "metadata": {},
     "output_type": "execute_result"
    }
   ],
   "source": [
    "df.groupby('curbweight')['price'].mean()"
   ]
  },
  {
   "cell_type": "markdown",
   "metadata": {
    "execution": {
     "iopub.execute_input": "2023-03-06T17:00:18.278059Z",
     "iopub.status.busy": "2023-03-06T17:00:18.277501Z",
     "iopub.status.idle": "2023-03-06T17:00:18.286622Z",
     "shell.execute_reply": "2023-03-06T17:00:18.284835Z",
     "shell.execute_reply.started": "2023-03-06T17:00:18.278013Z"
    }
   },
   "source": [
    "## Step 7: Evaluate the model : We will evaluate the model using the mean squared error (MSE) and the R-squared score."
   ]
  },
  {
   "cell_type": "code",
   "execution_count": 21,
   "metadata": {
    "execution": {
     "iopub.execute_input": "2023-03-06T18:47:14.273012Z",
     "iopub.status.busy": "2023-03-06T18:47:14.272261Z",
     "iopub.status.idle": "2023-03-06T18:47:14.307527Z",
     "shell.execute_reply": "2023-03-06T18:47:14.305847Z",
     "shell.execute_reply.started": "2023-03-06T18:47:14.272964Z"
    }
   },
   "outputs": [],
   "source": [
    "# Make all the strings in the same format\n",
    "string_columns=list(df.dtypes[df.dtypes=='object'].index)\n",
    "for col in string_columns:\n",
    "    df[col]=df[col].str.lower().str.replace(' ','_')\n",
    "    df[col]=df[col].str.lower().str.replace('-','_')"
   ]
  },
  {
   "cell_type": "code",
   "execution_count": 22,
   "metadata": {
    "execution": {
     "iopub.execute_input": "2023-03-06T18:47:14.310870Z",
     "iopub.status.busy": "2023-03-06T18:47:14.309537Z",
     "iopub.status.idle": "2023-03-06T18:47:14.761978Z",
     "shell.execute_reply": "2023-03-06T18:47:14.760208Z",
     "shell.execute_reply.started": "2023-03-06T18:47:14.310794Z"
    }
   },
   "outputs": [
    {
     "data": {
      "text/plain": [
       "<AxesSubplot:xlabel='price', ylabel='Count'>"
      ]
     },
     "execution_count": 22,
     "metadata": {},
     "output_type": "execute_result"
    },
    {
     "data": {
      "image/png": "[encoded data removed]",
      "text/plain": [
       "<Figure size 1500x700 with 1 Axes>"
      ]
     },
     "metadata": {},
     "output_type": "display_data"
    }
   ],
   "source": [
    "plt.figure(figsize=(15,7))\n",
    "sns.histplot(df.price,bins=40)"
   ]
  },
  {
   "cell_type": "markdown",
   "metadata": {},
   "source": [
    "### As seen price of car is right skewed"
   ]
  },
  {
   "cell_type": "code",
   "execution_count": 23,
   "metadata": {
    "execution": {
     "iopub.execute_input": "2023-03-06T18:47:14.765685Z",
     "iopub.status.busy": "2023-03-06T18:47:14.764660Z",
     "iopub.status.idle": "2023-03-06T18:47:14.778126Z",
     "shell.execute_reply": "2023-03-06T18:47:14.776576Z",
     "shell.execute_reply.started": "2023-03-06T18:47:14.765624Z"
    }
   },
   "outputs": [
    {
     "data": {
      "text/plain": [
       "1.7776781560914454"
      ]
     },
     "execution_count": 23,
     "metadata": {},
     "output_type": "execute_result"
    }
   ],
   "source": [
    "df.price.skew()"
   ]
  },
  {
   "cell_type": "code",
   "execution_count": 24,
   "metadata": {
    "execution": {
     "iopub.execute_input": "2023-03-06T18:47:14.779979Z",
     "iopub.status.busy": "2023-03-06T18:47:14.779590Z",
     "iopub.status.idle": "2023-03-06T18:47:14.794071Z",
     "shell.execute_reply": "2023-03-06T18:47:14.792826Z",
     "shell.execute_reply.started": "2023-03-06T18:47:14.779941Z"
    },
    "scrolled": true
   },
   "outputs": [
    {
     "data": {
      "text/plain": [
       "['CarName',\n",
       " 'fueltype',\n",
       " 'aspiration',\n",
       " 'doornumber',\n",
       " 'carbody',\n",
       " 'drivewheel',\n",
       " 'enginelocation',\n",
       " 'enginetype',\n",
       " 'cylindernumber',\n",
       " 'fuelsystem']"
      ]
     },
     "execution_count": 24,
     "metadata": {},
     "output_type": "execute_result"
    }
   ],
   "source": [
    "# Check catogerical columns\n",
    "string_columns"
   ]
  },
  {
   "cell_type": "code",
   "execution_count": 26,
   "metadata": {
    "execution": {
     "iopub.execute_input": "2023-03-06T18:47:16.776692Z",
     "iopub.status.busy": "2023-03-06T18:47:16.776231Z",
     "iopub.status.idle": "2023-03-06T18:47:16.791033Z",
     "shell.execute_reply": "2023-03-06T18:47:16.789604Z",
     "shell.execute_reply.started": "2023-03-06T18:47:16.776648Z"
    }
   },
   "outputs": [
    {
     "data": {
      "text/plain": [
       "toyota_corona           6\n",
       "toyota_corolla          6\n",
       "peugeot_504             6\n",
       "subaru_dl               4\n",
       "mitsubishi_mirage_g4    3\n",
       "                       ..\n",
       "mazda_glc_4             1\n",
       "mazda_rx2_coupe         1\n",
       "maxda_glc_deluxe        1\n",
       "maxda_rx3               1\n",
       "volvo_246               1\n",
       "Name: CarName, Length: 147, dtype: int64"
      ]
     },
     "execution_count": 26,
     "metadata": {},
     "output_type": "execute_result"
    }
   ],
   "source": [
    "# What's the average price of cars in dataset?\n",
    "df.CarName.value_counts()"
   ]
  },
  {
   "cell_type": "code",
   "execution_count": 27,
   "metadata": {
    "execution": {
     "iopub.execute_input": "2023-03-06T18:47:16.793206Z",
     "iopub.status.busy": "2023-03-06T18:47:16.792797Z",
     "iopub.status.idle": "2023-03-06T18:47:18.748306Z",
     "shell.execute_reply": "2023-03-06T18:47:18.746829Z",
     "shell.execute_reply.started": "2023-03-06T18:47:16.793167Z"
    }
   },
   "outputs": [
    {
     "data": {
      "image/png": "[encoded data removed]",
      "text/plain": [
       "<Figure size 2000x1500 with 6 Axes>"
      ]
     },
     "metadata": {},
     "output_type": "display_data"
    }
   ],
   "source": [
    "columns=['wheelbase','curbweight','boreratio','carwidth','carlength','enginesize']\n",
    "plt.figure(figsize=(20, 15))\n",
    "i=0\n",
    "for col in columns:\n",
    "    i=i+1\n",
    "    plt.subplot(2,3,i)\n",
    "    sns.regplot(x = col, y = 'price', data = df)\n",
    "plt.show()"
   ]
  },
  {
   "cell_type": "markdown",
   "metadata": {},
   "source": [
    "Insights:\n",
    "\n",
    "There's some cars its wheel base make a differance and affect on price of this car.\n",
    "\n",
    "The bigger the number of engine size, the more expensive the car usually is to buy.\n",
    "\n",
    "There're some outliters values but almost by increasing boreratio the price is increasing.\n",
    "\n",
    "Bore ratio of car and the rate of feul consumption are factors affect on the performance of car and also price.\n",
    "\n",
    "By increasinng car length and width values, price is increaing.\n",
    "\n",
    "The heavier the vehicle, the more energy it needs to get moving.\n",
    "\n",
    "By increasing curbweight, the price of cars will be affect but not more because there are more outliters.\n",
    "\n",
    "Do catogrical data affect on price?"
   ]
  },
  {
   "cell_type": "code",
   "execution_count": 5,
   "metadata": {
    "execution": {
     "iopub.execute_input": "2023-03-06T18:47:18.750701Z",
     "iopub.status.busy": "2023-03-06T18:47:18.750258Z",
     "iopub.status.idle": "2023-03-06T18:47:20.807974Z",
     "shell.execute_reply": "2023-03-06T18:47:20.806334Z",
     "shell.execute_reply.started": "2023-03-06T18:47:18.750657Z"
    }
   },
   "outputs": [],
   "source": [
    "# plt.figure(figsize=(20, 20))\n",
    "# columns=['doornumber','fueltype','aspiration','carbody','enginelocation','drivewheel','enginetype','cylindernumber','fuelsystem']\n",
    "# i=0\n",
    "# for col in columns:\n",
    "#     i=i+1\n",
    "#     plt.subplot(3,3,i)\n",
    "#     sns.boxplot(x = col, y = 'price', data = df)\n",
    "# plt.show()"
   ]
  },
  {
   "cell_type": "markdown",
   "metadata": {},
   "source": [
    "Insights:\n",
    "\n",
    "Door numbers doesn't affect more on price.\n",
    "\n",
    "cars with disel feul type has an expensive price than gas ones.\n",
    "\n",
    "If carbody with hardtop or convertible thus gives high price.\n",
    "\n",
    "The cars with rear enginelocation are way expensive than cars with front enginelocation.\n",
    "\n",
    "Enginetype ohcv comes into higher price range cars'\n",
    "\n",
    "Cars with cylinder number eight has the highst price ever."
   ]
  },
  {
   "cell_type": "markdown",
   "metadata": {},
   "source": [
    "## Convert important category data into numerical one"
   ]
  },
  {
   "cell_type": "code",
   "execution_count": 29,
   "metadata": {
    "execution": {
     "iopub.execute_input": "2023-03-06T18:47:20.810904Z",
     "iopub.status.busy": "2023-03-06T18:47:20.810050Z",
     "iopub.status.idle": "2023-03-06T18:47:20.823214Z",
     "shell.execute_reply": "2023-03-06T18:47:20.821727Z",
     "shell.execute_reply.started": "2023-03-06T18:47:20.810863Z"
    }
   },
   "outputs": [],
   "source": [
    "from sklearn.preprocessing import LabelEncoder\n",
    "\n",
    "fueltype_le=LabelEncoder()\n",
    "df['fueltype']= fueltype_le.fit_transform(df.fueltype)\n",
    "enginelocation_le=LabelEncoder()\n",
    "df['enginelocation']=enginelocation_le.fit_transform(df.enginelocation)\n",
    "cylindernumber_le=LabelEncoder()\n",
    "df['cylindernumber']=cylindernumber_le.fit_transform(df.cylindernumber)\n",
    "enginetype_le=LabelEncoder()\n",
    "df['enginetype']=enginetype_le.fit_transform(df.enginetype)\n",
    "carbody_le=LabelEncoder()\n",
    "df['carbody']=carbody_le.fit_transform(df.carbody)\n",
    "aspiration_le=LabelEncoder()\n",
    "df['aspiration']=aspiration_le.fit_transform(df.aspiration)\n"
   ]
  },
  {
   "cell_type": "code",
   "execution_count": 30,
   "metadata": {
    "execution": {
     "iopub.execute_input": "2023-03-06T18:47:20.825604Z",
     "iopub.status.busy": "2023-03-06T18:47:20.825185Z",
     "iopub.status.idle": "2023-03-06T18:47:20.854145Z",
     "shell.execute_reply": "2023-03-06T18:47:20.852858Z",
     "shell.execute_reply.started": "2023-03-06T18:47:20.825562Z"
    }
   },
   "outputs": [
    {
     "data": {
      "text/plain": [
       "Index(['car_ID', 'symboling', 'CarName', 'fueltype', 'aspiration',\n",
       "       'doornumber', 'carbody', 'drivewheel', 'enginelocation', 'wheelbase',\n",
       "       'carlength', 'carwidth', 'carheight', 'curbweight', 'enginetype',\n",
       "       'cylindernumber', 'enginesize', 'fuelsystem', 'boreratio', 'stroke',\n",
       "       'compressionratio', 'horsepower', 'peakrpm', 'citympg', 'highwaympg',\n",
       "       'price'],\n",
       "      dtype='object')"
      ]
     },
     "execution_count": 30,
     "metadata": {},
     "output_type": "execute_result"
    }
   ],
   "source": [
    "df.columns"
   ]
  },
  {
   "cell_type": "markdown",
   "metadata": {},
   "source": [
    "## Model Building"
   ]
  },
  {
   "cell_type": "code",
   "execution_count": 31,
   "metadata": {
    "execution": {
     "iopub.execute_input": "2023-03-06T18:47:20.857000Z",
     "iopub.status.busy": "2023-03-06T18:47:20.855538Z",
     "iopub.status.idle": "2023-03-06T18:47:20.868658Z",
     "shell.execute_reply": "2023-03-06T18:47:20.867055Z",
     "shell.execute_reply.started": "2023-03-06T18:47:20.856932Z"
    }
   },
   "outputs": [],
   "source": [
    "# Splitting the dataset into the Training set and Test set\n",
    "X=df.drop([\"car_ID\",\"CarName\",\"doornumber\",\"drivewheel\",\"enginelocation\",\"fuelsystem\",\"symboling\",\n",
    "           'compressionratio','peakrpm','citympg','highwaympg','carheight','stroke'],axis=1)\n",
    "y=df['price']\n",
    "X_train, X_test, y_train, y_test = train_test_split(X,y, test_size = 0.3,shuffle=True,random_state = 8)"
   ]
  },
  {
   "cell_type": "code",
   "execution_count": 32,
   "metadata": {
    "execution": {
     "iopub.execute_input": "2023-03-06T18:47:20.872112Z",
     "iopub.status.busy": "2023-03-06T18:47:20.870079Z",
     "iopub.status.idle": "2023-03-06T18:47:20.887809Z",
     "shell.execute_reply": "2023-03-06T18:47:20.886626Z",
     "shell.execute_reply.started": "2023-03-06T18:47:20.872047Z"
    },
    "jupyter": {
     "source_hidden": true
    }
   },
   "outputs": [],
   "source": [
    "#scaling\n",
    "sc = StandardScaler()\n",
    "X_train=sc.fit_transform(X_train)\n",
    "X_test=sc.fit_transform(X_test)"
   ]
  },
  {
   "cell_type": "code",
   "execution_count": 33,
   "metadata": {
    "execution": {
     "iopub.execute_input": "2023-03-06T18:47:20.890065Z",
     "iopub.status.busy": "2023-03-06T18:47:20.889161Z",
     "iopub.status.idle": "2023-03-06T18:47:20.897964Z",
     "shell.execute_reply": "2023-03-06T18:47:20.896662Z",
     "shell.execute_reply.started": "2023-03-06T18:47:20.890019Z"
    }
   },
   "outputs": [],
   "source": [
    "#scaling\n",
    "sc = StandardScaler()\n",
    "X_train=sc.fit_transform(X_train)\n",
    "X_test=sc.fit_transform(X_test)"
   ]
  },
  {
   "cell_type": "code",
   "execution_count": 34,
   "metadata": {
    "execution": {
     "iopub.execute_input": "2023-03-06T18:47:20.902669Z",
     "iopub.status.busy": "2023-03-06T18:47:20.901255Z",
     "iopub.status.idle": "2023-03-06T18:47:20.914452Z",
     "shell.execute_reply": "2023-03-06T18:47:20.912751Z",
     "shell.execute_reply.started": "2023-03-06T18:47:20.902619Z"
    }
   },
   "outputs": [
    {
     "data": {
      "text/plain": [
       "array([[ 0.30265996, -0.42640143, -0.78037595, ..., -1.03126731,\n",
       "        -1.0233017 , -0.87167173],\n",
       "       [ 0.30265996, -0.42640143,  0.44592911, ...,  0.58574174,\n",
       "        -0.11339201,  0.32553301],\n",
       "       [ 0.30265996, -0.42640143,  0.44592911, ...,  1.5918807 ,\n",
       "         0.18991122,  0.37476408],\n",
       "       ...,\n",
       "       [ 0.30265996,  2.34520788, -0.78037595, ...,  0.334207  ,\n",
       "         2.19637874,  0.71333149],\n",
       "       [ 0.30265996,  2.34520788, -0.78037595, ...,  0.90914355,\n",
       "         0.91317277,  0.09527395],\n",
       "       [ 0.30265996, -0.42640143,  1.67223417, ...,  1.5918807 ,\n",
       "         0.18991122, -0.03213369]])"
      ]
     },
     "execution_count": 34,
     "metadata": {},
     "output_type": "execute_result"
    }
   ],
   "source": [
    "X_train"
   ]
  },
  {
   "cell_type": "code",
   "execution_count": 35,
   "metadata": {
    "execution": {
     "iopub.execute_input": "2023-03-06T18:47:20.917944Z",
     "iopub.status.busy": "2023-03-06T18:47:20.916409Z",
     "iopub.status.idle": "2023-03-06T18:47:20.926628Z",
     "shell.execute_reply": "2023-03-06T18:47:20.925468Z",
     "shell.execute_reply.started": "2023-03-06T18:47:20.917883Z"
    }
   },
   "outputs": [
    {
     "name": "stdout",
     "output_type": "stream",
     "text": [
      "X_train shape: (143, 13)\n",
      "X_test shape: (62, 13)\n",
      "y_train shape: (143,)\n",
      "y_test shape: (62,)\n"
     ]
    }
   ],
   "source": [
    "print(\"X_train shape: {}\".format(X_train.shape))\n",
    "print(\"X_test shape: {}\".format(X_test.shape))\n",
    "print(\"y_train shape: {}\".format(y_train.shape))\n",
    "print(\"y_test shape: {}\".format(y_test.shape))"
   ]
  },
  {
   "cell_type": "markdown",
   "metadata": {},
   "source": [
    "## fitting model"
   ]
  },
  {
   "cell_type": "code",
   "execution_count": 36,
   "metadata": {
    "execution": {
     "iopub.execute_input": "2023-03-06T18:47:20.929459Z",
     "iopub.status.busy": "2023-03-06T18:47:20.928938Z",
     "iopub.status.idle": "2023-03-06T18:47:20.944793Z",
     "shell.execute_reply": "2023-03-06T18:47:20.943664Z",
     "shell.execute_reply.started": "2023-03-06T18:47:20.929405Z"
    }
   },
   "outputs": [
    {
     "data": {
      "text/plain": [
       "LinearRegression()"
      ]
     },
     "execution_count": 36,
     "metadata": {},
     "output_type": "execute_result"
    }
   ],
   "source": [
    "model=LinearRegression()\n",
    "model.fit(X_train, y_train)"
   ]
  },
  {
   "cell_type": "code",
   "execution_count": 37,
   "metadata": {
    "execution": {
     "iopub.execute_input": "2023-03-06T18:47:20.946912Z",
     "iopub.status.busy": "2023-03-06T18:47:20.946472Z",
     "iopub.status.idle": "2023-03-06T18:47:20.962671Z",
     "shell.execute_reply": "2023-03-06T18:47:20.960985Z",
     "shell.execute_reply.started": "2023-03-06T18:47:20.946873Z"
    }
   },
   "outputs": [
    {
     "data": {
      "text/html": [
       "<div>\n",
       "<style scoped>\n",
       "    .dataframe tbody tr th:only-of-type {\n",
       "        vertical-align: middle;\n",
       "    }\n",
       "\n",
       "    .dataframe tbody tr th {\n",
       "        vertical-align: top;\n",
       "    }\n",
       "\n",
       "    .dataframe thead th {\n",
       "        text-align: right;\n",
       "    }\n",
       "</style>\n",
       "<table border=\"1\" class=\"dataframe\">\n",
       "  <thead>\n",
       "    <tr style=\"text-align: right;\">\n",
       "      <th></th>\n",
       "      <th>test</th>\n",
       "      <th>pred</th>\n",
       "    </tr>\n",
       "  </thead>\n",
       "  <tbody>\n",
       "    <tr>\n",
       "      <th>65</th>\n",
       "      <td>18280.0</td>\n",
       "      <td>21173.650000</td>\n",
       "    </tr>\n",
       "    <tr>\n",
       "      <th>141</th>\n",
       "      <td>7126.0</td>\n",
       "      <td>7129.842061</td>\n",
       "    </tr>\n",
       "    <tr>\n",
       "      <th>194</th>\n",
       "      <td>12940.0</td>\n",
       "      <td>14450.148619</td>\n",
       "    </tr>\n",
       "    <tr>\n",
       "      <th>204</th>\n",
       "      <td>22625.0</td>\n",
       "      <td>26644.364138</td>\n",
       "    </tr>\n",
       "    <tr>\n",
       "      <th>188</th>\n",
       "      <td>9995.0</td>\n",
       "      <td>10742.150199</td>\n",
       "    </tr>\n",
       "  </tbody>\n",
       "</table>\n",
       "</div>"
      ],
      "text/plain": [
       "        test          pred\n",
       "65   18280.0  21173.650000\n",
       "141   7126.0   7129.842061\n",
       "194  12940.0  14450.148619\n",
       "204  22625.0  26644.364138\n",
       "188   9995.0  10742.150199"
      ]
     },
     "execution_count": 37,
     "metadata": {},
     "output_type": "execute_result"
    }
   ],
   "source": [
    "y_pred= model.predict(X_test)\n",
    "pd.DataFrame({'test':y_test,'pred':y_pred}).head()"
   ]
  },
  {
   "cell_type": "markdown",
   "metadata": {},
   "source": [
    "## Evaluation"
   ]
  },
  {
   "cell_type": "code",
   "execution_count": 38,
   "metadata": {
    "execution": {
     "iopub.execute_input": "2023-03-06T18:47:20.965863Z",
     "iopub.status.busy": "2023-03-06T18:47:20.964623Z",
     "iopub.status.idle": "2023-03-06T18:47:20.974134Z",
     "shell.execute_reply": "2023-03-06T18:47:20.972869Z",
     "shell.execute_reply.started": "2023-03-06T18:47:20.965779Z"
    }
   },
   "outputs": [
    {
     "name": "stdout",
     "output_type": "stream",
     "text": [
      "MAE: 1398.8596117730021\n",
      " RMSE: 4839041.454967957\n"
     ]
    }
   ],
   "source": [
    "print(f\"MAE: {mean_absolute_error(y_test, y_pred)}\")\n",
    "print(f\" RMSE: {mean_squared_error(y_test, y_pred)}\")"
   ]
  },
  {
   "cell_type": "code",
   "execution_count": 39,
   "metadata": {
    "execution": {
     "iopub.execute_input": "2023-03-06T18:47:20.975849Z",
     "iopub.status.busy": "2023-03-06T18:47:20.975421Z",
     "iopub.status.idle": "2023-03-06T18:47:20.987317Z",
     "shell.execute_reply": "2023-03-06T18:47:20.985871Z",
     "shell.execute_reply.started": "2023-03-06T18:47:20.975805Z"
    }
   },
   "outputs": [
    {
     "data": {
      "text/plain": [
       "0.8920431518162435"
      ]
     },
     "execution_count": 39,
     "metadata": {},
     "output_type": "execute_result"
    }
   ],
   "source": [
    "model.score(X_test,y_test)"
   ]
  },
  {
   "cell_type": "markdown",
   "metadata": {},
   "source": [
    "Evaluation## Step 8: Make predictions : We will use the trained model to make predictions on new data."
   ]
  },
  {
   "cell_type": "markdown",
   "metadata": {},
   "source": [
    "## Step 9: Visualize the predictions : We can visualize the predictions using a scatter plot."
   ]
  },
  {
   "cell_type": "code",
   "execution_count": 3,
   "metadata": {
    "execution": {
     "iopub.execute_input": "2023-03-06T18:47:20.997014Z",
     "iopub.status.busy": "2023-03-06T18:47:20.996488Z",
     "iopub.status.idle": "2023-03-06T18:47:21.284962Z",
     "shell.execute_reply": "2023-03-06T18:47:21.283501Z",
     "shell.execute_reply.started": "2023-03-06T18:47:20.996971Z"
    }
   },
   "outputs": [],
   "source": [
    "# plt.scatter(y_test, y_pred)\n",
    "# plt.xlabel('Actual prices')\n",
    "# plt.ylabel('Predicted prices')\n",
    "# plt.show()"
   ]
  },
  {
   "cell_type": "code",
   "execution_count": 4,
   "metadata": {
    "execution": {
     "iopub.execute_input": "2023-03-06T18:47:21.287325Z",
     "iopub.status.busy": "2023-03-06T18:47:21.286436Z",
     "iopub.status.idle": "2023-03-06T18:47:21.653956Z",
     "shell.execute_reply": "2023-03-06T18:47:21.652300Z",
     "shell.execute_reply.started": "2023-03-06T18:47:21.287283Z"
    }
   },
   "outputs": [],
   "source": [
    "# import seaborn as sns\n",
    "\n",
    "# sns.regplot(x=y_test, y=y_pred)\n",
    "# plt.xlabel('Actual prices')\n",
    "# plt.ylabel('Predicted prices')\n",
    "# plt.show()\n"
   ]
  },
  {
   "cell_type": "markdown",
   "metadata": {},
   "source": [
    "## Conclusion"
   ]
  },
  {
   "cell_type": "markdown",
   "metadata": {},
   "source": [
    "Multiple linear regression is one an extremely useful algorithm for tracking the relationships of continuous variables.\n",
    "\n",
    "Here we reach at the the end of this report which have involved :\n",
    "\n",
    "(1) Business quiestion (2) Importing (3) Data preperation (4) Data understanding(EDA) (5) used Model (6) Evaluate model"
   ]
  }
 ],
 "metadata": {
  "kernelspec": {
   "display_name": "Python 3 (ipykernel)",
   "language": "python",
   "name": "python3"
  },
  "language_info": {
   "codemirror_mode": {
    "name": "ipython",
    "version": 3
   },
   "file_extension": ".py",
   "mimetype": "text/x-python",
   "name": "python",
   "nbconvert_exporter": "python",
   "pygments_lexer": "ipython3",
   "version": "3.9.13"
  }
 },
 "nbformat": 4,
 "nbformat_minor": 4
}
